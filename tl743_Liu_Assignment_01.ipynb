{
 "cells": [
  {
   "cell_type": "markdown",
   "metadata": {},
   "source": [
    "# <center> PPOL 564 | Data Science I: Foundations <br><br> Assignment 1  </center>"
   ]
  },
  {
   "cell_type": "markdown",
   "metadata": {},
   "source": [
    "Please enter your `name` and `netid` in the respective objects as strings. "
   ]
  },
  {
   "cell_type": "code",
   "execution_count": 240,
   "metadata": {},
   "outputs": [],
   "source": [
    "name = \"Tianwei Liu\"\n",
    "netid = \"tl743\""
   ]
  },
  {
   "cell_type": "markdown",
   "metadata": {},
   "source": [
    "## Instructions\n",
    "\n",
    "The following checkpoint assignment seeks to reinforce your knowledge of materials covered up to this point in the course. This assignment should be completed independently or with your randomly assigned partner (see Course Policies \"Homework Partner\" in the Syllabus). \n",
    "\n",
    "Recall that all assignment submissions must adhere to the following guidelines: \n",
    "\n",
    "- (i) all code must run; \n",
    "- (ii) solutions should be readable\n",
    "    + Code should be thoroughly commented (the Professor/TA should be able to understand the codes purpose by reading the comment),\n",
    "    + Coding solutions should be broken up into individual code chunks in Jupyter notebooks, not clumped together into one large code chunk,\n",
    "    + Each student defined function must contain a doc string explaining what the function does, each input argument, and what the function returns;\n",
    "- (iii) Commentary, responses, and/or written solutions should all be written in Markdown and should contain no grammatical or spelling errors;\n",
    "- (iv) All mathematical formulas should be written in LaTex;\n",
    "\n",
    "There are a total of 25 points available for this assignment.\n",
    "\n",
    "\n",
    "## Submitting Assignment\n",
    "\n",
    "Please submit a completed version of your Jupyter notebook (`.ipynb`) via CANVAS. The notebook should be renames as `<netID>_<last-name>_assignment_01.ipynb`. Please consult CANVAS for the required due date."
   ]
  },
  {
   "cell_type": "markdown",
   "metadata": {},
   "source": [
    "# Question 1 \n",
    "__10 Points__\n",
    "\n",
    "Please answer the following questions in no more than a paragraph. Answer the questions directly in the markdown code chunks."
   ]
  },
  {
   "cell_type": "markdown",
   "metadata": {},
   "source": [
    "**1a. What is meant by \"reproducibility\" and why is it important?**"
   ]
  },
  {
   "cell_type": "markdown",
   "metadata": {},
   "source": [
    "There are five key elements to reproducibility. First of all, all files must be readable. Adding necessary comments and explanations can make a file more readable. Second element is portablility. All files should be able to open on another machine. So projects, files paths, and other files must not be machine-specific. Thirdly, file names should not contain spaces and they should be directly relevant to the purpose/use of the specific files. Next, code must be repeatable, meaning that specific codes can be used elsewhere. For example, simple and repeated tasks can be handled with functions. Last point of reproducibility is version control. Version control allows us and our collaborators in the same project to be able to track changes, to record and retrieve all versions at specific time points. Version control makes it easy for programmers to experiment with codes and makes collaboration easier. Reproducibility is important because it guarantees that the results of a particular project can be obtained by anyone else who follows the exact same procedures, thereby upholding scientific rigorousness. "
   ]
  },
  {
   "cell_type": "markdown",
   "metadata": {},
   "source": [
    "**1b. How does version control using Git work?**"
   ]
  },
  {
   "cell_type": "markdown",
   "metadata": {},
   "source": [
    "Version control using Git involves a local directory and a remote repository. Most operations are done locally. In order for a local version to be saved in the Git repository, a file needs to be staged and committed. When committing, Git takes a snapshot of the file. Instead of always comparing with the base version, Git creates a link to the previous version of the file. Git thinks of files as a stream of snapshots. Every time you check out a previous version, Git creates a subbranch in the working tree starting from the checkout point, so that programmers can experiment with codes without losing their previous efforts."
   ]
  },
  {
   "cell_type": "markdown",
   "metadata": {},
   "source": [
    "**1c. What is the difference between the `is`, `in`, and `==` operators in Python?**"
   ]
  },
  {
   "cell_type": "markdown",
   "metadata": {},
   "source": [
    "`is` compares the identity of objects. When we create a copy `b` of `a`, then `a is b` will return true. <hr>\n",
    "`in` is used to check if an element is in a list or sequence or not. Functions that loop through a list of objects usually start with `for \"some_object\" in list`. <hr>\n",
    "`==` checks for equivalence of values of two objects. Even if in some cases, two objects have the same value, therefore `a == b` returns true. They may not be identical, meaning that `a is b` will be false."
   ]
  },
  {
   "cell_type": "markdown",
   "metadata": {},
   "source": [
    "**1d. How do you create a Git repository?**"
   ]
  },
  {
   "cell_type": "markdown",
   "metadata": {},
   "source": [
    "There are several ways to create a Git repository. Locally, one can go to a working directory and type `git init` and then add and commit all files. This will create a Git repository. Alternatively, one can create a repository directly on Github and then use `git remote add origin <URL>` and `git push -u origin master` to push all currently existing files to the repository. "
   ]
  },
  {
   "cell_type": "markdown",
   "metadata": {},
   "source": [
    "**1e. What is a shallow copy and when do shallow copies occur when programming in Python?**"
   ]
  },
  {
   "cell_type": "markdown",
   "metadata": {},
   "source": [
    "A shallow copy points to the same memory cells as the original object. Therefore, any changes made to the shallow copy will be reflected on the original object as well. Shallow copies occur when we create a new object using the `copy()` function to refer it to an existing object. Or, shallow copies are created when we try to duplicate all elements from an object, for example `new_list = list[:]` or when we use commands such as `new_list = list(list)`."
   ]
  },
  {
   "cell_type": "markdown",
   "metadata": {},
   "source": [
    "# Question 2\n",
    "__5 Points__\n",
    "\n",
    "The following data is downloaded from the World Bank and is organized as a nested list. The data reports a country-level aggregate metric for infant mortality rate (IMR) from 2006 - 2016 for 10 countries. The data is in a \"wide format\" where each year of IMR measures are reported as a variable. Note the first list in the nested list reports the variable names and each subsequent list reports the country and year values that correspond with the variable names in the first list. (For more information on how the infant mortality rate is measured, go [here](https://data.worldbank.org/indicator/SP.DYN.IMRT.IN?view=chart).)\n",
    "\n",
    "Please **_write a function_** that converts the `country_data` into a dictionary-based data structure equivalent to the one below (see `converted_data`). In your solution, **do not import any third-party modules or functions**, only use Python's \"batteries included\" functionality. \n",
    "\n",
    "Note that:\n",
    "\n",
    "1. the keys are tuples of country-years; recall that tuples are immutable so we can use them as dictionary keys. \n",
    "2. relevant strings should be converted to numerical values (`int` & `floats`), \n",
    "3. any missing values (`''`) should be converted to the `NoneType`."
   ]
  },
  {
   "cell_type": "code",
   "execution_count": 412,
   "metadata": {},
   "outputs": [],
   "source": [
    "# Raw world bank data of IMR as a nested list.\n",
    "country_data = [\n",
    "    ['Country Name', '2006', '2007', '2008', '2009', '2010', '2011', '2012','2013', '2014', '2015', '2016'],\n",
    "    ['Afghanistan', '', '73.4', '70.8', '68.2', '65.7', '63.3', '61', '58.8', '56.8', '54.9', '53.2'],\n",
    "    ['Belize', '17.5', '17.2', '16.9', '16.5', '16.1', '15.6', '15.1', '', '14', '13.4', '12.8'],\n",
    "    ['Germany', '3.8', '3.7', '3.6', '3.6', '3.5', '3.4', '3.3', '3.3', '3.3', '3.3', '3.2'],\n",
    "    ['Greece', '3.6', '3.5', '3.3', '3.3', '3.2', '3.2', '3.2', '3.2', '3.2', '3.1', '3.1'],\n",
    "    ['Iceland', '2.3', '2.2', '2.1', '2.1', '2', '', '1.8', '1.7', '1.7', '1.7', '1.6'],\n",
    "    ['Nigeria', '93.2', '90', '87', '83.9', '81.1', '78.3', '75.7', '73.3', '71', '69', '66.9'],\n",
    "    ['Thailand', '15', '', '13.8', '13.3', '12.8', '12.4', '12', '11.6', '11.2', '10.8', '10.5'],\n",
    "    ['United States', '6.7', '6.6', '6.5', '6.4', '6.2', '6.1', '6', '5.9', '5.8', '5.7', '5.6'],\n",
    "    ['Venezuela, RB', '15.4', '15', '14.8', '14.7', '14.7', '14.7', '14.7', '14.6', '', '14.3', '14'],\n",
    "    ['Ethiopia','66.4', '62.9', '59.5', '56.5', '', '51.1', '48.6', '46.4', '44.4', '42.6', '41']\n",
    "]"
   ]
  },
  {
   "cell_type": "markdown",
   "metadata": {},
   "source": [
    "Convert your data so that it is equivalent in value to the following dictionary object, `converted_data`."
   ]
  },
  {
   "cell_type": "code",
   "execution_count": 440,
   "metadata": {},
   "outputs": [],
   "source": [
    "converted_data = {\n",
    " ('Afghanistan', 2006): None,\n",
    " ('Afghanistan', 2007): 73.4,\n",
    " ('Afghanistan', 2008): 70.8,\n",
    " ('Afghanistan', 2009): 68.2,\n",
    " ('Afghanistan', 2010): 65.7,\n",
    " ('Afghanistan', 2011): 63.3,\n",
    " ('Afghanistan', 2012): 61.0,\n",
    " ('Afghanistan', 2013): 58.8,\n",
    " ('Afghanistan', 2014): 56.8,\n",
    " ('Afghanistan', 2015): 54.9,\n",
    " ('Afghanistan', 2016): 53.2,\n",
    " ('Belize', 2006): 17.5,\n",
    " ('Belize', 2007): 17.2,\n",
    " ('Belize', 2008): 16.9,\n",
    " ('Belize', 2009): 16.5,\n",
    " ('Belize', 2010): 16.1,\n",
    " ('Belize', 2011): 15.6,\n",
    " ('Belize', 2012): 15.1,\n",
    " ('Belize', 2013): None,\n",
    " ('Belize', 2014): 14.0,\n",
    " ('Belize', 2015): 13.4,\n",
    " ('Belize', 2016): 12.8,\n",
    " ('Ethiopia', 2006): 66.4,\n",
    " ('Ethiopia', 2007): 62.9,\n",
    " ('Ethiopia', 2008): 59.5,\n",
    " ('Ethiopia', 2009): 56.5,\n",
    " ('Ethiopia', 2010): None,\n",
    " ('Ethiopia', 2011): 51.1,\n",
    " ('Ethiopia', 2012): 48.6,\n",
    " ('Ethiopia', 2013): 46.4,\n",
    " ('Ethiopia', 2014): 44.4,\n",
    " ('Ethiopia', 2015): 42.6,\n",
    " ('Ethiopia', 2016): 41.0,\n",
    " ('Germany', 2006): 3.8,\n",
    " ('Germany', 2007): 3.7,\n",
    " ('Germany', 2008): 3.6,\n",
    " ('Germany', 2009): 3.6,\n",
    " ('Germany', 2010): 3.5,\n",
    " ('Germany', 2011): 3.4,\n",
    " ('Germany', 2012): 3.3,\n",
    " ('Germany', 2013): 3.3,\n",
    " ('Germany', 2014): 3.3,\n",
    " ('Germany', 2015): 3.3,\n",
    " ('Germany', 2016): 3.2,\n",
    " ('Greece', 2006): 3.6,\n",
    " ('Greece', 2007): 3.5,\n",
    " ('Greece', 2008): 3.3,\n",
    " ('Greece', 2009): 3.3,\n",
    " ('Greece', 2010): 3.2,\n",
    " ('Greece', 2011): 3.2,\n",
    " ('Greece', 2012): 3.2,\n",
    " ('Greece', 2013): 3.2,\n",
    " ('Greece', 2014): 3.2,\n",
    " ('Greece', 2015): 3.1,\n",
    " ('Greece', 2016): 3.1,\n",
    " ('Iceland', 2006): 2.3,\n",
    " ('Iceland', 2007): 2.2,\n",
    " ('Iceland', 2008): 2.1,\n",
    " ('Iceland', 2009): 2.1,\n",
    " ('Iceland', 2010): 2.0,\n",
    " ('Iceland', 2011): None,\n",
    " ('Iceland', 2012): 1.8,\n",
    " ('Iceland', 2013): 1.7,\n",
    " ('Iceland', 2014): 1.7,\n",
    " ('Iceland', 2015): 1.7,\n",
    " ('Iceland', 2016): 1.6,\n",
    " ('Nigeria', 2006): 93.2,\n",
    " ('Nigeria', 2007): 90.0,\n",
    " ('Nigeria', 2008): 87.0,\n",
    " ('Nigeria', 2009): 83.9,\n",
    " ('Nigeria', 2010): 81.1,\n",
    " ('Nigeria', 2011): 78.3,\n",
    " ('Nigeria', 2012): 75.7,\n",
    " ('Nigeria', 2013): 73.3,\n",
    " ('Nigeria', 2014): 71.0,\n",
    " ('Nigeria', 2015): 69.0,\n",
    " ('Nigeria', 2016): 66.9,\n",
    " ('Thailand', 2006): 15.0,\n",
    " ('Thailand', 2007): None,\n",
    " ('Thailand', 2008): 13.8,\n",
    " ('Thailand', 2009): 13.3,\n",
    " ('Thailand', 2010): 12.8,\n",
    " ('Thailand', 2011): 12.4,\n",
    " ('Thailand', 2012): 12.0,\n",
    " ('Thailand', 2013): 11.6,\n",
    " ('Thailand', 2014): 11.2,\n",
    " ('Thailand', 2015): 10.8,\n",
    " ('Thailand', 2016): 10.5,\n",
    " ('United States', 2006): 6.7,\n",
    " ('United States', 2007): 6.6,\n",
    " ('United States', 2008): 6.5,\n",
    " ('United States', 2009): 6.4,\n",
    " ('United States', 2010): 6.2,\n",
    " ('United States', 2011): 6.1,\n",
    " ('United States', 2012): 6.0,\n",
    " ('United States', 2013): 5.9,\n",
    " ('United States', 2014): 5.8,\n",
    " ('United States', 2015): 5.7,\n",
    " ('United States', 2016): 5.6,\n",
    " ('Venezuela, RB', 2006): 15.4,\n",
    " ('Venezuela, RB', 2007): 15.0,\n",
    " ('Venezuela, RB', 2008): 14.8,\n",
    " ('Venezuela, RB', 2009): 14.7,\n",
    " ('Venezuela, RB', 2010): 14.7,\n",
    " ('Venezuela, RB', 2011): 14.7,\n",
    " ('Venezuela, RB', 2012): 14.7,\n",
    " ('Venezuela, RB', 2013): 14.6,\n",
    " ('Venezuela, RB', 2014): None,\n",
    " ('Venezuela, RB', 2015): 14.3,\n",
    " ('Venezuela, RB', 2016): 14.0}"
   ]
  },
  {
   "cell_type": "markdown",
   "metadata": {},
   "source": [
    "Please write and execute your function in the code chunk below. Please store the output of your object into an object names `my_converted_data`."
   ]
  },
  {
   "cell_type": "code",
   "execution_count": 441,
   "metadata": {
    "scrolled": true
   },
   "outputs": [
    {
     "data": {
      "text/plain": [
       "{('Afghanistan', 2006): None,\n",
       " ('Afghanistan', 2007): 73.4,\n",
       " ('Afghanistan', 2008): 70.8,\n",
       " ('Afghanistan', 2009): 68.2,\n",
       " ('Afghanistan', 2010): 65.7,\n",
       " ('Afghanistan', 2011): 63.3,\n",
       " ('Afghanistan', 2012): 61.0,\n",
       " ('Afghanistan', 2013): 58.8,\n",
       " ('Afghanistan', 2014): 56.8,\n",
       " ('Afghanistan', 2015): 54.9,\n",
       " ('Afghanistan', 2016): 53.2,\n",
       " ('Belize', 2006): 17.5,\n",
       " ('Belize', 2007): 17.2,\n",
       " ('Belize', 2008): 16.9,\n",
       " ('Belize', 2009): 16.5,\n",
       " ('Belize', 2010): 16.1,\n",
       " ('Belize', 2011): 15.6,\n",
       " ('Belize', 2012): 15.1,\n",
       " ('Belize', 2013): None,\n",
       " ('Belize', 2014): 14.0,\n",
       " ('Belize', 2015): 13.4,\n",
       " ('Belize', 2016): 12.8,\n",
       " ('Ethiopia', 2006): 66.4,\n",
       " ('Ethiopia', 2007): 62.9,\n",
       " ('Ethiopia', 2008): 59.5,\n",
       " ('Ethiopia', 2009): 56.5,\n",
       " ('Ethiopia', 2010): None,\n",
       " ('Ethiopia', 2011): 51.1,\n",
       " ('Ethiopia', 2012): 48.6,\n",
       " ('Ethiopia', 2013): 46.4,\n",
       " ('Ethiopia', 2014): 44.4,\n",
       " ('Ethiopia', 2015): 42.6,\n",
       " ('Ethiopia', 2016): 41.0,\n",
       " ('Germany', 2006): 3.8,\n",
       " ('Germany', 2007): 3.7,\n",
       " ('Germany', 2008): 3.6,\n",
       " ('Germany', 2009): 3.6,\n",
       " ('Germany', 2010): 3.5,\n",
       " ('Germany', 2011): 3.4,\n",
       " ('Germany', 2012): 3.3,\n",
       " ('Germany', 2013): 3.3,\n",
       " ('Germany', 2014): 3.3,\n",
       " ('Germany', 2015): 3.3,\n",
       " ('Germany', 2016): 3.2,\n",
       " ('Greece', 2006): 3.6,\n",
       " ('Greece', 2007): 3.5,\n",
       " ('Greece', 2008): 3.3,\n",
       " ('Greece', 2009): 3.3,\n",
       " ('Greece', 2010): 3.2,\n",
       " ('Greece', 2011): 3.2,\n",
       " ('Greece', 2012): 3.2,\n",
       " ('Greece', 2013): 3.2,\n",
       " ('Greece', 2014): 3.2,\n",
       " ('Greece', 2015): 3.1,\n",
       " ('Greece', 2016): 3.1,\n",
       " ('Iceland', 2006): 2.3,\n",
       " ('Iceland', 2007): 2.2,\n",
       " ('Iceland', 2008): 2.1,\n",
       " ('Iceland', 2009): 2.1,\n",
       " ('Iceland', 2010): 2.0,\n",
       " ('Iceland', 2011): None,\n",
       " ('Iceland', 2012): 1.8,\n",
       " ('Iceland', 2013): 1.7,\n",
       " ('Iceland', 2014): 1.7,\n",
       " ('Iceland', 2015): 1.7,\n",
       " ('Iceland', 2016): 1.6,\n",
       " ('Nigeria', 2006): 93.2,\n",
       " ('Nigeria', 2007): 90.0,\n",
       " ('Nigeria', 2008): 87.0,\n",
       " ('Nigeria', 2009): 83.9,\n",
       " ('Nigeria', 2010): 81.1,\n",
       " ('Nigeria', 2011): 78.3,\n",
       " ('Nigeria', 2012): 75.7,\n",
       " ('Nigeria', 2013): 73.3,\n",
       " ('Nigeria', 2014): 71.0,\n",
       " ('Nigeria', 2015): 69.0,\n",
       " ('Nigeria', 2016): 66.9,\n",
       " ('Thailand', 2006): 15.0,\n",
       " ('Thailand', 2007): None,\n",
       " ('Thailand', 2008): 13.8,\n",
       " ('Thailand', 2009): 13.3,\n",
       " ('Thailand', 2010): 12.8,\n",
       " ('Thailand', 2011): 12.4,\n",
       " ('Thailand', 2012): 12.0,\n",
       " ('Thailand', 2013): 11.6,\n",
       " ('Thailand', 2014): 11.2,\n",
       " ('Thailand', 2015): 10.8,\n",
       " ('Thailand', 2016): 10.5,\n",
       " ('United States', 2006): 6.7,\n",
       " ('United States', 2007): 6.6,\n",
       " ('United States', 2008): 6.5,\n",
       " ('United States', 2009): 6.4,\n",
       " ('United States', 2010): 6.2,\n",
       " ('United States', 2011): 6.1,\n",
       " ('United States', 2012): 6.0,\n",
       " ('United States', 2013): 5.9,\n",
       " ('United States', 2014): 5.8,\n",
       " ('United States', 2015): 5.7,\n",
       " ('United States', 2016): 5.6,\n",
       " ('Venezuela, RB', 2006): 15.4,\n",
       " ('Venezuela, RB', 2007): 15.0,\n",
       " ('Venezuela, RB', 2008): 14.8,\n",
       " ('Venezuela, RB', 2009): 14.7,\n",
       " ('Venezuela, RB', 2010): 14.7,\n",
       " ('Venezuela, RB', 2011): 14.7,\n",
       " ('Venezuela, RB', 2012): 14.7,\n",
       " ('Venezuela, RB', 2013): 14.6,\n",
       " ('Venezuela, RB', 2014): None,\n",
       " ('Venezuela, RB', 2015): 14.3,\n",
       " ('Venezuela, RB', 2016): 14.0}"
      ]
     },
     "execution_count": 441,
     "metadata": {},
     "output_type": "execute_result"
    }
   ],
   "source": [
    "def conversion(data):\n",
    "    '''\n",
    "    This function reorgnizes the country_data into a {country_name, year : data} style dictionary object by \n",
    "    alphabetical order.\n",
    "    \n",
    "    The function consists of several steps. First of all, we create a list called \"country_year_list\" which is used\n",
    "    to store the \"keys\" of the dictionary. Secondly, we try to convert all '' (empty strings) into None and others \n",
    "    into float type. Next, we use a loop to look for statistics in certain columns and rows to complete the dictionary.\n",
    "    Finally, we sort the dictionary by alphabetical order. \n",
    "    \n",
    "    Arguments: \n",
    "        data: a nested list that contains all information we would need to complete this action.\n",
    "        \n",
    "    Return:\n",
    "        my_converted_data1: a sorted dictionary of {country_name, year : data}.\n",
    "    '''\n",
    "    country_list = []\n",
    "    [country_list.append(i[0]) for i in country_data] ## Try to obtain all names of countries\n",
    "    country_list.remove(\"Country Name\") ## Remove the first element\n",
    "    \n",
    "    country_year_list = [] ## Now we initialize for a list which will include both country names and years\n",
    "    for country in country_list:\n",
    "        for year in data[0][1:]:\n",
    "            country_year_list.append([country,float(year)]) ## Add year to country_list and create a nested list, \n",
    "                                                     ##note that this list has 110 (number of countries times \n",
    "                                                     ##number of years) sublists\n",
    "    #return(country_year_list)\n",
    "    \n",
    "    for i in data[1:]:\n",
    "        for m in i[1:]: ## Look through every element in the dataset\n",
    "            if m == '': ## Check conditions: if the element is an empty string\n",
    "                data[data.index(i)][i.index(m)] = None ## if yes, then convert it to None type\n",
    "            elif m != None: \n",
    "                data[data.index(i)][i.index(m)] = float(data[data.index(i)][i.index(m)]) \n",
    "                                                    ## after conversion, if not None, then convert to float\n",
    "\n",
    "    my_converted_data0 = {} ## Intialize a container\n",
    "    for i in range (len(country_year_list)):\n",
    "        country_index = i // 11 ## The first 11 elements are the first country, 12-22th elements are the second country\n",
    "                                ## ... and so on. So this is used as the index of country in the original country_data\n",
    "        year_index = i % 11 ## Similarly, the first element, 12th element, 23rd element... are the first yaer (2006)\n",
    "        new_dict = {(country_year_list[i][0],int(country_year_list[i][1])):data[country_index+1][year_index+1]}\n",
    "                                ## Input the ('country',year):data into dictionary and convert year to \"integer\"\n",
    "        my_converted_data0.update(new_dict)\n",
    "        \n",
    "    my_converted_data1={}\n",
    "    for k,v in sorted(my_converted_data0.items()):\n",
    "        my_converted_data1.update({k:v})\n",
    "    return (my_converted_data1) ## Sort the dictionary alphabetically\n",
    "\n",
    "my_converted_data = conversion(country_data)\n",
    "my_converted_data\n"
   ]
  },
  {
   "cell_type": "markdown",
   "metadata": {},
   "source": [
    "Check to see if your object and `converted_data` object are equivalent in value."
   ]
  },
  {
   "cell_type": "code",
   "execution_count": 444,
   "metadata": {},
   "outputs": [
    {
     "data": {
      "text/plain": [
       "True"
      ]
     },
     "execution_count": 444,
     "metadata": {},
     "output_type": "execute_result"
    }
   ],
   "source": [
    "my_converted_data == converted_data"
   ]
  },
  {
   "cell_type": "markdown",
   "metadata": {},
   "source": [
    "# Question 3\n",
    "\n",
    "Using the reformatted World Bank data from Question 2, please answer the following questions. Again, **do not import any third-party modules or functions** in answering these questions only use Python's \"batteries included\" functionality. \n",
    "\n",
    "> Note: that if you're struggling with Question 2, you can use the already generated `converted_data` object to answer Question 3."
   ]
  },
  {
   "cell_type": "markdown",
   "metadata": {},
   "source": [
    "## 3a: Which country-year has the lowest infant mortality rate, given the available data?\n",
    "\n",
    "__5 points__\n",
    "\n",
    "Please write a program in python that calculates this statistic and locates the relevant country-year key. Use the \"`min_cntyear`\" label to store the key. (Hint: `min()` is a built-in function that locates the minimum value in a list.)\n",
    "\n",
    "Print the `min_cntyear` object at the end of the code chunk. "
   ]
  },
  {
   "cell_type": "code",
   "execution_count": 445,
   "metadata": {},
   "outputs": [
    {
     "data": {
      "text/plain": [
       "(('Iceland', 2016), 1.6)"
      ]
     },
     "execution_count": 445,
     "metadata": {},
     "output_type": "execute_result"
    }
   ],
   "source": [
    "none_dict = {k:v for k,v in my_converted_data.items() if v == None} ## Create a dictionary for None types\n",
    "#print (none_dict)\n",
    "\n",
    "without_none_dict = {k:v for k,v in my_converted_data.items() if k not in none_dict} ## Delete None type entries from\n",
    "                                                                                     ## the my_converted_data dictionary\n",
    "#print (without_none_dict)\n",
    "\n",
    "min_cntyear = min (without_none_dict.items(), key = lambda x: x[1]) ## Find min and store the key\n",
    "min_cntyear"
   ]
  },
  {
   "cell_type": "markdown",
   "metadata": {},
   "source": [
    "## 3b: What is the average infant mortality rate for each country, given the available data?\n",
    "\n",
    "__5 points__\n",
    "\n",
    "Please write a program in python using what we know that calculates the necessary statistic and store the result as a dictionary using the country as key and the average infant mortality rate as value. Please refer to the `dict` object as \"`country_aves`\". Averages should be rounded to the 1st decimal place.\n",
    "\n",
    "Equation for calculating the average:\n",
    "\n",
    "$$ \\bar{x} = \\frac{1}{N} \\sum_{i=1}^{N} x_i$$\n",
    "\n",
    "where $x_i \\in \\{x_1,x_2,\\dots,x_n\\}$ and $N$ denotes the length of the series.\n",
    "\n",
    "> Hint: `sum()` is a built-in function that adds together an iterable containing numerical values, and `round()` rounds values to the nearest specified decimal."
   ]
  },
  {
   "cell_type": "code",
   "execution_count": 446,
   "metadata": {},
   "outputs": [
    {
     "data": {
      "text/plain": [
       "{'Afghanistan': 62.6,\n",
       " 'Belize': 15.5,\n",
       " 'Ethiopia': 51.9,\n",
       " 'Germany': 3.5,\n",
       " 'Greece': 3.3,\n",
       " 'Iceland': 1.9,\n",
       " 'Nigeria': 79.0,\n",
       " 'Thailand': 12.3,\n",
       " 'United States': 6.1,\n",
       " 'Venezuela, RB': 14.7}"
      ]
     },
     "execution_count": 446,
     "metadata": {},
     "output_type": "execute_result"
    }
   ],
   "source": [
    "country_list = [] ## initialize a list with all names of countries\n",
    "for k,v in my_converted_data.items():\n",
    "    country_list.append(k[0]) ## Grab the first element in key in dictionary\n",
    "country_list = sorted(list(set(country_list))) ## Delete all repetitions of country names and sort it alphabetically\n",
    "country_list\n",
    "\n",
    "count = [0] * len(country_list) \n",
    "for country in country_list:\n",
    "    for country_year, value in without_none_dict.items():\n",
    "        if country in country_year:\n",
    "            count[country_list.index(country)] = count[country_list.index(country)] + 1\n",
    "                                                            ## Count how many Nonetype observations each country has\n",
    "                                                            ## and store the valid number of observations in a list\n",
    "## print (count)\n",
    "\n",
    "average = [0] * 10 ## Initialize a container for average infant mortality rate each country\n",
    "position = 0 ## Counter\n",
    "for i in country_list:\n",
    "    value = 0 ## Initialize in each iteration\n",
    "    for j in range(2006,2017): \n",
    "        if my_converted_data[i,j] != None: ## if None\n",
    "            value = value + my_converted_data[i,j] ## Add value \n",
    "    average[position] = round(value/count[position],1) ## store value in the list of average\n",
    "    position = position + 1 ## Counter + 1\n",
    "#average\n",
    "country_aves = {} ## intialize an empty dictionary container\n",
    "for i in range(len(average)):\n",
    "    country_aves.update({country_list[i]:average[i]}) ## Update dictionary\n",
    "country_aves           "
   ]
  },
  {
   "cell_type": "code",
   "execution_count": null,
   "metadata": {},
   "outputs": [],
   "source": []
  }
 ],
 "metadata": {
  "kernelspec": {
   "display_name": "Python 3",
   "language": "python",
   "name": "python3"
  },
  "language_info": {
   "codemirror_mode": {
    "name": "ipython",
    "version": 3
   },
   "file_extension": ".py",
   "mimetype": "text/x-python",
   "name": "python",
   "nbconvert_exporter": "python",
   "pygments_lexer": "ipython3",
   "version": "3.7.3"
  },
  "toc": {
   "base_numbering": 1,
   "nav_menu": {},
   "number_sections": false,
   "sideBar": false,
   "skip_h1_title": false,
   "title_cell": "Table of Contents",
   "title_sidebar": "Contents",
   "toc_cell": false,
   "toc_position": {},
   "toc_section_display": true,
   "toc_window_display": false
  }
 },
 "nbformat": 4,
 "nbformat_minor": 2
}

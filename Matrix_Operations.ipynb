{
 "cells": [
  {
   "cell_type": "markdown",
   "metadata": {},
   "source": [
    "# Coding Discussion 5 \n",
    "Tianwei Liu <br>\n",
    "tl743"
   ]
  },
  {
   "cell_type": "markdown",
   "metadata": {},
   "source": [
    "## Task 1"
   ]
  },
  {
   "cell_type": "code",
   "execution_count": 13,
   "metadata": {},
   "outputs": [],
   "source": [
    "def transpose(A):\n",
    "    '''\n",
    "    This function transposes the input matrix A.\n",
    "    '''\n",
    "    T = [] ## Initialize an empty container\n",
    "    for i in range(len(A[0])):\n",
    "        c = []\n",
    "        for j in range(len(A)):\n",
    "            c.append(A[j][i])\n",
    "        T.append(c)\n",
    "    return (T)"
   ]
  },
  {
   "cell_type": "code",
   "execution_count": 194,
   "metadata": {},
   "outputs": [],
   "source": [
    "B = [[-1,0,2],\n",
    "     [2,1,0],\n",
    "     [8,3,2],\n",
    "     [1,0,2]]"
   ]
  },
  {
   "cell_type": "code",
   "execution_count": 195,
   "metadata": {},
   "outputs": [
    {
     "data": {
      "text/plain": [
       "[[-1, 2, 8, 1], [0, 1, 3, 0], [2, 0, 2, 2]]"
      ]
     },
     "execution_count": 195,
     "metadata": {},
     "output_type": "execute_result"
    }
   ],
   "source": [
    "BT = transpose (B)\n",
    "BT"
   ]
  },
  {
   "cell_type": "markdown",
   "metadata": {},
   "source": [
    "## Task 2"
   ]
  },
  {
   "cell_type": "code",
   "execution_count": 143,
   "metadata": {},
   "outputs": [
    {
     "data": {
      "text/plain": [
       "40"
      ]
     },
     "execution_count": 143,
     "metadata": {},
     "output_type": "execute_result"
    }
   ],
   "source": [
    "\n",
    "a = [1,2,3,4]\n",
    "b = [2,3,4,5,6]\n",
    "dot (a,b)"
   ]
  },
  {
   "cell_type": "code",
   "execution_count": 7,
   "metadata": {},
   "outputs": [],
   "source": [
    "def dotproduct (A, B):\n",
    "    '''\n",
    "    This function provides the dot product of two matrices A and B.\n",
    "    '''\n",
    "    AT = transpose(A)\n",
    "    dot = lambda X,Y: sum(map(lambda x,y: x*y, X,Y)) ## Dot product between two lists\n",
    "    cols_A = len(A)\n",
    "    rows_B = len(B[0])\n",
    "\n",
    "    if cols_A != rows_B:\n",
    "      print (\"Cannot multiply the two matrices. Incorrect dimensions.\")\n",
    "      return\n",
    "\n",
    "    P = []\n",
    "    for i in AT:\n",
    "        R = []\n",
    "        for j in B:\n",
    "            r = dot (i,j)\n",
    "            R.append(r)\n",
    "        P.append(R)\n",
    "    return(P)"
   ]
  },
  {
   "cell_type": "code",
   "execution_count": 201,
   "metadata": {},
   "outputs": [],
   "source": [
    "M = [[1,3,4],\n",
    "     [0,-1,2],\n",
    "     [2,4,8]]\n",
    "N = [[-1,0,2],\n",
    "     [2,1,0],\n",
    "     [8,3,2],\n",
    "     [1,0,2]]"
   ]
  },
  {
   "cell_type": "code",
   "execution_count": 203,
   "metadata": {},
   "outputs": [
    {
     "data": {
      "text/plain": [
       "[[3, 5, 12], [2, 5, 10], [12, 29, 54], [5, 11, 20]]"
      ]
     },
     "execution_count": 203,
     "metadata": {},
     "output_type": "execute_result"
    }
   ],
   "source": [
    "DPResult = transpose (dotproduct (M,N))\n",
    "DPResult"
   ]
  },
  {
   "cell_type": "markdown",
   "metadata": {},
   "source": [
    "## Task 3"
   ]
  },
  {
   "cell_type": "code",
   "execution_count": 5,
   "metadata": {},
   "outputs": [],
   "source": [
    "A = [[1,3],\n",
    "     [0,-1],\n",
    "     [2,4]]"
   ]
  },
  {
   "cell_type": "code",
   "execution_count": 205,
   "metadata": {},
   "outputs": [
    {
     "data": {
      "text/plain": [
       "[[5, 11], [11, 26]]"
      ]
     },
     "execution_count": 205,
     "metadata": {},
     "output_type": "execute_result"
    }
   ],
   "source": [
    "AA = dotproduct (A,transpose(A))\n",
    "AA"
   ]
  },
  {
   "cell_type": "code",
   "execution_count": 212,
   "metadata": {},
   "outputs": [],
   "source": [
    "def inverse(A):\n",
    "    '''\n",
    "    This function calculates the inverse matrix of a 2*2 matrix.\n",
    "    '''\n",
    "    a = A[0][0]\n",
    "    b = A[1][0]\n",
    "    c = A[0][1]\n",
    "    d = A[1][1]\n",
    "    det = a*d - b*c\n",
    "    ai = 1/det * a\n",
    "    bi = 1/det * b\n",
    "    ci = 1/det * c\n",
    "    di = 1/det * d\n",
    "    AI = [[di,-ci],[-bi,ai]]\n",
    "    print (AI)"
   ]
  },
  {
   "cell_type": "code",
   "execution_count": 213,
   "metadata": {},
   "outputs": [
    {
     "name": "stdout",
     "output_type": "stream",
     "text": [
      "[[2.888888888888889, -1.222222222222222], [-1.222222222222222, 0.5555555555555556]]\n"
     ]
    }
   ],
   "source": [
    "inverse(AA)"
   ]
  }
 ],
 "metadata": {
  "kernelspec": {
   "display_name": "Python 3",
   "language": "python",
   "name": "python3"
  },
  "language_info": {
   "codemirror_mode": {
    "name": "ipython",
    "version": 3
   },
   "file_extension": ".py",
   "mimetype": "text/x-python",
   "name": "python",
   "nbconvert_exporter": "python",
   "pygments_lexer": "ipython3",
   "version": "3.7.3"
  }
 },
 "nbformat": 4,
 "nbformat_minor": 2
}

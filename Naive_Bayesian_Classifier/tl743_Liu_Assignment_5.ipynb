{
 "cells": [
  {
   "cell_type": "markdown",
   "metadata": {},
   "source": [
    "# <center> PPOL564: DS1 | Foundations <br><br> Checkpoint Assignment 5 </center>\n",
    "\n",
    "# Instructions\n",
    "\n",
    "In this assignment, you'll practice on what you have learned regarding the probability concepts covered in this course. This assignment should be completed independently or with your randomly assigned partner (see Course Policies \"Homework Partner\" in the Syllabus). \n",
    "\n",
    "**Be careful to follow the instructions for each question.** \n",
    "\n",
    "Recall that all assignment submissions must adhere to the following guidelines: \n",
    "\n",
    "- (i) all code must run; one point will be deducted if the entire notebook doesn't run on the Professor's/TA's computer (<font color = \"darkred\">Point(s) = 1</font>)\n",
    "- (ii) solutions should be readable\n",
    "    + Code should be thoroughly commented (the Professor/TA should be able to understand the code's purpose by reading the comment),\n",
    "    + Coding solutions should be broken up into individual code chunks in Jupyter notebooks, not clumped together into one large code chunk,\n",
    "    + Each student defined function must contain a doc string explaining what the function does, each input argument, and what the function returns;\n",
    "    + All numerical output should be rounded to the second decimal place.\n",
    "- (iii) Commentary, responses, and/or written solutions should all be written in Markdown and should contain no grammatical or spelling errors;\n",
    "- (iv) All mathematical formulas should be written in LaTex;\n",
    "\n",
    "There are a total of **_11 points_** available for this assignment."
   ]
  },
  {
   "cell_type": "code",
   "execution_count": 1,
   "metadata": {},
   "outputs": [],
   "source": [
    "import pandas as pd\n",
    "import numpy as np\n",
    "import pprint as pp\n",
    "import scipy.stats as st # for Normal PDF"
   ]
  },
  {
   "cell_type": "markdown",
   "metadata": {},
   "source": [
    "# Part 1: Probability"
   ]
  },
  {
   "cell_type": "markdown",
   "metadata": {},
   "source": [
    "Use the following table is composed of respondents in the DMV regarding their transportation preferences to work. Please calculate the probabilities for questions 1 through 3 using this table. "
   ]
  },
  {
   "cell_type": "code",
   "execution_count": 28,
   "metadata": {},
   "outputs": [
    {
     "data": {
      "text/html": [
       "<div>\n",
       "<style scoped>\n",
       "    .dataframe tbody tr th:only-of-type {\n",
       "        vertical-align: middle;\n",
       "    }\n",
       "\n",
       "    .dataframe tbody tr th {\n",
       "        vertical-align: top;\n",
       "    }\n",
       "\n",
       "    .dataframe thead th {\n",
       "        text-align: right;\n",
       "    }\n",
       "</style>\n",
       "<table border=\"1\" class=\"dataframe\">\n",
       "  <thead>\n",
       "    <tr style=\"text-align: right;\">\n",
       "      <th></th>\n",
       "      <th>Male</th>\n",
       "      <th>Female</th>\n",
       "      <th>Other</th>\n",
       "    </tr>\n",
       "  </thead>\n",
       "  <tbody>\n",
       "    <tr>\n",
       "      <th>Drive</th>\n",
       "      <td>100</td>\n",
       "      <td>87</td>\n",
       "      <td>5</td>\n",
       "    </tr>\n",
       "    <tr>\n",
       "      <th>Metro</th>\n",
       "      <td>57</td>\n",
       "      <td>301</td>\n",
       "      <td>22</td>\n",
       "    </tr>\n",
       "    <tr>\n",
       "      <th>Uber</th>\n",
       "      <td>67</td>\n",
       "      <td>53</td>\n",
       "      <td>12</td>\n",
       "    </tr>\n",
       "  </tbody>\n",
       "</table>\n",
       "</div>"
      ],
      "text/plain": [
       "       Male  Female  Other\n",
       "Drive   100      87      5\n",
       "Metro    57     301     22\n",
       "Uber     67      53     12"
      ]
     },
     "execution_count": 28,
     "metadata": {},
     "output_type": "execute_result"
    }
   ],
   "source": [
    "tab = pd.DataFrame([[100,87,5],[57,301,22],[67,53,12]],\n",
    "                   columns=[\"Male\",\"Female\",\"Other\"],\n",
    "                   index=[\"Drive\",\"Metro\",\"Uber\"])\n",
    "tab"
   ]
  },
  {
   "cell_type": "code",
   "execution_count": 29,
   "metadata": {},
   "outputs": [
    {
     "data": {
      "text/html": [
       "<div>\n",
       "<style scoped>\n",
       "    .dataframe tbody tr th:only-of-type {\n",
       "        vertical-align: middle;\n",
       "    }\n",
       "\n",
       "    .dataframe tbody tr th {\n",
       "        vertical-align: top;\n",
       "    }\n",
       "\n",
       "    .dataframe thead th {\n",
       "        text-align: right;\n",
       "    }\n",
       "</style>\n",
       "<table border=\"1\" class=\"dataframe\">\n",
       "  <thead>\n",
       "    <tr style=\"text-align: right;\">\n",
       "      <th></th>\n",
       "      <th>Male</th>\n",
       "      <th>Female</th>\n",
       "      <th>Other</th>\n",
       "      <th>Row_Total</th>\n",
       "    </tr>\n",
       "  </thead>\n",
       "  <tbody>\n",
       "    <tr>\n",
       "      <th>Drive</th>\n",
       "      <td>100</td>\n",
       "      <td>87</td>\n",
       "      <td>5</td>\n",
       "      <td>192</td>\n",
       "    </tr>\n",
       "    <tr>\n",
       "      <th>Metro</th>\n",
       "      <td>57</td>\n",
       "      <td>301</td>\n",
       "      <td>22</td>\n",
       "      <td>380</td>\n",
       "    </tr>\n",
       "    <tr>\n",
       "      <th>Uber</th>\n",
       "      <td>67</td>\n",
       "      <td>53</td>\n",
       "      <td>12</td>\n",
       "      <td>132</td>\n",
       "    </tr>\n",
       "    <tr>\n",
       "      <th>Column_Total</th>\n",
       "      <td>224</td>\n",
       "      <td>441</td>\n",
       "      <td>39</td>\n",
       "      <td>704</td>\n",
       "    </tr>\n",
       "  </tbody>\n",
       "</table>\n",
       "</div>"
      ],
      "text/plain": [
       "              Male  Female  Other  Row_Total\n",
       "Drive          100      87      5        192\n",
       "Metro           57     301     22        380\n",
       "Uber            67      53     12        132\n",
       "Column_Total   224     441     39        704"
      ]
     },
     "execution_count": 29,
     "metadata": {},
     "output_type": "execute_result"
    }
   ],
   "source": [
    "tab.loc['Column_Total']= tab.sum(numeric_only=True, axis=0)\n",
    "tab.loc[:,'Row_Total'] = tab.sum(numeric_only=True, axis=1)\n",
    "tab"
   ]
  },
  {
   "cell_type": "markdown",
   "metadata": {},
   "source": [
    "### (1) What is the probability of a respondent taking an uber to work?\n",
    "\n",
    "(_Point 1_)"
   ]
  },
  {
   "cell_type": "markdown",
   "metadata": {},
   "source": [
    "<br>\n",
    "\n",
    "$$ Pr(\\text{Uber}) = \\frac{132}{704} = 0.1875$$\n",
    "\n",
    "<br>"
   ]
  },
  {
   "cell_type": "markdown",
   "metadata": {},
   "source": [
    "### (2) What is the probability of a respondent driving to work given they identify as a male?\n",
    "\n",
    "(_Point 1_)"
   ]
  },
  {
   "cell_type": "markdown",
   "metadata": {},
   "source": [
    "<br>\n",
    "\n",
    "$$ Pr(\\text{Drive|Male}) = \\frac{100}{224} \\approx 0.446$$\n",
    "\n",
    "<br>"
   ]
  },
  {
   "cell_type": "markdown",
   "metadata": {},
   "source": [
    "### (3) What is the probability of a respondent identifying as other given that they report taking the Metro?\n",
    "\n",
    "(_Point 1_)"
   ]
  },
  {
   "cell_type": "markdown",
   "metadata": {},
   "source": [
    "<br>\n",
    "\n",
    "$$ Pr(\\text{Other|Metro}) = \\frac{22}{380} \\approx 0.058$$\n",
    "\n",
    "<br>"
   ]
  },
  {
   "cell_type": "markdown",
   "metadata": {},
   "source": [
    "### (4) What is the probability of a recession given that the yield curve inverted? \n",
    "(_Point 1_)\n",
    "\n",
    "- $Pr(\\text{recession}) = 2.5\\%$\n",
    "- $Pr(\\text{yield curve inverted}) = 12\\%$\n",
    "- $Pr(\\text{recession} \\cap \\text{yield curve inverted}) = .3\\%$"
   ]
  },
  {
   "cell_type": "markdown",
   "metadata": {},
   "source": [
    "<br>\n",
    "\n",
    "$$ Pr(\\text{Recession|yield curve inverted}) = \\frac{Pr (\\text {recessions} \\cap \\text {yield curve inverted})}{Pr(\\text {yield curve inverted})} = \\frac {0.3\\%}{12\\%} = \\text {0.025}$$\n",
    "\n",
    "<br>"
   ]
  },
  {
   "cell_type": "markdown",
   "metadata": {},
   "source": [
    "### (5) Is the probability of a recession dependent on the yield curve inverting? Explain your answer.\n",
    "\n",
    "(_Point 1_)"
   ]
  },
  {
   "cell_type": "markdown",
   "metadata": {},
   "source": [
    "Probability of a recession is dependent on the yield curve inverting. If probability of a recession is dependent on yield curve inverting, then we would have\n",
    "<br>\n",
    "$$ Pr(\\text{Recession|yield curve inverted}) = Pr(\\text {Recession}) $$\n",
    "<br>\n",
    "Given our calculation above, $ Pr(\\text{Recession|yield curve inverted}) = 2.5\\% $ and $ Pr(\\text{Recession}) = 2.5\\% $ are equal. Therefore, the probability of a recession is independent on the yield curve inerting."
   ]
  },
  {
   "cell_type": "markdown",
   "metadata": {},
   "source": [
    "# Part 2: Build a Naive Bayesian Classifier\n",
    "\n",
    "(_Point 5_)"
   ]
  },
  {
   "cell_type": "markdown",
   "metadata": {},
   "source": [
    "**Can we predict whether someone will vote or not?**\n",
    "\n",
    "In the last assignment, we explored the `turnout.csv` data, which was drawn from the 2012 National Election Survey. The data records the age, eduction level (of total years in school), income, race (caucasian or not), and whether or not the respondent voted in the 2012 Presidential election. The sample composes 2000 individual respondents in total. I have broken the data up into a training (1600 entries, 80%) and test dataset (400 entries, 20%) (see below). \n",
    "\n",
    "Use what we learned to build a Naive Bayesian Classifier that tries to predict whether a respondent will vote in a presidential election or not (Class == Vote). The classifier must be built from scratch. Do not use a third party ML or statistical package.\n",
    "\n",
    "Feel free to manipulate the data however you see fit. Run your algorithm and see how it predicts the training data. Then report how accurate you were on predicting someone's propensity to vote in the test data. Did you do better or worse than chance (50%)?\n",
    "\n",
    "When completing this answer, be sure to: \n",
    "\n",
    "- comment on all your code\n",
    "- provide a narrative for what you're doing\n",
    "- summarize your results and findings"
   ]
  },
  {
   "cell_type": "code",
   "execution_count": 101,
   "metadata": {},
   "outputs": [
    {
     "data": {
      "text/html": [
       "<div>\n",
       "<style scoped>\n",
       "    .dataframe tbody tr th:only-of-type {\n",
       "        vertical-align: middle;\n",
       "    }\n",
       "\n",
       "    .dataframe tbody tr th {\n",
       "        vertical-align: top;\n",
       "    }\n",
       "\n",
       "    .dataframe thead th {\n",
       "        text-align: right;\n",
       "    }\n",
       "</style>\n",
       "<table border=\"1\" class=\"dataframe\">\n",
       "  <thead>\n",
       "    <tr style=\"text-align: right;\">\n",
       "      <th></th>\n",
       "      <th>id</th>\n",
       "      <th>age</th>\n",
       "      <th>educate</th>\n",
       "      <th>income</th>\n",
       "      <th>vote</th>\n",
       "      <th>white</th>\n",
       "    </tr>\n",
       "  </thead>\n",
       "  <tbody>\n",
       "    <tr>\n",
       "      <th>0</th>\n",
       "      <td>1353</td>\n",
       "      <td>46</td>\n",
       "      <td>9.0</td>\n",
       "      <td>1.8429</td>\n",
       "      <td>0</td>\n",
       "      <td>0</td>\n",
       "    </tr>\n",
       "    <tr>\n",
       "      <th>1</th>\n",
       "      <td>122</td>\n",
       "      <td>25</td>\n",
       "      <td>15.0</td>\n",
       "      <td>3.8606</td>\n",
       "      <td>1</td>\n",
       "      <td>1</td>\n",
       "    </tr>\n",
       "    <tr>\n",
       "      <th>2</th>\n",
       "      <td>1530</td>\n",
       "      <td>69</td>\n",
       "      <td>17.0</td>\n",
       "      <td>13.3041</td>\n",
       "      <td>1</td>\n",
       "      <td>1</td>\n",
       "    </tr>\n",
       "    <tr>\n",
       "      <th>3</th>\n",
       "      <td>162</td>\n",
       "      <td>53</td>\n",
       "      <td>10.0</td>\n",
       "      <td>3.5800</td>\n",
       "      <td>1</td>\n",
       "      <td>1</td>\n",
       "    </tr>\n",
       "    <tr>\n",
       "      <th>4</th>\n",
       "      <td>1807</td>\n",
       "      <td>34</td>\n",
       "      <td>16.0</td>\n",
       "      <td>5.4713</td>\n",
       "      <td>1</td>\n",
       "      <td>0</td>\n",
       "    </tr>\n",
       "  </tbody>\n",
       "</table>\n",
       "</div>"
      ],
      "text/plain": [
       "     id  age  educate   income  vote  white\n",
       "0  1353   46      9.0   1.8429     0      0\n",
       "1   122   25     15.0   3.8606     1      1\n",
       "2  1530   69     17.0  13.3041     1      1\n",
       "3   162   53     10.0   3.5800     1      1\n",
       "4  1807   34     16.0   5.4713     1      0"
      ]
     },
     "execution_count": 101,
     "metadata": {},
     "output_type": "execute_result"
    }
   ],
   "source": [
    "dat = pd.read_csv('turnout.csv')\n",
    "\n",
    "# Break data up into training and test data\n",
    "train=dat.sample(frac=0.8,random_state=323)\n",
    "test=dat.drop(train.index)\n",
    "\n",
    "# Reset the indices for both the train and test\n",
    "train.reset_index(drop=True,inplace=True)\n",
    "test.reset_index(drop=True,inplace=True)\n",
    "\n",
    "# Preview the training data \n",
    "train.head()"
   ]
  },
  {
   "cell_type": "code",
   "execution_count": 102,
   "metadata": {},
   "outputs": [
    {
     "data": {
      "text/html": [
       "<div>\n",
       "<style scoped>\n",
       "    .dataframe tbody tr th:only-of-type {\n",
       "        vertical-align: middle;\n",
       "    }\n",
       "\n",
       "    .dataframe tbody tr th {\n",
       "        vertical-align: top;\n",
       "    }\n",
       "\n",
       "    .dataframe thead th {\n",
       "        text-align: right;\n",
       "    }\n",
       "</style>\n",
       "<table border=\"1\" class=\"dataframe\">\n",
       "  <thead>\n",
       "    <tr style=\"text-align: right;\">\n",
       "      <th></th>\n",
       "      <th>age</th>\n",
       "      <th>educate</th>\n",
       "      <th>income</th>\n",
       "      <th>vote</th>\n",
       "      <th>white</th>\n",
       "    </tr>\n",
       "  </thead>\n",
       "  <tbody>\n",
       "    <tr>\n",
       "      <th>0</th>\n",
       "      <td>46</td>\n",
       "      <td>9.0</td>\n",
       "      <td>1.8429</td>\n",
       "      <td>0</td>\n",
       "      <td>0</td>\n",
       "    </tr>\n",
       "    <tr>\n",
       "      <th>1</th>\n",
       "      <td>25</td>\n",
       "      <td>15.0</td>\n",
       "      <td>3.8606</td>\n",
       "      <td>1</td>\n",
       "      <td>1</td>\n",
       "    </tr>\n",
       "    <tr>\n",
       "      <th>2</th>\n",
       "      <td>69</td>\n",
       "      <td>17.0</td>\n",
       "      <td>13.3041</td>\n",
       "      <td>1</td>\n",
       "      <td>1</td>\n",
       "    </tr>\n",
       "    <tr>\n",
       "      <th>3</th>\n",
       "      <td>53</td>\n",
       "      <td>10.0</td>\n",
       "      <td>3.5800</td>\n",
       "      <td>1</td>\n",
       "      <td>1</td>\n",
       "    </tr>\n",
       "    <tr>\n",
       "      <th>4</th>\n",
       "      <td>34</td>\n",
       "      <td>16.0</td>\n",
       "      <td>5.4713</td>\n",
       "      <td>1</td>\n",
       "      <td>0</td>\n",
       "    </tr>\n",
       "  </tbody>\n",
       "</table>\n",
       "</div>"
      ],
      "text/plain": [
       "   age  educate   income  vote  white\n",
       "0   46      9.0   1.8429     0      0\n",
       "1   25     15.0   3.8606     1      1\n",
       "2   69     17.0  13.3041     1      1\n",
       "3   53     10.0   3.5800     1      1\n",
       "4   34     16.0   5.4713     1      0"
      ]
     },
     "execution_count": 102,
     "metadata": {},
     "output_type": "execute_result"
    }
   ],
   "source": [
    "## drop id\n",
    "train = train.drop('id',axis = 1)\n",
    "train.head(5)"
   ]
  },
  {
   "cell_type": "code",
   "execution_count": 103,
   "metadata": {},
   "outputs": [],
   "source": [
    "## Step 1: calculate class prob for all continuous variables\n",
    "y1 = train.query(\"vote == 1\")\n",
    "y0 = train.query(\"vote == 0\")\n",
    "\n",
    "# Class probabilities.\n",
    "pr_y1 = y1.shape[0]/train.shape[0]\n",
    "pr_y0 = y0.shape[0]/train.shape[0]"
   ]
  },
  {
   "cell_type": "code",
   "execution_count": 104,
   "metadata": {},
   "outputs": [
    {
     "name": "stdout",
     "output_type": "stream",
     "text": [
      "{('age', 0): {'mean': 42.653753026634384, 'sd': 19.127668078553704},\n",
      " ('age', 1): {'mean': 46.14827295703454, 'sd': 16.760134583719374},\n",
      " ('educate', 0): {'mean': 10.665859564164649, 'sd': 3.2326417027391363},\n",
      " ('educate', 1): {'mean': 12.59519797809604, 'sd': 3.249301731768977},\n",
      " ('income', 0): {'mean': 2.8083740920096854, 'sd': 2.2222018360245834},\n",
      " ('income', 1): {'mean': 4.258665796124673, 'sd': 2.900978327757866}}\n"
     ]
    }
   ],
   "source": [
    "# Collect the mean and standard dev. of each conditional distribution\n",
    "dist_locs = \\\n",
    "{(\"age\",1):{'mean':y1.age.mean(),'sd':y1.age.std()},\n",
    " (\"age\",0):{'mean':y0.age.mean(),'sd':y0.age.std()},\n",
    " (\"educate\",1):{'mean':y1.educate.mean(),'sd':y1.educate.std()},\n",
    " (\"educate\",0):{'mean':y0.educate.mean(),'sd':y0.educate.std()},\n",
    " (\"income\",1):{'mean':y1.income.mean(),'sd':y1.income.std()},\n",
    " (\"income\",0):{'mean':y0.income.mean(),'sd':y0.income.std()}\n",
    "}\n",
    "\n",
    "# Print\n",
    "pp.pprint(dist_locs)"
   ]
  },
  {
   "cell_type": "code",
   "execution_count": 105,
   "metadata": {},
   "outputs": [
    {
     "data": {
      "text/html": [
       "<div>\n",
       "<style scoped>\n",
       "    .dataframe tbody tr th:only-of-type {\n",
       "        vertical-align: middle;\n",
       "    }\n",
       "\n",
       "    .dataframe tbody tr th {\n",
       "        vertical-align: top;\n",
       "    }\n",
       "\n",
       "    .dataframe thead th {\n",
       "        text-align: right;\n",
       "    }\n",
       "</style>\n",
       "<table border=\"1\" class=\"dataframe\">\n",
       "  <thead>\n",
       "    <tr style=\"text-align: right;\">\n",
       "      <th></th>\n",
       "      <th>vote</th>\n",
       "      <th>white</th>\n",
       "    </tr>\n",
       "  </thead>\n",
       "  <tbody>\n",
       "    <tr>\n",
       "      <th>0</th>\n",
       "      <td>0</td>\n",
       "      <td>0</td>\n",
       "    </tr>\n",
       "    <tr>\n",
       "      <th>1</th>\n",
       "      <td>1</td>\n",
       "      <td>1</td>\n",
       "    </tr>\n",
       "    <tr>\n",
       "      <th>2</th>\n",
       "      <td>1</td>\n",
       "      <td>1</td>\n",
       "    </tr>\n",
       "    <tr>\n",
       "      <th>3</th>\n",
       "      <td>1</td>\n",
       "      <td>1</td>\n",
       "    </tr>\n",
       "    <tr>\n",
       "      <th>4</th>\n",
       "      <td>1</td>\n",
       "      <td>0</td>\n",
       "    </tr>\n",
       "  </tbody>\n",
       "</table>\n",
       "</div>"
      ],
      "text/plain": [
       "   vote  white\n",
       "0     0      0\n",
       "1     1      1\n",
       "2     1      1\n",
       "3     1      1\n",
       "4     1      0"
      ]
     },
     "execution_count": 105,
     "metadata": {},
     "output_type": "execute_result"
    }
   ],
   "source": [
    "## Deal with Continuous 'White'\n",
    "# First, subset the data to contain only vote, the outcome variable, and the discrete variable\n",
    "trainwhite = train.filter(['vote','white'])\n",
    "trainwhite.head(5)"
   ]
  },
  {
   "cell_type": "code",
   "execution_count": 106,
   "metadata": {},
   "outputs": [
    {
     "name": "stdout",
     "output_type": "stream",
     "text": [
      "class probabilities\n",
      "\n",
      "{0: 0.258125, 1: 0.741875}\n",
      "\n",
      "\n",
      "conditional probabilities\n",
      "\n",
      "{('white', 0, 0): 0.22033898305084743,\n",
      " ('white', 0, 1): 0.12384161752316769,\n",
      " ('white', 1, 0): 0.7796610169491526,\n",
      " ('white', 1, 1): 0.8761583824768323}\n"
     ]
    }
   ],
   "source": [
    "## use the function in lecture notes 24 to calculate discrete probability\n",
    "\n",
    "def calc_probs(data,outcome_var=\"\"):\n",
    "    '''\n",
    "    Function calculates the class and conditional probabilities in \n",
    "    the binary data. \n",
    "    '''\n",
    "    # Generate empty dictionary containers.\n",
    "    class_probs = {};cond_probs = {}\n",
    "    # Locate all variables that are not the outcome.\n",
    "    vars = [v for v in data.columns if v != outcome_var]\n",
    "    # iterate through the class outcomes\n",
    "    for y, d in data.groupby(outcome_var): \n",
    "        # calculate the class probabilities\n",
    "        class_probs.update({y: d.shape[0]/data.shape[0]})\n",
    "        for v in vars:\n",
    "            # calculate the conditional probabilities for each variable given the class.\n",
    "            pr = d[v].sum()/d.shape[0]\n",
    "            cond_probs[(v,1,y)] = pr \n",
    "            cond_probs[(v,0,y)] = 1 - pr\n",
    "    return class_probs, cond_probs\n",
    "\n",
    "\n",
    "# Run\n",
    "class_probs, cond_probs = calc_probs(trainwhite,outcome_var=\"vote\")\n",
    "\n",
    "# Print\n",
    "print(\"class probabilities\",end=\"\\n\\n\")\n",
    "pp.pprint(class_probs)\n",
    "print(\"\\n\")\n",
    "print(\"conditional probabilities\",end=\"\\n\\n\")\n",
    "pp.pprint(cond_probs)"
   ]
  },
  {
   "cell_type": "code",
   "execution_count": 107,
   "metadata": {},
   "outputs": [],
   "source": [
    "def predict(data, dist_locs):\n",
    "    '''\n",
    "    This function predicts whether a person will vote or not by comparing the value of prediction in the 0 class \n",
    "    and the 1 class.\n",
    "    '''\n",
    "    store_preds = []\n",
    "    for i,row in data.iterrows():\n",
    "        \n",
    "        # Get the predictions for continuous variables using a Gaussan distribution\n",
    "        pr_0 = 1; pr_1 = 1\n",
    "        for j in [0,1,2]: ## because vote is in position 3\n",
    "            pr_0 *= st.norm(dist_locs[(row.index[j],0)]['mean'],\n",
    "                            dist_locs[(row.index[j],0)]['sd']).pdf(row.values[j])\n",
    "            pr_1 *= st.norm(dist_locs[(row.index[j],1)]['mean'], \n",
    "                            dist_locs[(row.index[j],1)]['sd']).pdf(row.values[j])\n",
    "        pr_0 *= pr_y0\n",
    "        pr_1 *= pr_y1\n",
    "                     \n",
    "        ## This loop is for discrete variable 'white'\n",
    "        pr_1d = 1; pr_0d = 1\n",
    "        for j in range(4,len(row.index)):\n",
    "            pr_0d *= cond_probs[(row.index[j],row.values[j],0)]\n",
    "            pr_1d *= cond_probs[(row.index[j],row.values[j],1)]     \n",
    "        pr_0d *= class_probs[0]\n",
    "        pr_1d *= class_probs[1]\n",
    "            \n",
    "        pr_0 *= pr_0d\n",
    "        pr_1 *= pr_1d\n",
    "        \n",
    "        # Assign the class designation to the highest probability\n",
    "        if pr_0d >= pr_1d:\n",
    "            class_pred = 0\n",
    "        else:\n",
    "            class_pred = 1\n",
    "            \n",
    "        store_preds.append([pr_0,pr_1,class_pred])\n",
    "        \n",
    "    return pd.DataFrame(store_preds,columns=[\"pr_0\",\"pr_1\",\"pred\"])\n",
    "\n",
    "# Run\n",
    "preds_train = predict(train,dist_locs)"
   ]
  },
  {
   "cell_type": "code",
   "execution_count": 108,
   "metadata": {},
   "outputs": [
    {
     "data": {
      "text/html": [
       "<div>\n",
       "<style scoped>\n",
       "    .dataframe tbody tr th:only-of-type {\n",
       "        vertical-align: middle;\n",
       "    }\n",
       "\n",
       "    .dataframe tbody tr th {\n",
       "        vertical-align: top;\n",
       "    }\n",
       "\n",
       "    .dataframe thead th {\n",
       "        text-align: right;\n",
       "    }\n",
       "</style>\n",
       "<table border=\"1\" class=\"dataframe\">\n",
       "  <thead>\n",
       "    <tr style=\"text-align: right;\">\n",
       "      <th></th>\n",
       "      <th>pr_0</th>\n",
       "      <th>pr_1</th>\n",
       "      <th>pred</th>\n",
       "    </tr>\n",
       "  </thead>\n",
       "  <tbody>\n",
       "    <tr>\n",
       "      <th>0</th>\n",
       "      <td>5.323266e-06</td>\n",
       "      <td>1.050043e-05</td>\n",
       "      <td>1</td>\n",
       "    </tr>\n",
       "    <tr>\n",
       "      <th>1</th>\n",
       "      <td>5.705501e-06</td>\n",
       "      <td>6.585560e-05</td>\n",
       "      <td>1</td>\n",
       "    </tr>\n",
       "    <tr>\n",
       "      <th>2</th>\n",
       "      <td>1.952186e-11</td>\n",
       "      <td>2.362967e-07</td>\n",
       "      <td>1</td>\n",
       "    </tr>\n",
       "    <tr>\n",
       "      <th>3</th>\n",
       "      <td>1.911462e-05</td>\n",
       "      <td>1.260857e-04</td>\n",
       "      <td>1</td>\n",
       "    </tr>\n",
       "    <tr>\n",
       "      <th>4</th>\n",
       "      <td>7.655350e-07</td>\n",
       "      <td>1.114783e-05</td>\n",
       "      <td>1</td>\n",
       "    </tr>\n",
       "  </tbody>\n",
       "</table>\n",
       "</div>"
      ],
      "text/plain": [
       "           pr_0          pr_1  pred\n",
       "0  5.323266e-06  1.050043e-05     1\n",
       "1  5.705501e-06  6.585560e-05     1\n",
       "2  1.952186e-11  2.362967e-07     1\n",
       "3  1.911462e-05  1.260857e-04     1\n",
       "4  7.655350e-07  1.114783e-05     1"
      ]
     },
     "execution_count": 108,
     "metadata": {},
     "output_type": "execute_result"
    }
   ],
   "source": [
    "preds_train.head()"
   ]
  },
  {
   "cell_type": "code",
   "execution_count": 109,
   "metadata": {},
   "outputs": [
    {
     "data": {
      "text/plain": [
       "0.741875"
      ]
     },
     "execution_count": 109,
     "metadata": {},
     "output_type": "execute_result"
    }
   ],
   "source": [
    "accuracy = sum(train['vote'] == preds_train.pred)/train.shape[0]\n",
    "accuracy"
   ]
  },
  {
   "cell_type": "markdown",
   "metadata": {},
   "source": [
    "The accuracy of our classifier is 74.2%. The prediction is better than chance (50%)."
   ]
  },
  {
   "cell_type": "code",
   "execution_count": 110,
   "metadata": {},
   "outputs": [],
   "source": [
    "test = test.drop('id',axis = 1)\n",
    "testwhite = test.filter(['vote','white'])"
   ]
  },
  {
   "cell_type": "code",
   "execution_count": 113,
   "metadata": {},
   "outputs": [],
   "source": [
    "preds_test = predict(test,dist_locs)"
   ]
  },
  {
   "cell_type": "code",
   "execution_count": 114,
   "metadata": {},
   "outputs": [
    {
     "data": {
      "text/plain": [
       "0.7625"
      ]
     },
     "execution_count": 114,
     "metadata": {},
     "output_type": "execute_result"
    }
   ],
   "source": [
    "accuracy2 = sum(test.vote == preds_test.pred)/test.shape[0]\n",
    "accuracy2"
   ]
  },
  {
   "cell_type": "markdown",
   "metadata": {},
   "source": [
    "The prediction accuracy on the test data is 76.25%, which is also better than chance."
   ]
  },
  {
   "cell_type": "code",
   "execution_count": null,
   "metadata": {},
   "outputs": [],
   "source": []
  }
 ],
 "metadata": {
  "kernelspec": {
   "display_name": "Python 3",
   "language": "python",
   "name": "python3"
  },
  "language_info": {
   "codemirror_mode": {
    "name": "ipython",
    "version": 3
   },
   "file_extension": ".py",
   "mimetype": "text/x-python",
   "name": "python",
   "nbconvert_exporter": "python",
   "pygments_lexer": "ipython3",
   "version": "3.7.3"
  },
  "toc": {
   "base_numbering": 1,
   "nav_menu": {},
   "number_sections": false,
   "sideBar": false,
   "skip_h1_title": false,
   "title_cell": "Table of Contents",
   "title_sidebar": "Contents",
   "toc_cell": false,
   "toc_position": {},
   "toc_section_display": true,
   "toc_window_display": false
  }
 },
 "nbformat": 4,
 "nbformat_minor": 2
}

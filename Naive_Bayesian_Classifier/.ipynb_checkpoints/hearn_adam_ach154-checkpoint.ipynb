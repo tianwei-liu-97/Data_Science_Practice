{
 "cells": [
  {
   "cell_type": "markdown",
   "metadata": {},
   "source": [
    "# <center> PPOL564: DS1 | Foundations <br><br> Checkpoint Assignment 5 </center>\n",
    "\n",
    "# Instructions\n",
    "\n",
    "In this assignment, you'll practice on what you have learned regarding the probability concepts covered in this course. This assignment should be completed independently or with your randomly assigned partner (see Course Policies \"Homework Partner\" in the Syllabus). \n",
    "\n",
    "**Be careful to follow the instructions for each question.** \n",
    "\n",
    "Recall that all assignment submissions must adhere to the following guidelines: \n",
    "\n",
    "- (i) all code must run; one point will be deducted if the entire notebook doesn't run on the Professor's/TA's computer (<font color = \"darkred\">Point(s) = 1</font>)\n",
    "- (ii) solutions should be readable\n",
    "    + Code should be thoroughly commented (the Professor/TA should be able to understand the code's purpose by reading the comment),\n",
    "    + Coding solutions should be broken up into individual code chunks in Jupyter notebooks, not clumped together into one large code chunk,\n",
    "    + Each student defined function must contain a doc string explaining what the function does, each input argument, and what the function returns;\n",
    "    + All numerical output should be rounded to the second decimal place.\n",
    "- (iii) Commentary, responses, and/or written solutions should all be written in Markdown and should contain no grammatical or spelling errors;\n",
    "- (iv) All mathematical formulas should be written in LaTex;\n",
    "\n",
    "There are a total of **_11 points_** available for this assignment."
   ]
  },
  {
   "cell_type": "code",
   "execution_count": 182,
   "metadata": {},
   "outputs": [],
   "source": [
    "name = 'Adam Hearn'\n",
    "studentid = 'ach154'"
   ]
  },
  {
   "cell_type": "code",
   "execution_count": 183,
   "metadata": {},
   "outputs": [],
   "source": [
    "import pandas as pd\n",
    "import pprint as pp # for printing\n",
    "import scipy.stats as st # for Normal PDF\n",
    "import matplotlib.pyplot as plt\n",
    "import numpy as np\n",
    "import seaborn as sns"
   ]
  },
  {
   "cell_type": "markdown",
   "metadata": {},
   "source": [
    "# Part 1: Probability"
   ]
  },
  {
   "cell_type": "markdown",
   "metadata": {},
   "source": [
    "Use the following table is composed of respondents in the DMV regarding their transportation preferences to work. Please calculate the probabilities for questions 1 through 3 using this table. "
   ]
  },
  {
   "cell_type": "code",
   "execution_count": 184,
   "metadata": {},
   "outputs": [
    {
     "data": {
      "text/html": [
       "<div>\n",
       "<style scoped>\n",
       "    .dataframe tbody tr th:only-of-type {\n",
       "        vertical-align: middle;\n",
       "    }\n",
       "\n",
       "    .dataframe tbody tr th {\n",
       "        vertical-align: top;\n",
       "    }\n",
       "\n",
       "    .dataframe thead th {\n",
       "        text-align: right;\n",
       "    }\n",
       "</style>\n",
       "<table border=\"1\" class=\"dataframe\">\n",
       "  <thead>\n",
       "    <tr style=\"text-align: right;\">\n",
       "      <th></th>\n",
       "      <th>Male</th>\n",
       "      <th>Female</th>\n",
       "      <th>Other</th>\n",
       "    </tr>\n",
       "  </thead>\n",
       "  <tbody>\n",
       "    <tr>\n",
       "      <td>Drive</td>\n",
       "      <td>100</td>\n",
       "      <td>87</td>\n",
       "      <td>5</td>\n",
       "    </tr>\n",
       "    <tr>\n",
       "      <td>Metro</td>\n",
       "      <td>57</td>\n",
       "      <td>301</td>\n",
       "      <td>22</td>\n",
       "    </tr>\n",
       "    <tr>\n",
       "      <td>Uber</td>\n",
       "      <td>67</td>\n",
       "      <td>53</td>\n",
       "      <td>12</td>\n",
       "    </tr>\n",
       "  </tbody>\n",
       "</table>\n",
       "</div>"
      ],
      "text/plain": [
       "       Male  Female  Other\n",
       "Drive   100      87      5\n",
       "Metro    57     301     22\n",
       "Uber     67      53     12"
      ]
     },
     "execution_count": 184,
     "metadata": {},
     "output_type": "execute_result"
    }
   ],
   "source": [
    "tab = pd.DataFrame([[100,87,5],[57,301,22],[67,53,12]],\n",
    "                   columns=[\"Male\",\"Female\",\"Other\"],\n",
    "                   index=[\"Drive\",\"Metro\",\"Uber\"])\n",
    "tab"
   ]
  },
  {
   "cell_type": "markdown",
   "metadata": {},
   "source": [
    "### (1) What is the probability of a respondent taking an uber to work?\n",
    "\n",
    "(_Point 1_)"
   ]
  },
  {
   "cell_type": "code",
   "execution_count": 185,
   "metadata": {},
   "outputs": [
    {
     "name": "stdout",
     "output_type": "stream",
     "text": [
      "Respondents who Uber: 132\n",
      "Total number of respondents: 704\n",
      "Probability of respondent taking Uber: 0.1875\n"
     ]
    }
   ],
   "source": [
    "index_sums = tab.sum(axis = 1)\n",
    "total = sum(index_sums)\n",
    "\n",
    "prob_uber = index_sums['Uber'] / total\n",
    "\n",
    "print(\"Respondents who Uber:\", index_sums['Uber'])\n",
    "print(\"Total number of respondents:\", total)\n",
    "print(\"Probability of respondent taking Uber:\", prob_uber)"
   ]
  },
  {
   "cell_type": "markdown",
   "metadata": {},
   "source": [
    "$$ Pr(\\text{Uber}) = \\frac{132}{704} \\approx .1874$$"
   ]
  },
  {
   "cell_type": "markdown",
   "metadata": {},
   "source": [
    "### (2) What is the probability of a respondent driving to work given they identify as a male?\n",
    "\n",
    "(_Point 1_)"
   ]
  },
  {
   "cell_type": "code",
   "execution_count": 186,
   "metadata": {},
   "outputs": [
    {
     "name": "stdout",
     "output_type": "stream",
     "text": [
      "Males who drive: 100\n",
      "Total number of males: 224\n",
      "Probability of respondent driving to work given they identify as a male: 0.4464\n"
     ]
    }
   ],
   "source": [
    "gender_sum = tab.sum(axis = 0)\n",
    "male_drive = tab.at['Drive','Male']\n",
    "\n",
    "prob_male_drive = male_drive / gender_sum['Male']\n",
    "\n",
    "print(\"Males who drive:\", male_drive)\n",
    "print(\"Total number of males:\", gender_sum['Male'])\n",
    "print(\"Probability of respondent driving to work given they identify as a male:\", round(prob_male_drive,4))"
   ]
  },
  {
   "cell_type": "markdown",
   "metadata": {},
   "source": [
    "$$ Pr(\\text{Drive } | \\text{ Male}) = \\frac{100}{224} \\approx .4464 $$"
   ]
  },
  {
   "cell_type": "markdown",
   "metadata": {},
   "source": [
    "### (3) What is the probability of a respondent identifying as other given that they report taking the Metro?\n",
    "\n",
    "(_Point 1_)"
   ]
  },
  {
   "cell_type": "code",
   "execution_count": 187,
   "metadata": {},
   "outputs": [
    {
     "name": "stdout",
     "output_type": "stream",
     "text": [
      "Respondents who identify as other who take Metro: 22\n",
      "Total number of respndents who take the Metro: 380\n",
      "Probability of a respondent identifying as other given that they report taking the Metro: 0.0579\n"
     ]
    }
   ],
   "source": [
    "metro_sum = index_sums['Metro']\n",
    "other_metro = tab.at['Metro', 'Other']\n",
    "\n",
    "prob_other_metro = other_metro / metro_sum\n",
    "print(\"Respondents who identify as other who take Metro:\", other_metro)\n",
    "print(\"Total number of respndents who take the Metro:\", metro_sum)\n",
    "print(\"Probability of a respondent identifying as other given that they report taking the Metro:\", round(prob_other_metro,4))"
   ]
  },
  {
   "cell_type": "markdown",
   "metadata": {},
   "source": [
    "$$ Pr(\\text{Other } | \\text{ Metro}) = \\frac{22}{380} \\approx .0579 $$"
   ]
  },
  {
   "cell_type": "markdown",
   "metadata": {},
   "source": [
    "### (4) What is the probability of a recession given that the yield curve inverted? \n",
    "(_Point 1_)\n",
    "\n",
    "- $Pr(\\text{recession}) = 2.5\\%$\n",
    "- $Pr(\\text{yield curve inverted}) = 12\\%$\n",
    "- $Pr(\\text{recession} \\cap \\text{yield curve inverted}) = .3\\%$"
   ]
  },
  {
   "cell_type": "markdown",
   "metadata": {},
   "source": [
    "$$ Pr(\\text{Recession} | \\text{Yield Curve Inverted}) = \\frac{Pr(\\text{Recession} \\cap \\text{Yield Curve Inverted})}{Pr(\\text{Yield Curve Inverted})} $$"
   ]
  },
  {
   "cell_type": "code",
   "execution_count": 188,
   "metadata": {},
   "outputs": [
    {
     "data": {
      "text/plain": [
       "0.025"
      ]
     },
     "execution_count": 188,
     "metadata": {},
     "output_type": "execute_result"
    }
   ],
   "source": [
    "rec = .025\n",
    "inv_yield = .12\n",
    "rec_inv_yield = .003\n",
    "\n",
    "prob_rec = rec_inv_yield/inv_yield\n",
    "prob_rec"
   ]
  },
  {
   "cell_type": "markdown",
   "metadata": {},
   "source": [
    "$$ Pr(\\text{Recession} | \\text{Yield Curve Inverted}) = \\frac{Pr(\\text{Recession} \\cap \\text{Yield Curve Inverted})}{Pr(\\text{Yield Curve Inverted})} = \\frac{0.003}{0.12} = 0.025 $$"
   ]
  },
  {
   "cell_type": "markdown",
   "metadata": {},
   "source": [
    "### (5) Is the probability of a recession dependent on the yield curve inverting? Explain your answer.\n",
    "\n",
    "(_Point 1_)"
   ]
  },
  {
   "cell_type": "markdown",
   "metadata": {},
   "source": [
    "Events A and B are independent if the equation P(A∩B) = P(A) · P(B) holds true. Let's check if this is the case:"
   ]
  },
  {
   "cell_type": "code",
   "execution_count": 189,
   "metadata": {},
   "outputs": [
    {
     "data": {
      "text/plain": [
       "True"
      ]
     },
     "execution_count": 189,
     "metadata": {},
     "output_type": "execute_result"
    }
   ],
   "source": [
    "rec_inv_yield == rec * inv_yield"
   ]
  },
  {
   "cell_type": "markdown",
   "metadata": {},
   "source": [
    "It appears that the probability of a recession occuring is independent on the yield curve inverting."
   ]
  },
  {
   "cell_type": "markdown",
   "metadata": {},
   "source": [
    "# Part 2: Build a Naive Bayesian Classifier\n",
    "\n",
    "(_Point 5_)"
   ]
  },
  {
   "cell_type": "markdown",
   "metadata": {},
   "source": [
    "**Can we predict whether someone will vote or not?**\n",
    "\n",
    "In the last assignment, we explored the `turnout.csv` data, which was drawn from the 2012 National Election Survey. The data records the age, eduction level (of total years in school), income, race (caucasian or not), and whether or not the respondent voted in the 2012 Presidential election. The sample composes 2000 individual respondents in total. I have broken the data up into a training (1600 entries, 80%) and test dataset (400 entries, 20%) (see below). \n",
    "\n",
    "Use what we learned to build a Naive Bayesian Classifier that tries to predict whether a respondent will vote in a presidential election or not (Class == Vote). The classifier must be built from scratch. Do not use a third party ML or statistical package.\n",
    "\n",
    "Feel free to manipulate the data however you see fit. Run your algorithm and see how it predicts the training data. Then report how accurate you were on predicting someone's propensity to vote in the test data. Did you do better or worse than chance (50%)?\n",
    "\n",
    "When completing this answer, be sure to: \n",
    "\n",
    "- comment on all your code\n",
    "- provide a narrative for what you're doing\n",
    "- summarize your results and findings"
   ]
  },
  {
   "cell_type": "code",
   "execution_count": 192,
   "metadata": {},
   "outputs": [
    {
     "data": {
      "text/html": [
       "<div>\n",
       "<style scoped>\n",
       "    .dataframe tbody tr th:only-of-type {\n",
       "        vertical-align: middle;\n",
       "    }\n",
       "\n",
       "    .dataframe tbody tr th {\n",
       "        vertical-align: top;\n",
       "    }\n",
       "\n",
       "    .dataframe thead th {\n",
       "        text-align: right;\n",
       "    }\n",
       "</style>\n",
       "<table border=\"1\" class=\"dataframe\">\n",
       "  <thead>\n",
       "    <tr style=\"text-align: right;\">\n",
       "      <th></th>\n",
       "      <th>vote</th>\n",
       "      <th>age</th>\n",
       "      <th>educate</th>\n",
       "      <th>income</th>\n",
       "      <th>white</th>\n",
       "    </tr>\n",
       "  </thead>\n",
       "  <tbody>\n",
       "    <tr>\n",
       "      <td>0</td>\n",
       "      <td>0</td>\n",
       "      <td>46</td>\n",
       "      <td>9.0</td>\n",
       "      <td>1.8429</td>\n",
       "      <td>0</td>\n",
       "    </tr>\n",
       "    <tr>\n",
       "      <td>1</td>\n",
       "      <td>1</td>\n",
       "      <td>25</td>\n",
       "      <td>15.0</td>\n",
       "      <td>3.8606</td>\n",
       "      <td>1</td>\n",
       "    </tr>\n",
       "    <tr>\n",
       "      <td>2</td>\n",
       "      <td>1</td>\n",
       "      <td>69</td>\n",
       "      <td>17.0</td>\n",
       "      <td>13.3041</td>\n",
       "      <td>1</td>\n",
       "    </tr>\n",
       "    <tr>\n",
       "      <td>3</td>\n",
       "      <td>1</td>\n",
       "      <td>53</td>\n",
       "      <td>10.0</td>\n",
       "      <td>3.5800</td>\n",
       "      <td>1</td>\n",
       "    </tr>\n",
       "    <tr>\n",
       "      <td>4</td>\n",
       "      <td>1</td>\n",
       "      <td>34</td>\n",
       "      <td>16.0</td>\n",
       "      <td>5.4713</td>\n",
       "      <td>0</td>\n",
       "    </tr>\n",
       "    <tr>\n",
       "      <td>...</td>\n",
       "      <td>...</td>\n",
       "      <td>...</td>\n",
       "      <td>...</td>\n",
       "      <td>...</td>\n",
       "      <td>...</td>\n",
       "    </tr>\n",
       "    <tr>\n",
       "      <td>1595</td>\n",
       "      <td>0</td>\n",
       "      <td>26</td>\n",
       "      <td>16.0</td>\n",
       "      <td>1.8967</td>\n",
       "      <td>1</td>\n",
       "    </tr>\n",
       "    <tr>\n",
       "      <td>1596</td>\n",
       "      <td>1</td>\n",
       "      <td>71</td>\n",
       "      <td>11.0</td>\n",
       "      <td>0.9780</td>\n",
       "      <td>1</td>\n",
       "    </tr>\n",
       "    <tr>\n",
       "      <td>1597</td>\n",
       "      <td>0</td>\n",
       "      <td>55</td>\n",
       "      <td>11.0</td>\n",
       "      <td>1.4398</td>\n",
       "      <td>1</td>\n",
       "    </tr>\n",
       "    <tr>\n",
       "      <td>1598</td>\n",
       "      <td>1</td>\n",
       "      <td>62</td>\n",
       "      <td>12.0</td>\n",
       "      <td>6.6992</td>\n",
       "      <td>1</td>\n",
       "    </tr>\n",
       "    <tr>\n",
       "      <td>1599</td>\n",
       "      <td>1</td>\n",
       "      <td>45</td>\n",
       "      <td>12.0</td>\n",
       "      <td>4.3754</td>\n",
       "      <td>1</td>\n",
       "    </tr>\n",
       "  </tbody>\n",
       "</table>\n",
       "<p>1600 rows × 5 columns</p>\n",
       "</div>"
      ],
      "text/plain": [
       "      vote  age  educate   income  white\n",
       "0        0   46      9.0   1.8429      0\n",
       "1        1   25     15.0   3.8606      1\n",
       "2        1   69     17.0  13.3041      1\n",
       "3        1   53     10.0   3.5800      1\n",
       "4        1   34     16.0   5.4713      0\n",
       "...    ...  ...      ...      ...    ...\n",
       "1595     0   26     16.0   1.8967      1\n",
       "1596     1   71     11.0   0.9780      1\n",
       "1597     0   55     11.0   1.4398      1\n",
       "1598     1   62     12.0   6.6992      1\n",
       "1599     1   45     12.0   4.3754      1\n",
       "\n",
       "[1600 rows x 5 columns]"
      ]
     },
     "execution_count": 192,
     "metadata": {},
     "output_type": "execute_result"
    }
   ],
   "source": [
    "dat = pd.read_csv('turnout.csv')\n",
    "\n",
    "# Break data up into training and test data\n",
    "train=dat.sample(frac=0.8,random_state=323)\n",
    "test=dat.drop(train.index)\n",
    "\n",
    "# Reset the indices for both the train and test\n",
    "train.reset_index(drop=True,inplace=True)\n",
    "test.reset_index(drop=True,inplace=True)\n",
    "\n",
    "# Drop id variable\n",
    "train = train.drop(['id'],axis = 1) \n",
    "test = test.drop(['id'],axis = 1) \n",
    "#reorder rows\n",
    "train = train[['vote', 'age', 'educate', 'income', 'white']]\n",
    "test = test[['vote', 'age', 'educate', 'income', 'white']]\n",
    "\n",
    "#preview data\n",
    "train"
   ]
  },
  {
   "cell_type": "markdown",
   "metadata": {},
   "source": [
    "First we calculate class probabilities:"
   ]
  },
  {
   "cell_type": "code",
   "execution_count": 193,
   "metadata": {},
   "outputs": [
    {
     "name": "stdout",
     "output_type": "stream",
     "text": [
      "0.741875\n",
      "0.258125\n"
     ]
    }
   ],
   "source": [
    "y1 = train.query(\"vote == 1\")\n",
    "y0 = train.query(\"vote == 0\")\n",
    "\n",
    "# Class probabilities.\n",
    "pr_y1 = y1.shape[0]/train.shape[0]\n",
    "pr_y0 = y0.shape[0]/train.shape[0]\n",
    "\n",
    "print(pr_y1)\n",
    "print(pr_y0)"
   ]
  },
  {
   "cell_type": "markdown",
   "metadata": {},
   "source": [
    "Now we calculate the conditional means/standard deviations"
   ]
  },
  {
   "cell_type": "code",
   "execution_count": 194,
   "metadata": {},
   "outputs": [
    {
     "name": "stdout",
     "output_type": "stream",
     "text": [
      "{('age', 0): {'mean': 42.653753026634384, 'sd': 19.127668078553697},\n",
      " ('age', 1): {'mean': 46.14827295703454, 'sd': 16.76013458371937},\n",
      " ('educate', 0): {'mean': 10.665859564164649, 'sd': 3.2326417027391328},\n",
      " ('educate', 1): {'mean': 12.59519797809604, 'sd': 3.2493017317689734},\n",
      " ('income', 0): {'mean': 2.8083740920096854, 'sd': 2.2222018360245834},\n",
      " ('income', 1): {'mean': 4.258665796124684, 'sd': 2.9009783277578696},\n",
      " ('white', 0): {'mean': 0.7796610169491526, 'sd': 0.41497792824208074},\n",
      " ('white', 1): {'mean': 0.8761583824768323, 'sd': 0.3295396173140738}}\n"
     ]
    }
   ],
   "source": [
    "# Collect the mean and standard dev. of each conditional distribution\n",
    "dist_locs = \\\n",
    "{(\"age\",1):{'mean':y1.age.mean(),'sd':y1.age.std()},\n",
    " (\"age\",0):{'mean':y0.age.mean(),'sd':y0.age.std()},\n",
    " (\"educate\",1):{'mean':y1.educate.mean(),'sd':y1.educate.std()},\n",
    " (\"educate\",0):{'mean':y0.educate.mean(),'sd':y0.educate.std()},\n",
    " (\"income\",1):{'mean':y1.income.mean(),'sd':y1.income.std()},\n",
    " (\"income\",0):{'mean':y0.income.mean(),'sd':y0.income.std()},\n",
    " (\"white\",1):{'mean':y1.white.mean(),'sd':y1.white.std()},\n",
    " (\"white\",0):{'mean':y0.white.mean(),'sd':y0.white.std()}\n",
    "}\n",
    "\n",
    "# \n",
    "# Print\n",
    "pp.pprint(dist_locs)"
   ]
  },
  {
   "cell_type": "code",
   "execution_count": 195,
   "metadata": {},
   "outputs": [
    {
     "data": {
      "text/html": [
       "<div>\n",
       "<style scoped>\n",
       "    .dataframe tbody tr th:only-of-type {\n",
       "        vertical-align: middle;\n",
       "    }\n",
       "\n",
       "    .dataframe tbody tr th {\n",
       "        vertical-align: top;\n",
       "    }\n",
       "\n",
       "    .dataframe thead th {\n",
       "        text-align: right;\n",
       "    }\n",
       "</style>\n",
       "<table border=\"1\" class=\"dataframe\">\n",
       "  <thead>\n",
       "    <tr style=\"text-align: right;\">\n",
       "      <th></th>\n",
       "      <th>pr_0</th>\n",
       "      <th>pr_1</th>\n",
       "      <th>pred</th>\n",
       "    </tr>\n",
       "  </thead>\n",
       "  <tbody>\n",
       "    <tr>\n",
       "      <td>0</td>\n",
       "      <td>1.540406e-05</td>\n",
       "      <td>4.036699e-06</td>\n",
       "      <td>0</td>\n",
       "    </tr>\n",
       "    <tr>\n",
       "      <td>1</td>\n",
       "      <td>2.367139e-05</td>\n",
       "      <td>1.142917e-04</td>\n",
       "      <td>1</td>\n",
       "    </tr>\n",
       "    <tr>\n",
       "      <td>2</td>\n",
       "      <td>8.099369e-11</td>\n",
       "      <td>4.100905e-07</td>\n",
       "      <td>1</td>\n",
       "    </tr>\n",
       "    <tr>\n",
       "      <td>3</td>\n",
       "      <td>7.930411e-05</td>\n",
       "      <td>2.188205e-04</td>\n",
       "      <td>1</td>\n",
       "    </tr>\n",
       "    <tr>\n",
       "      <td>4</td>\n",
       "      <td>2.215246e-06</td>\n",
       "      <td>4.285584e-06</td>\n",
       "      <td>1</td>\n",
       "    </tr>\n",
       "  </tbody>\n",
       "</table>\n",
       "</div>"
      ],
      "text/plain": [
       "           pr_0          pr_1  pred\n",
       "0  1.540406e-05  4.036699e-06     0\n",
       "1  2.367139e-05  1.142917e-04     1\n",
       "2  8.099369e-11  4.100905e-07     1\n",
       "3  7.930411e-05  2.188205e-04     1\n",
       "4  2.215246e-06  4.285584e-06     1"
      ]
     },
     "execution_count": 195,
     "metadata": {},
     "output_type": "execute_result"
    }
   ],
   "source": [
    "def predict(data,dist_locs):\n",
    "    ''''''\n",
    "    store_preds = []\n",
    "    for i,row in data.iterrows():\n",
    "        \n",
    "        # Get the predictions using a Gaussan distribution\n",
    "        pr_0 = 1; pr_1 = 1\n",
    "        for j in range(1,len(row)):\n",
    "            pr_0 *= st.norm(dist_locs[(row.index[j],0)]['mean'],\n",
    "                            dist_locs[(row.index[j],0)]['sd']).pdf(row.values[j])\n",
    "            pr_1 *= st.norm(dist_locs[(row.index[j],1)]['mean'], \n",
    "                            dist_locs[(row.index[j],1)]['sd']).pdf(row.values[j])\n",
    "        pr_0 *= pr_y0\n",
    "        pr_1 *= pr_y1\n",
    "        \n",
    "        # Assign the class designation to the highest probability\n",
    "        if pr_0 >= pr_1:\n",
    "            class_pred = 0\n",
    "        else:\n",
    "            class_pred = 1\n",
    "            \n",
    "        store_preds.append([pr_0,pr_1,class_pred])\n",
    "        \n",
    "    return pd.DataFrame(store_preds,columns=[\"pr_0\",\"pr_1\",\"pred\"])\n",
    "\n",
    "# Run\n",
    "preds_train = predict(train,dist_locs)\n",
    "preds_train.head()"
   ]
  },
  {
   "cell_type": "code",
   "execution_count": 196,
   "metadata": {},
   "outputs": [
    {
     "data": {
      "text/plain": [
       "0.726875"
      ]
     },
     "execution_count": 196,
     "metadata": {},
     "output_type": "execute_result"
    }
   ],
   "source": [
    "accuracy_train = sum(train.vote == preds_train.pred)/train.shape[0]\n",
    "accuracy_train"
   ]
  },
  {
   "cell_type": "code",
   "execution_count": 197,
   "metadata": {},
   "outputs": [
    {
     "data": {
      "text/plain": [
       "0.7275"
      ]
     },
     "execution_count": 197,
     "metadata": {},
     "output_type": "execute_result"
    }
   ],
   "source": [
    "preds_test = predict(test,dist_locs)\n",
    "accuracy_test = sum(test.vote == preds_test.pred)/test.shape[0]\n",
    "accuracy_test"
   ]
  },
  {
   "cell_type": "markdown",
   "metadata": {},
   "source": [
    "The algorithm can accurately predict voting 72% of the time."
   ]
  },
  {
   "cell_type": "code",
   "execution_count": null,
   "metadata": {},
   "outputs": [],
   "source": []
  }
 ],
 "metadata": {
  "kernelspec": {
   "display_name": "Python 3",
   "language": "python",
   "name": "python3"
  },
  "language_info": {
   "codemirror_mode": {
    "name": "ipython",
    "version": 3
   },
   "file_extension": ".py",
   "mimetype": "text/x-python",
   "name": "python",
   "nbconvert_exporter": "python",
   "pygments_lexer": "ipython3",
   "version": "3.7.3"
  },
  "toc": {
   "base_numbering": 1,
   "nav_menu": {},
   "number_sections": false,
   "sideBar": false,
   "skip_h1_title": false,
   "title_cell": "Table of Contents",
   "title_sidebar": "Contents",
   "toc_cell": false,
   "toc_position": {},
   "toc_section_display": true,
   "toc_window_display": false
  }
 },
 "nbformat": 4,
 "nbformat_minor": 2
}

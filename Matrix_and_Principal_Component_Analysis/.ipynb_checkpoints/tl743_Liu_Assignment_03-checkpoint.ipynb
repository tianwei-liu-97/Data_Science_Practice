{
 "cells": [
  {
   "cell_type": "markdown",
   "metadata": {},
   "source": [
    "# <center> PPOL 564 | Data Science I: Foundations <br><br> Assignment 3  </center>\n",
    "\n",
    "# Instructions\n",
    "\n",
    "In this checkpoint assignment, covers linear algebra concepts covered in this course. This assignment should be completed independently. This assignment should be completed independently or with your randomly assigned partner (see Course Policies \"Homework Partner\" in the Syllabus). \n",
    "\n",
    "**Be careful to follow the instructions for each question.** \n",
    "\n",
    "Recall that all assignment submissions must adhere to the following guidelines: \n",
    "\n",
    "- (i) all code must run; one point will be deducted if the entire notebook doesn't run on the Professor's/TA's computer (<font color = \"darkred\">Point(s) = 1</font>)\n",
    "- (ii) solutions should be readable\n",
    "    + Code should be thoroughly commented (the Professor/TA should be able to understand the code's purpose by reading the comment),\n",
    "    + Coding solutions should be broken up into individual code chunks in Jupyter notebooks, not clumped together into one large code chunk,\n",
    "    + Each student defined function must contain a doc string explaining what the function does, each input argument, and what the function returns;\n",
    "    + All numerical output should be rounded to the second decimal place.\n",
    "- (iii) Commentary, responses, and/or written solutions should all be written in Markdown and should contain no grammatical or spelling errors;\n",
    "- (iv) All mathematical formulas should be written in LaTex;\n",
    "\n",
    "There are a total of **_29 points_** available for this assignment."
   ]
  },
  {
   "cell_type": "code",
   "execution_count": 159,
   "metadata": {},
   "outputs": [],
   "source": [
    "import pandas as pd\n",
    "import numpy as np\n",
    "import matplotlib.pyplot as plt\n",
    "import seaborn as sns\n",
    "import math"
   ]
  },
  {
   "cell_type": "markdown",
   "metadata": {},
   "source": [
    "Please assign your name and netid to the following objects as strings."
   ]
  },
  {
   "cell_type": "code",
   "execution_count": 2,
   "metadata": {},
   "outputs": [],
   "source": [
    "name = 'Tianwei Liu'\n",
    "netid = 'tl743'"
   ]
  },
  {
   "cell_type": "markdown",
   "metadata": {},
   "source": [
    "# Section 1: Answer the Questions\n",
    "\n",
    "This section tests your understanding of some of the main concepts we've covered during the linear algebra sequence in the class. "
   ]
  },
  {
   "cell_type": "markdown",
   "metadata": {},
   "source": [
    "### 1. What is the determinant of a matrix?"
   ]
  },
  {
   "cell_type": "markdown",
   "metadata": {},
   "source": [
    "<font color = \"darkred\">Point(s) = 1</font>"
   ]
  },
  {
   "cell_type": "markdown",
   "metadata": {},
   "source": [
    "The determinant of a matrix is a scaler value that tells us whether the matrix is invertible or not; determinant only exists for square matrices. For a 2 by 2 matrix as such: \n",
    "<br>\n",
    "\n",
    "\\begin{bmatrix} \n",
    "a & b \\\\\n",
    "c & d\n",
    "\\end{bmatrix}\n",
    "\n",
    "<br>\n",
    "The determinant of this matrix is \n",
    "$$ ad-bc $$\n",
    "\n",
    "\n",
    "When the determinant of a squared matrix is zero, the matrix is not invertible."
   ]
  },
  {
   "cell_type": "markdown",
   "metadata": {},
   "source": [
    "### 2. What is an eigenvector?"
   ]
  },
  {
   "cell_type": "markdown",
   "metadata": {},
   "source": [
    "<font color = \"darkred\">Point(s) = 1</font>"
   ]
  },
  {
   "cell_type": "markdown",
   "metadata": {},
   "source": [
    "The eigenvector $ \\vec {v} $ of an $ n \\times n $ matrix $ A $ is such that when we apply the linear transformation $ A $ to the eigenvector, it returns a scaled version of the eigenvector itself. Mathematically:\n",
    "<br>\n",
    "$$ A \\vec {v} = \\lambda \\vec {v} $$\n",
    "<br>"
   ]
  },
  {
   "cell_type": "markdown",
   "metadata": {},
   "source": [
    "### 3. How do you determine if two vectors are orthogonal?"
   ]
  },
  {
   "cell_type": "markdown",
   "metadata": {},
   "source": [
    "<font color = \"darkred\">Point(s) = 1</font>"
   ]
  },
  {
   "cell_type": "markdown",
   "metadata": {},
   "source": [
    "Two vectors are orthogonal when the dot product of the two vectors is $ 0 $. Mathematically:\n",
    "<br>\n",
    "$$ \\vec a \\cdot \\vec b = 0 $$"
   ]
  },
  {
   "cell_type": "markdown",
   "metadata": {},
   "source": [
    "### 4. What is the rank of a matrix? Which of the below matrices are of full rank?"
   ]
  },
  {
   "cell_type": "code",
   "execution_count": 210,
   "metadata": {},
   "outputs": [],
   "source": [
    "A = np.array([[1,2],\n",
    "              [3,6]])\n",
    "B = np.array([ [  0.1,   7.7,   1. ,   9.1,  -7.1],\n",
    "               [  0. ,   0.8,   0.1,   0.9,  -0.7],\n",
    "               [  0.2,  15.4,   2. ,  18.2, -14.2],\n",
    "               [  0.1,   3.5,   0.4,   4.1,  -3.2],\n",
    "               [  0.5,  32.3,   4.2,  38.2, -29.8]])\n",
    "C = np.array([[ 1.2, -1.3,  0.2,  1.2, -0.3],\n",
    "           [ 1. , -1.1, -1.4,  0.4, -0.4],\n",
    "           [ 0.6, -2. ,  0.7,  2.6, -0. ],\n",
    "           [ 0. ,  0.2, -1.9,  0.4, -1.6],\n",
    "           [-0.4,  1.2, -0.7,  0.5,  1. ]])"
   ]
  },
  {
   "cell_type": "markdown",
   "metadata": {},
   "source": [
    "<font color = \"darkred\">Point(s) = 4</font>"
   ]
  },
  {
   "cell_type": "markdown",
   "metadata": {},
   "source": [
    "For matrix $ A $, it is obvious that the columns are linearly dependent:\n",
    "$$  \\begin{bmatrix} 2 \\\\ 6  \\end{bmatrix} = 2\\times \\begin{bmatrix} 1 \\\\  3 \\end{bmatrix}$$\n",
    "Therefore, the rank of the matrix $A$ is 1."
   ]
  },
  {
   "cell_type": "markdown",
   "metadata": {},
   "source": [
    "For matrix $ B $ and $ C $, as it is very difficult to eyeball linear dependence of the columns, we use `np.linalg.matrix_rank` to get the rank for the two matrices, respectively."
   ]
  },
  {
   "cell_type": "code",
   "execution_count": 211,
   "metadata": {},
   "outputs": [
    {
     "data": {
      "text/plain": [
       "4"
      ]
     },
     "execution_count": 211,
     "metadata": {},
     "output_type": "execute_result"
    }
   ],
   "source": [
    "np.linalg.matrix_rank(B)"
   ]
  },
  {
   "cell_type": "code",
   "execution_count": 212,
   "metadata": {},
   "outputs": [
    {
     "data": {
      "text/plain": [
       "5"
      ]
     },
     "execution_count": 212,
     "metadata": {},
     "output_type": "execute_result"
    }
   ],
   "source": [
    "np.linalg.matrix_rank(C)"
   ]
  },
  {
   "cell_type": "markdown",
   "metadata": {},
   "source": [
    "The rank of matrix $ B $ is 4 and the rank of matrix $ C $ is 5. \n",
    "\n",
    "For a matrix to have full rank, the follow condition must statisfy:\n",
    "<br>\n",
    "$$ rank(M) = ncols(M) $$\n",
    "<br>\n",
    "Hence, the only matrix that has a full rank is matrix $ C $."
   ]
  },
  {
   "cell_type": "markdown",
   "metadata": {},
   "source": [
    "### 5. What does the following equation tell us and why does it matter?\n",
    "\n",
    "$$ ||\\vec{a} + \\vec{b} || \\le || \\vec{a} || + || \\vec{b} || $$"
   ]
  },
  {
   "cell_type": "markdown",
   "metadata": {},
   "source": [
    "<font color = \"darkred\">Point(s) = 1</font>"
   ]
  },
  {
   "cell_type": "markdown",
   "metadata": {},
   "source": [
    "This equation is the **Triangle Inequality**. Triangle inequality basically tells us that the sum of lengths on two sides haver to be greater than or equal to the third length. In vectors, similarly, the length of the addition of two vectors cannot be greater than the sum of the lengths of the two vectors. "
   ]
  },
  {
   "cell_type": "markdown",
   "metadata": {},
   "source": [
    "### 6. What is the inverse of a matrix?"
   ]
  },
  {
   "cell_type": "markdown",
   "metadata": {},
   "source": [
    "<font color = \"darkred\">Point(s) = 1</font>"
   ]
  },
  {
   "cell_type": "markdown",
   "metadata": {},
   "source": [
    "Only square matrices with full ranks are invertible. The inverse of matrix $ A $ is such that \n",
    "$$ A A^{-1} = I $$"
   ]
  },
  {
   "cell_type": "markdown",
   "metadata": {},
   "source": [
    "### 7. What does it mean that two vectors are linearly independent?"
   ]
  },
  {
   "cell_type": "markdown",
   "metadata": {},
   "source": [
    "<font color = \"darkred\">Point(s) = 1</font>"
   ]
  },
  {
   "cell_type": "markdown",
   "metadata": {},
   "source": [
    "Two vectors are linearly independent when one vector is not a scaled version of another. Let's assume two vectors\n",
    "$ \\vec a $ \n",
    "and \n",
    "$\\vec b $.\n",
    "\n",
    "$ \\vec a$ and $\\vec b$ are linearly independent if $$\\vec a \\neq \\lambda \\vec b$$"
   ]
  },
  {
   "cell_type": "markdown",
   "metadata": {},
   "source": [
    "### 8. Given the geometric interpretation of ordinary least squares regression, what is the R-Squared?"
   ]
  },
  {
   "cell_type": "markdown",
   "metadata": {},
   "source": [
    "<font color = \"darkred\">Point(s) = 1</font>"
   ]
  },
  {
   "cell_type": "markdown",
   "metadata": {},
   "source": [
    "Intuitively, R-Squared is the length ratio of the projection of our estimated $ \\hat y $ onto the actually observed $ y $. Mathematically:\n",
    "<br>\n",
    "$$ \\frac{||\\hat{\\textbf{y}}^*||^2}{||\\textbf{y}^* ||^2} $$\n",
    "<br>\n",
    "where both $\\hat y ^ *$ and $ y^*$ are centered at their mean values."
   ]
  },
  {
   "cell_type": "markdown",
   "metadata": {},
   "source": [
    "### 9. What kind of matrices are these? List all descriptions that apply."
   ]
  },
  {
   "cell_type": "code",
   "execution_count": 213,
   "metadata": {},
   "outputs": [],
   "source": [
    "S = np.array([[ 0.5,  0.2, -0.1,  0.3,  0.2,  0. ,  0. ,  0.1, -0.2, -0.1],\n",
    "              [ 0.2,  0.6,  0.2,  0.2, -0.2,  0.1, -0. , -0.1,  0.2, -0.2],\n",
    "              [-0.1,  0.2,  0.8, -0.1,  0.1, -0.2, -0.1,  0.1, -0. ,  0.2],\n",
    "              [ 0.3,  0.2, -0.1,  0.4,  0.1, -0. ,  0.2, -0.2, -0. ,  0.2],\n",
    "              [ 0.2, -0.2,  0.1,  0.1,  0.5,  0.2, -0.2,  0.2, -0.1,  0.2],\n",
    "              [ 0. ,  0.1, -0.2, -0. ,  0.2,  0.6, -0.2,  0.1,  0.4,  0.1],\n",
    "              [ 0. , -0. , -0.1,  0.2, -0.2, -0.2,  0.8,  0.2,  0.1,  0.1],\n",
    "              [ 0.1, -0.1,  0.1, -0.2,  0.2,  0.1,  0.2,  0.7,  0. , -0.2],\n",
    "              [-0.2,  0.2, -0. , -0. , -0.1,  0.4,  0.1,  0. ,  0.5,  0.1],\n",
    "              [-0.1, -0.2,  0.2,  0.2,  0.2,  0.1,  0.1, -0.2,  0.1,  0.6]])"
   ]
  },
  {
   "cell_type": "code",
   "execution_count": 214,
   "metadata": {},
   "outputs": [],
   "source": [
    "Q = np.array([[ 0. ,  2. ,  0.5,  0. ,  0. ,  0. ,  0. ],\n",
    "              [ 0. ,  0. ,  0. ,  0. ,  0. , 77. ,  0. ],\n",
    "              [ 0. ,  0. ,  0. ,  0. ,  0. ,  0. ,  0. ],\n",
    "              [ 2.2,  0. , -9. ,  0. ,  0. ,  0. ,  0. ],\n",
    "              [ 0. ,  0. ,  0. ,  0. ,  0. ,  0. ,  3. ]])"
   ]
  },
  {
   "cell_type": "code",
   "execution_count": 215,
   "metadata": {},
   "outputs": [],
   "source": [
    "H = np.array([[2, 0, 0, 0, 0, 0],\n",
    "              [0, 5, 0, 0, 0, 0],\n",
    "              [0, 0, 8, 0, 0, 0],\n",
    "              [0, 0, 0, 9, 0, 0],\n",
    "              [0, 0, 0, 0,-1, 0],\n",
    "              [0, 0, 0, 0, 0, 2]])"
   ]
  },
  {
   "cell_type": "markdown",
   "metadata": {},
   "source": [
    "<font color = \"darkred\">Point(s) = 3</font>"
   ]
  },
  {
   "cell_type": "markdown",
   "metadata": {},
   "source": [
    "1. Matrix $ S $ is a squared and symmetric matrix. $ S $ is also a full-rank matrix; the columns are linearly independent."
   ]
  },
  {
   "cell_type": "code",
   "execution_count": 24,
   "metadata": {},
   "outputs": [
    {
     "data": {
      "text/plain": [
       "True"
      ]
     },
     "execution_count": 24,
     "metadata": {},
     "output_type": "execute_result"
    }
   ],
   "source": [
    "S.shape[0] == S.shape[1]"
   ]
  },
  {
   "cell_type": "code",
   "execution_count": 17,
   "metadata": {},
   "outputs": [
    {
     "data": {
      "text/plain": [
       "array([[ True,  True,  True,  True,  True,  True,  True,  True,  True,\n",
       "         True],\n",
       "       [ True,  True,  True,  True,  True,  True,  True,  True,  True,\n",
       "         True],\n",
       "       [ True,  True,  True,  True,  True,  True,  True,  True,  True,\n",
       "         True],\n",
       "       [ True,  True,  True,  True,  True,  True,  True,  True,  True,\n",
       "         True],\n",
       "       [ True,  True,  True,  True,  True,  True,  True,  True,  True,\n",
       "         True],\n",
       "       [ True,  True,  True,  True,  True,  True,  True,  True,  True,\n",
       "         True],\n",
       "       [ True,  True,  True,  True,  True,  True,  True,  True,  True,\n",
       "         True],\n",
       "       [ True,  True,  True,  True,  True,  True,  True,  True,  True,\n",
       "         True],\n",
       "       [ True,  True,  True,  True,  True,  True,  True,  True,  True,\n",
       "         True],\n",
       "       [ True,  True,  True,  True,  True,  True,  True,  True,  True,\n",
       "         True]])"
      ]
     },
     "execution_count": 17,
     "metadata": {},
     "output_type": "execute_result"
    }
   ],
   "source": [
    "S.T == S"
   ]
  },
  {
   "cell_type": "code",
   "execution_count": 171,
   "metadata": {},
   "outputs": [
    {
     "data": {
      "text/plain": [
       "10"
      ]
     },
     "execution_count": 171,
     "metadata": {},
     "output_type": "execute_result"
    }
   ],
   "source": [
    "np.linalg.matrix_rank(S)"
   ]
  },
  {
   "cell_type": "markdown",
   "metadata": {},
   "source": [
    "2. Matrix $Q$ is a $5 \\times 7$ sparse matrix. As it has columns that contain all zeros, $Q$ is not of full rank, and therefore the columns are linearly dependent (because it contains zero-columns)."
   ]
  },
  {
   "cell_type": "code",
   "execution_count": 216,
   "metadata": {},
   "outputs": [
    {
     "data": {
      "text/plain": [
       "4"
      ]
     },
     "execution_count": 216,
     "metadata": {},
     "output_type": "execute_result"
    }
   ],
   "source": [
    "np.linalg.matrix_rank(Q)"
   ]
  },
  {
   "cell_type": "markdown",
   "metadata": {},
   "source": [
    "3. Matrix $ H $ is a squared and diagonal matrix, and $H$ is of full rank."
   ]
  },
  {
   "cell_type": "code",
   "execution_count": 25,
   "metadata": {},
   "outputs": [
    {
     "data": {
      "text/plain": [
       "True"
      ]
     },
     "execution_count": 25,
     "metadata": {},
     "output_type": "execute_result"
    }
   ],
   "source": [
    "H.shape[0] == H.shape[1]"
   ]
  },
  {
   "cell_type": "markdown",
   "metadata": {},
   "source": [
    "### 10. What does it mean that the `numpy` package \"broadcasts\"? When will broadcasting throw an error?"
   ]
  },
  {
   "cell_type": "markdown",
   "metadata": {},
   "source": [
    "<font color = \"darkred\">Point(s) = 1</font>"
   ]
  },
  {
   "cell_type": "markdown",
   "metadata": {},
   "source": [
    "In general, broadcasting happens when we perform array operations on arrays with different shapes; numpy can \"broadcast\" one array (the one with smaller dimension) to match the dimension of the larger one. Broadcasting will throw an error if the dimensions of two arrays do not match and neither of the two arrays has a dimension of 1. "
   ]
  },
  {
   "cell_type": "markdown",
   "metadata": {},
   "source": [
    "# Section 2: Computing an Answer\n",
    "\n",
    "Show all your work and comment on your code."
   ]
  },
  {
   "cell_type": "markdown",
   "metadata": {},
   "source": [
    "### 1. Regress the variables contained in matrix $U$ on the outcome vector $\\vec{v}$. Report the linear coefficients and the R-Squared.\n"
   ]
  },
  {
   "cell_type": "markdown",
   "metadata": {},
   "source": [
    "<font color = \"darkred\">Point(s) = 2 </font>"
   ]
  },
  {
   "cell_type": "code",
   "execution_count": 217,
   "metadata": {},
   "outputs": [],
   "source": [
    "U = np.array([ [-1.1, -0.7,  0.7, -0.3, -0.8],\n",
    "               [ 1. , -0.1,  1.5, -2.8, -1.7],\n",
    "               [ 0.3,  1.5, -0.9, -1.8, -0.4],\n",
    "               [-1.5, -0.6,  1.2, -0.7,  0.6],\n",
    "               [-0.6, -0.4, -1.3,  0.9,  0.3],\n",
    "               [ 1.7, -0.4, -0.6, -0.2, -0. ],\n",
    "               [-2.4,  2.2,  0.9,  0. ,  2.4],\n",
    "               [-0.4,  2.2, -1.4,  0.7,  0.4],\n",
    "               [ 1.3,  1. , -0.1, -0.9,  1. ],\n",
    "               [-0.9,  0.4, -0.9,  0.3,  2.2]])\n",
    "v = np.array([-3.9 , -9.75,  5.7 , -2.7 ,  7.15,  7.  , 10.5 , 15.6 ,  9.2 ,11.1 ])"
   ]
  },
  {
   "cell_type": "code",
   "execution_count": 218,
   "metadata": {},
   "outputs": [
    {
     "data": {
      "text/plain": [
       "array([[ 1. , -1.1, -0.7,  0.7, -0.3, -0.8],\n",
       "       [ 1. ,  1. , -0.1,  1.5, -2.8, -1.7],\n",
       "       [ 1. ,  0.3,  1.5, -0.9, -1.8, -0.4],\n",
       "       [ 1. , -1.5, -0.6,  1.2, -0.7,  0.6],\n",
       "       [ 1. , -0.6, -0.4, -1.3,  0.9,  0.3],\n",
       "       [ 1. ,  1.7, -0.4, -0.6, -0.2, -0. ],\n",
       "       [ 1. , -2.4,  2.2,  0.9,  0. ,  2.4],\n",
       "       [ 1. , -0.4,  2.2, -1.4,  0.7,  0.4],\n",
       "       [ 1. ,  1.3,  1. , -0.1, -0.9,  1. ],\n",
       "       [ 1. , -0.9,  0.4, -0.9,  0.3,  2.2]])"
      ]
     },
     "execution_count": 218,
     "metadata": {},
     "output_type": "execute_result"
    }
   ],
   "source": [
    "## Prepare the data: add a 1 column to matrix U\n",
    "U = np.column_stack([np.ones(U.shape[0]),U])\n",
    "U"
   ]
  },
  {
   "cell_type": "markdown",
   "metadata": {},
   "source": [
    "To Calculate $ \\beta $, we use the following formula:\n",
    "<br>\n",
    "\n",
    "$$ \\beta = (\\textbf{U}^T \\textbf{U})^{-1} \\textbf{U}^T \\textbf{v}$$\n",
    "\n",
    "<br>"
   ]
  },
  {
   "cell_type": "code",
   "execution_count": 241,
   "metadata": {},
   "outputs": [
    {
     "data": {
      "text/plain": [
       "array([ 4.05,  1.67,  3.02, -2.05,  2.66,  2.33])"
      ]
     },
     "execution_count": 241,
     "metadata": {},
     "output_type": "execute_result"
    }
   ],
   "source": [
    "## Calculate the beta coefficients\n",
    "\n",
    "Beta =np.linalg.inv(U.T.dot(U)).dot(U.T.dot(v))\n",
    "Beta.round(2)"
   ]
  },
  {
   "cell_type": "markdown",
   "metadata": {},
   "source": [
    "To come up with the R-Squared, we first need to generate the prediction $ \\hat y $. For that, we need to use the following:\n",
    "<br>\n",
    "$$ \\hat y = U \\cdot \\beta $$"
   ]
  },
  {
   "cell_type": "code",
   "execution_count": 242,
   "metadata": {},
   "outputs": [
    {
     "data": {
      "text/plain": [
       "array([-4.01, -9.09,  5.19, -3.19,  7.6 ,  6.37, 10.44, 15.68,  9.38,\n",
       "       11.53])"
      ]
     },
     "execution_count": 242,
     "metadata": {},
     "output_type": "execute_result"
    }
   ],
   "source": [
    "v_hat = U.dot(Beta)\n",
    "v_hat.round(2)"
   ]
  },
  {
   "cell_type": "markdown",
   "metadata": {},
   "source": [
    "R-Squared follows: \n",
    "<br>\n",
    "$$ 1- \\frac{||\\hat{ e }||^2}{||\\textbf{y}^* ||^2}$$\n",
    "<br>"
   ]
  },
  {
   "cell_type": "code",
   "execution_count": 245,
   "metadata": {},
   "outputs": [
    {
     "data": {
      "text/plain": [
       "1.0"
      ]
     },
     "execution_count": 245,
     "metadata": {},
     "output_type": "execute_result"
    }
   ],
   "source": [
    "v_center = v - v.mean()\n",
    "e = v - v_hat\n",
    "R2 = 1 - (e.dot(e)/v_center.dot(v_center))\n",
    "R2.round(2)"
   ]
  },
  {
   "cell_type": "markdown",
   "metadata": {},
   "source": [
    "### 2. What is the length of the projection of vector $\\vec{g}$ on $\\vec{p}$? What is that length approximately equivalent to and why?"
   ]
  },
  {
   "cell_type": "markdown",
   "metadata": {},
   "source": [
    "<font color = \"darkred\">Point(s) = 2</font>"
   ]
  },
  {
   "cell_type": "code",
   "execution_count": 258,
   "metadata": {},
   "outputs": [],
   "source": [
    "g = np.array([0.12, 0.24, 0.27, 0.59, 0.71])\n",
    "p = np.array([0.73, 0.36, 0.11, 0.36, 0.44])"
   ]
  },
  {
   "cell_type": "code",
   "execution_count": 266,
   "metadata": {},
   "outputs": [
    {
     "data": {
      "text/plain": [
       "0.73"
      ]
     },
     "execution_count": 266,
     "metadata": {},
     "output_type": "execute_result"
    }
   ],
   "source": [
    "c = g.dot(p)/p.dot(p)\n",
    "gproj = c*p\n",
    "length = math.sqrt(gproj.dot(gproj))\n",
    "round(length,2)"
   ]
  },
  {
   "cell_type": "markdown",
   "metadata": {},
   "source": [
    "The length of the projection of vector $ \\vec g $ on $ \\vec p $ is equivalent to the cosine value of the angle between the two vectors. First of all, both $ \\vec g $ on $ \\vec p $ are unit vectors:"
   ]
  },
  {
   "cell_type": "code",
   "execution_count": 264,
   "metadata": {},
   "outputs": [
    {
     "data": {
      "text/plain": [
       "1.0"
      ]
     },
     "execution_count": 264,
     "metadata": {},
     "output_type": "execute_result"
    }
   ],
   "source": [
    "g.dot(g).round(2)"
   ]
  },
  {
   "cell_type": "code",
   "execution_count": 265,
   "metadata": {},
   "outputs": [
    {
     "data": {
      "text/plain": [
       "1.0"
      ]
     },
     "execution_count": 265,
     "metadata": {},
     "output_type": "execute_result"
    }
   ],
   "source": [
    "p.dot(p).round(2)"
   ]
  },
  {
   "cell_type": "markdown",
   "metadata": {},
   "source": [
    "The projection of $\\vec g$ on $\\vec p$ follows that \n",
    "<br>\n",
    "$$ Length = \\frac{\\vec{g} \\cdot \\vec{p}}{\\left\\| p \\right\\|^2} $$ \n",
    "<br>\n",
    "\n",
    "where\n",
    "<br>\n",
    "$$ \\vec{g} \\cdot \\vec{p} =  \\left\\| g \\right\\| \\left\\| p \\right\\|\\cos{\\theta}$$\n",
    "<br>\n",
    "\n",
    "and both $\\left\\| g \\right\\|$ and $\\left\\| p \\right\\|$ equals 1 (unit vectors). Therefore, the length of the projection is the cosine value between the two vectors."
   ]
  },
  {
   "cell_type": "markdown",
   "metadata": {},
   "source": [
    "### 3. Solve the following systems of equations for all unknown values using matrix inversions.\n",
    "\n",
    "<font color = \"darkred\">Point(s) = 2</font>\n",
    "\n",
    "(a) \n",
    "$$ 4x + 3y + z = 1$$\n",
    "$$       y +4z = 3$$\n",
    "$$ 9x + 3y + 2z = 2$$\n",
    "\n",
    "(b) \n",
    "$$ -8a +   3b +  c = 3   $$\n",
    "$$  3a +    b + 2c = .2  $$\n",
    "$$ .5a + 6.5b +  c = 10.1$$"
   ]
  },
  {
   "cell_type": "code",
   "execution_count": 274,
   "metadata": {},
   "outputs": [
    {
     "data": {
      "text/plain": [
       "array([0.05, 0.02, 0.75])"
      ]
     },
     "execution_count": 274,
     "metadata": {},
     "output_type": "execute_result"
    }
   ],
   "source": [
    "## Part (a)\n",
    "p = np.array([[4,3,1],\n",
    "              [0,1,4],\n",
    "              [9,3,2]])\n",
    "y1 = np.array([1,3,2])\n",
    "x1 = np.linalg.inv(p).dot(y1)\n",
    "x1.round(2)"
   ]
  },
  {
   "cell_type": "code",
   "execution_count": 275,
   "metadata": {},
   "outputs": [
    {
     "data": {
      "text/plain": [
       "array([ 0.14,  1.69, -0.95])"
      ]
     },
     "execution_count": 275,
     "metadata": {},
     "output_type": "execute_result"
    }
   ],
   "source": [
    "## Part (b)\n",
    "q = np.array([[-8,3,1],\n",
    "              [3,1,2],\n",
    "              [.5,6.5,1]])\n",
    "y2 = np.array([3,.2,10.1])\n",
    "x2 = np.linalg.inv(q).dot(y2)\n",
    "x2.round(2)"
   ]
  },
  {
   "cell_type": "markdown",
   "metadata": {},
   "source": [
    "# Section 3: Detect the Problem \n",
    "\n",
    "The following section gives you code for a function that performs some a linear algebra-based computation. However, something is potentially wrong with the function. If a problem exists, please resolve."
   ]
  },
  {
   "cell_type": "markdown",
   "metadata": {},
   "source": [
    "### 1. The following function intends to calculate the dot product of two matrices. Is it correct? If not, (a) why? (be detailed) and (b) how would you fix it?\n",
    "\n",
    "<font color = \"darkred\">Point(s) = 2</font>"
   ]
  },
  {
   "cell_type": "code",
   "execution_count": 228,
   "metadata": {},
   "outputs": [],
   "source": [
    "def dot(A,B):\n",
    "    '''\n",
    "    Calculate the dot product of A and B\n",
    "    '''\n",
    "    return np.array([sum([a*b for a in np.nditer(A)]) for b in np.nditer(B)]).reshape(B.shape)"
   ]
  },
  {
   "cell_type": "markdown",
   "metadata": {},
   "source": [
    "To test whether the function correctly calculate the dot product of two matrices, we try a simple example:"
   ]
  },
  {
   "cell_type": "code",
   "execution_count": 229,
   "metadata": {},
   "outputs": [
    {
     "data": {
      "text/plain": [
       "array([[11, 22, 33],\n",
       "       [33, 11, 22]])"
      ]
     },
     "execution_count": 229,
     "metadata": {},
     "output_type": "execute_result"
    }
   ],
   "source": [
    "abc = np.array([[1,2],\n",
    "                [2,1],\n",
    "                [3,2]])\n",
    "abcd  = np.array ([[1,2,3],\n",
    "                   [3,1,2]])\n",
    "dot(abc,abcd)"
   ]
  },
  {
   "cell_type": "code",
   "execution_count": 230,
   "metadata": {},
   "outputs": [
    {
     "data": {
      "text/plain": [
       "array([[ 7,  4,  7],\n",
       "       [ 5,  5,  8],\n",
       "       [ 9,  8, 13]])"
      ]
     },
     "execution_count": 230,
     "metadata": {},
     "output_type": "execute_result"
    }
   ],
   "source": [
    "abc.dot(abcd)"
   ]
  },
  {
   "cell_type": "markdown",
   "metadata": {},
   "source": [
    "Obviously, there is something wrong with the function. As I am not familiar with `np.nditer()` function, I print out the elements in such an iteration to see what values it grabs from an Numpy array."
   ]
  },
  {
   "cell_type": "code",
   "execution_count": 231,
   "metadata": {},
   "outputs": [
    {
     "name": "stdout",
     "output_type": "stream",
     "text": [
      "1\n",
      "2\n",
      "2\n",
      "1\n",
      "3\n",
      "2\n"
     ]
    }
   ],
   "source": [
    "for a in np.nditer(abc):\n",
    "    print(a)"
   ]
  },
  {
   "cell_type": "markdown",
   "metadata": {},
   "source": [
    "Now I think I have located where the problem is: the function loops through all elements in matrix $ A $ and sums the product of all elements of $ A $ with one element in matrix $ B $. However, dot product calculates the product of elements in $ A $'s row spaces and $ B $'s column spaces, and that's where the error is. Also, the result matrix should be of $ m \\times n $, where $m$ is the number of rows in matrix $ A $ and $n$ is the number of columns in matrix $ B$. I try the following to fix the problem:"
   ]
  },
  {
   "cell_type": "code",
   "execution_count": 232,
   "metadata": {},
   "outputs": [],
   "source": [
    "def dot2(A,B):\n",
    "    '''\n",
    "    The revised version: calculate the dot product of A and B\n",
    "    '''\n",
    "    ls = []\n",
    "    for a in A: ## Access the rows in matrix A\n",
    "        for b in B.T: ## Access the columns in matrix B\n",
    "            c = sum(a*b) ## Sum\n",
    "            ls.append(c)\n",
    "    return np.array(ls).reshape(A.shape[0],B.shape[1])"
   ]
  },
  {
   "cell_type": "markdown",
   "metadata": {},
   "source": [
    "Try it out with our previous matrices:"
   ]
  },
  {
   "cell_type": "code",
   "execution_count": 233,
   "metadata": {},
   "outputs": [
    {
     "data": {
      "text/plain": [
       "array([[ 7,  4,  7],\n",
       "       [ 5,  5,  8],\n",
       "       [ 9,  8, 13]])"
      ]
     },
     "execution_count": 233,
     "metadata": {},
     "output_type": "execute_result"
    }
   ],
   "source": [
    "dot2(abc,abcd)"
   ]
  },
  {
   "cell_type": "markdown",
   "metadata": {},
   "source": [
    "## Section 4: Applied Analysis"
   ]
  },
  {
   "cell_type": "markdown",
   "metadata": {},
   "source": [
    "### Data \n",
    "\n",
    "For this question, use a subsetted version of the [American National Elections Studies](https://electionstudies.org/about-us/)' survey of American voters taken in 2016. The following \"feeling thermometer\" questions have been selected for each respondent who reported their party affiliation as either \"republican\", \"democrat\", or \"independent\".  \n",
    "\n",
    "The following lists each item included in the data:\n",
    "\n",
    "- V162313 - Feeling thermometer: ILLEGAL IMMIGRANTS\n",
    "- V162095 - Feeling thermometer: CHRISTIAN FUNDAMENTALISTS\n",
    "- V162096 - Feeling thermometer: FEMINISTS\n",
    "- V162097 - Feeling thermometer: LIBERALS\n",
    "- V162098 - Feeling thermometer: LABOR UNIONS\n",
    "- V162099 - Feeling thermometer: POOR PEOPLE\n",
    "- V162100 - Feeling thermometer: BIG BUSINESS\n",
    "- V162101 - Feeling thermometer: CONSERVATIVES\n",
    "- V162102 - Feeling thermometer: THE U.S. SUPREME COURT\n",
    "- V162103 - Feeling thermometer: GAY MEN AND LESBIANS\n",
    "- V162104 - Feeling thermometer: CONGRESS\n",
    "- V162105 - Feeling thermometer: RICH PEOPLE\n",
    "- V162106 - Feeling thermometer: MUSLIMS\n",
    "- V162107 - Feeling thermometer: CHRISTIANS\n",
    "- V162108 - Feeling thermometer: JEWS\n",
    "- V162109 - Feeling thermometer: TEA PARTY\n",
    "- V162110 - Feeling thermometer: POLICE\n",
    "- V162111 - Feeling thermometer: TRANSGENDER PEOPLE\n",
    "- V162112 - Feeling thermometer: SCIENTISTS\n",
    "- V162113 - Feeling thermometer: BLACK LIVES MATTER\n",
    "\n",
    "A feeling thermometer takes on a value from 0 to 100 with higher values indicating higher approval. Individual respondents place themselves on this scale with respect to each issue item.\n",
    "\n",
    "### Instructions\n",
    "\n",
    "Reduce these 20 survey items into one or more dimensions using an Eigen Decomposition. See if you can validate any of the scales you have created using the `party_id` variable (i.e. do any of the latent dimensions capture ideological identity/preferences?). Be careful to show your work and comment on each step of your analysis and findings. \n",
    "\n",
    "<font color = \"darkred\">Point(s) = 5</font>"
   ]
  },
  {
   "cell_type": "code",
   "execution_count": 234,
   "metadata": {},
   "outputs": [
    {
     "data": {
      "text/html": [
       "<div>\n",
       "<style scoped>\n",
       "    .dataframe tbody tr th:only-of-type {\n",
       "        vertical-align: middle;\n",
       "    }\n",
       "\n",
       "    .dataframe tbody tr th {\n",
       "        vertical-align: top;\n",
       "    }\n",
       "\n",
       "    .dataframe thead th {\n",
       "        text-align: right;\n",
       "    }\n",
       "</style>\n",
       "<table border=\"1\" class=\"dataframe\">\n",
       "  <thead>\n",
       "    <tr style=\"text-align: right;\">\n",
       "      <th></th>\n",
       "      <th>respondent_id</th>\n",
       "      <th>party_id</th>\n",
       "      <th>V162313</th>\n",
       "      <th>V162095</th>\n",
       "      <th>V162096</th>\n",
       "      <th>V162097</th>\n",
       "      <th>V162098</th>\n",
       "      <th>V162099</th>\n",
       "      <th>V162100</th>\n",
       "      <th>V162101</th>\n",
       "      <th>...</th>\n",
       "      <th>V162104</th>\n",
       "      <th>V162105</th>\n",
       "      <th>V162106</th>\n",
       "      <th>V162107</th>\n",
       "      <th>V162108</th>\n",
       "      <th>V162109</th>\n",
       "      <th>V162110</th>\n",
       "      <th>V162111</th>\n",
       "      <th>V162112</th>\n",
       "      <th>V162113</th>\n",
       "    </tr>\n",
       "  </thead>\n",
       "  <tbody>\n",
       "    <tr>\n",
       "      <th>0</th>\n",
       "      <td>1</td>\n",
       "      <td>Democrat</td>\n",
       "      <td>0.0</td>\n",
       "      <td>70.0</td>\n",
       "      <td>50.0</td>\n",
       "      <td>50.0</td>\n",
       "      <td>50.0</td>\n",
       "      <td>70.0</td>\n",
       "      <td>70.0</td>\n",
       "      <td>70.0</td>\n",
       "      <td>...</td>\n",
       "      <td>70.0</td>\n",
       "      <td>50.0</td>\n",
       "      <td>15.0</td>\n",
       "      <td>100.0</td>\n",
       "      <td>50.0</td>\n",
       "      <td>50.0</td>\n",
       "      <td>70.0</td>\n",
       "      <td>50.0</td>\n",
       "      <td>70.0</td>\n",
       "      <td>15.0</td>\n",
       "    </tr>\n",
       "    <tr>\n",
       "      <th>1</th>\n",
       "      <td>2</td>\n",
       "      <td>Democrat</td>\n",
       "      <td>0.0</td>\n",
       "      <td>50.0</td>\n",
       "      <td>50.0</td>\n",
       "      <td>50.0</td>\n",
       "      <td>50.0</td>\n",
       "      <td>50.0</td>\n",
       "      <td>40.0</td>\n",
       "      <td>60.0</td>\n",
       "      <td>...</td>\n",
       "      <td>50.0</td>\n",
       "      <td>50.0</td>\n",
       "      <td>50.0</td>\n",
       "      <td>50.0</td>\n",
       "      <td>50.0</td>\n",
       "      <td>50.0</td>\n",
       "      <td>40.0</td>\n",
       "      <td>50.0</td>\n",
       "      <td>70.0</td>\n",
       "      <td>50.0</td>\n",
       "    </tr>\n",
       "    <tr>\n",
       "      <th>2</th>\n",
       "      <td>3</td>\n",
       "      <td>Independent</td>\n",
       "      <td>15.0</td>\n",
       "      <td>40.0</td>\n",
       "      <td>50.0</td>\n",
       "      <td>50.0</td>\n",
       "      <td>60.0</td>\n",
       "      <td>60.0</td>\n",
       "      <td>70.0</td>\n",
       "      <td>50.0</td>\n",
       "      <td>...</td>\n",
       "      <td>50.0</td>\n",
       "      <td>50.0</td>\n",
       "      <td>60.0</td>\n",
       "      <td>50.0</td>\n",
       "      <td>60.0</td>\n",
       "      <td>50.0</td>\n",
       "      <td>70.0</td>\n",
       "      <td>50.0</td>\n",
       "      <td>70.0</td>\n",
       "      <td>30.0</td>\n",
       "    </tr>\n",
       "    <tr>\n",
       "      <th>3</th>\n",
       "      <td>4</td>\n",
       "      <td>Independent</td>\n",
       "      <td>50.0</td>\n",
       "      <td>85.0</td>\n",
       "      <td>70.0</td>\n",
       "      <td>70.0</td>\n",
       "      <td>85.0</td>\n",
       "      <td>85.0</td>\n",
       "      <td>50.0</td>\n",
       "      <td>70.0</td>\n",
       "      <td>...</td>\n",
       "      <td>50.0</td>\n",
       "      <td>70.0</td>\n",
       "      <td>85.0</td>\n",
       "      <td>85.0</td>\n",
       "      <td>85.0</td>\n",
       "      <td>50.0</td>\n",
       "      <td>85.0</td>\n",
       "      <td>85.0</td>\n",
       "      <td>85.0</td>\n",
       "      <td>15.0</td>\n",
       "    </tr>\n",
       "    <tr>\n",
       "      <th>4</th>\n",
       "      <td>5</td>\n",
       "      <td>Republican</td>\n",
       "      <td>50.0</td>\n",
       "      <td>70.0</td>\n",
       "      <td>50.0</td>\n",
       "      <td>85.0</td>\n",
       "      <td>70.0</td>\n",
       "      <td>100.0</td>\n",
       "      <td>50.0</td>\n",
       "      <td>85.0</td>\n",
       "      <td>...</td>\n",
       "      <td>60.0</td>\n",
       "      <td>50.0</td>\n",
       "      <td>100.0</td>\n",
       "      <td>100.0</td>\n",
       "      <td>85.0</td>\n",
       "      <td>40.0</td>\n",
       "      <td>85.0</td>\n",
       "      <td>85.0</td>\n",
       "      <td>100.0</td>\n",
       "      <td>100.0</td>\n",
       "    </tr>\n",
       "  </tbody>\n",
       "</table>\n",
       "<p>5 rows × 22 columns</p>\n",
       "</div>"
      ],
      "text/plain": [
       "   respondent_id     party_id  V162313  V162095  V162096  V162097  V162098  \\\n",
       "0              1     Democrat      0.0     70.0     50.0     50.0     50.0   \n",
       "1              2     Democrat      0.0     50.0     50.0     50.0     50.0   \n",
       "2              3  Independent     15.0     40.0     50.0     50.0     60.0   \n",
       "3              4  Independent     50.0     85.0     70.0     70.0     85.0   \n",
       "4              5   Republican     50.0     70.0     50.0     85.0     70.0   \n",
       "\n",
       "   V162099  V162100  V162101  ...  V162104  V162105  V162106  V162107  \\\n",
       "0     70.0     70.0     70.0  ...     70.0     50.0     15.0    100.0   \n",
       "1     50.0     40.0     60.0  ...     50.0     50.0     50.0     50.0   \n",
       "2     60.0     70.0     50.0  ...     50.0     50.0     60.0     50.0   \n",
       "3     85.0     50.0     70.0  ...     50.0     70.0     85.0     85.0   \n",
       "4    100.0     50.0     85.0  ...     60.0     50.0    100.0    100.0   \n",
       "\n",
       "   V162108  V162109  V162110  V162111  V162112  V162113  \n",
       "0     50.0     50.0     70.0     50.0     70.0     15.0  \n",
       "1     50.0     50.0     40.0     50.0     70.0     50.0  \n",
       "2     60.0     50.0     70.0     50.0     70.0     30.0  \n",
       "3     85.0     50.0     85.0     85.0     85.0     15.0  \n",
       "4     85.0     40.0     85.0     85.0    100.0    100.0  \n",
       "\n",
       "[5 rows x 22 columns]"
      ]
     },
     "execution_count": 234,
     "metadata": {},
     "output_type": "execute_result"
    }
   ],
   "source": [
    "anes = pd.read_csv('2016-ANES-feeling-thermometer.csv')\n",
    "anes.head()"
   ]
  },
  {
   "cell_type": "code",
   "execution_count": 268,
   "metadata": {},
   "outputs": [
    {
     "data": {
      "text/html": [
       "<div>\n",
       "<style scoped>\n",
       "    .dataframe tbody tr th:only-of-type {\n",
       "        vertical-align: middle;\n",
       "    }\n",
       "\n",
       "    .dataframe tbody tr th {\n",
       "        vertical-align: top;\n",
       "    }\n",
       "\n",
       "    .dataframe thead th {\n",
       "        text-align: right;\n",
       "    }\n",
       "</style>\n",
       "<table border=\"1\" class=\"dataframe\">\n",
       "  <thead>\n",
       "    <tr style=\"text-align: right;\">\n",
       "      <th></th>\n",
       "      <th>V162313</th>\n",
       "      <th>V162095</th>\n",
       "      <th>V162096</th>\n",
       "      <th>V162097</th>\n",
       "      <th>V162098</th>\n",
       "      <th>V162099</th>\n",
       "      <th>V162100</th>\n",
       "      <th>V162101</th>\n",
       "      <th>V162102</th>\n",
       "      <th>V162103</th>\n",
       "      <th>V162104</th>\n",
       "      <th>V162105</th>\n",
       "      <th>V162106</th>\n",
       "      <th>V162107</th>\n",
       "      <th>V162108</th>\n",
       "      <th>V162109</th>\n",
       "      <th>V162110</th>\n",
       "      <th>V162111</th>\n",
       "      <th>V162112</th>\n",
       "      <th>V162113</th>\n",
       "    </tr>\n",
       "  </thead>\n",
       "  <tbody>\n",
       "    <tr>\n",
       "      <th>V162313</th>\n",
       "      <td>1.00</td>\n",
       "      <td>-0.18</td>\n",
       "      <td>0.39</td>\n",
       "      <td>0.45</td>\n",
       "      <td>0.27</td>\n",
       "      <td>0.21</td>\n",
       "      <td>-0.11</td>\n",
       "      <td>-0.31</td>\n",
       "      <td>0.13</td>\n",
       "      <td>0.34</td>\n",
       "      <td>-0.01</td>\n",
       "      <td>-0.03</td>\n",
       "      <td>0.45</td>\n",
       "      <td>-0.14</td>\n",
       "      <td>0.18</td>\n",
       "      <td>-0.31</td>\n",
       "      <td>-0.20</td>\n",
       "      <td>0.39</td>\n",
       "      <td>0.19</td>\n",
       "      <td>0.48</td>\n",
       "    </tr>\n",
       "    <tr>\n",
       "      <th>V162095</th>\n",
       "      <td>-0.18</td>\n",
       "      <td>1.00</td>\n",
       "      <td>-0.22</td>\n",
       "      <td>-0.32</td>\n",
       "      <td>-0.05</td>\n",
       "      <td>0.17</td>\n",
       "      <td>0.37</td>\n",
       "      <td>0.56</td>\n",
       "      <td>0.10</td>\n",
       "      <td>-0.31</td>\n",
       "      <td>0.37</td>\n",
       "      <td>0.26</td>\n",
       "      <td>-0.16</td>\n",
       "      <td>0.60</td>\n",
       "      <td>0.09</td>\n",
       "      <td>0.53</td>\n",
       "      <td>0.27</td>\n",
       "      <td>-0.29</td>\n",
       "      <td>-0.17</td>\n",
       "      <td>-0.16</td>\n",
       "    </tr>\n",
       "    <tr>\n",
       "      <th>V162096</th>\n",
       "      <td>0.39</td>\n",
       "      <td>-0.22</td>\n",
       "      <td>1.00</td>\n",
       "      <td>0.61</td>\n",
       "      <td>0.41</td>\n",
       "      <td>0.27</td>\n",
       "      <td>-0.07</td>\n",
       "      <td>-0.31</td>\n",
       "      <td>0.22</td>\n",
       "      <td>0.52</td>\n",
       "      <td>-0.01</td>\n",
       "      <td>0.02</td>\n",
       "      <td>0.46</td>\n",
       "      <td>-0.10</td>\n",
       "      <td>0.28</td>\n",
       "      <td>-0.31</td>\n",
       "      <td>-0.08</td>\n",
       "      <td>0.53</td>\n",
       "      <td>0.37</td>\n",
       "      <td>0.57</td>\n",
       "    </tr>\n",
       "    <tr>\n",
       "      <th>V162097</th>\n",
       "      <td>0.45</td>\n",
       "      <td>-0.32</td>\n",
       "      <td>0.61</td>\n",
       "      <td>1.00</td>\n",
       "      <td>0.46</td>\n",
       "      <td>0.21</td>\n",
       "      <td>-0.15</td>\n",
       "      <td>-0.47</td>\n",
       "      <td>0.21</td>\n",
       "      <td>0.50</td>\n",
       "      <td>-0.02</td>\n",
       "      <td>-0.05</td>\n",
       "      <td>0.50</td>\n",
       "      <td>-0.20</td>\n",
       "      <td>0.21</td>\n",
       "      <td>-0.42</td>\n",
       "      <td>-0.17</td>\n",
       "      <td>0.53</td>\n",
       "      <td>0.36</td>\n",
       "      <td>0.60</td>\n",
       "    </tr>\n",
       "    <tr>\n",
       "      <th>V162098</th>\n",
       "      <td>0.27</td>\n",
       "      <td>-0.05</td>\n",
       "      <td>0.41</td>\n",
       "      <td>0.46</td>\n",
       "      <td>1.00</td>\n",
       "      <td>0.26</td>\n",
       "      <td>-0.04</td>\n",
       "      <td>-0.21</td>\n",
       "      <td>0.17</td>\n",
       "      <td>0.30</td>\n",
       "      <td>0.09</td>\n",
       "      <td>-0.02</td>\n",
       "      <td>0.29</td>\n",
       "      <td>-0.00</td>\n",
       "      <td>0.17</td>\n",
       "      <td>-0.20</td>\n",
       "      <td>-0.04</td>\n",
       "      <td>0.32</td>\n",
       "      <td>0.26</td>\n",
       "      <td>0.41</td>\n",
       "    </tr>\n",
       "    <tr>\n",
       "      <th>V162099</th>\n",
       "      <td>0.21</td>\n",
       "      <td>0.17</td>\n",
       "      <td>0.27</td>\n",
       "      <td>0.21</td>\n",
       "      <td>0.26</td>\n",
       "      <td>1.00</td>\n",
       "      <td>0.11</td>\n",
       "      <td>0.08</td>\n",
       "      <td>0.22</td>\n",
       "      <td>0.23</td>\n",
       "      <td>0.12</td>\n",
       "      <td>0.19</td>\n",
       "      <td>0.33</td>\n",
       "      <td>0.30</td>\n",
       "      <td>0.45</td>\n",
       "      <td>0.03</td>\n",
       "      <td>0.16</td>\n",
       "      <td>0.26</td>\n",
       "      <td>0.28</td>\n",
       "      <td>0.29</td>\n",
       "    </tr>\n",
       "    <tr>\n",
       "      <th>V162100</th>\n",
       "      <td>-0.11</td>\n",
       "      <td>0.37</td>\n",
       "      <td>-0.07</td>\n",
       "      <td>-0.15</td>\n",
       "      <td>-0.04</td>\n",
       "      <td>0.11</td>\n",
       "      <td>1.00</td>\n",
       "      <td>0.43</td>\n",
       "      <td>0.29</td>\n",
       "      <td>-0.11</td>\n",
       "      <td>0.41</td>\n",
       "      <td>0.46</td>\n",
       "      <td>-0.06</td>\n",
       "      <td>0.31</td>\n",
       "      <td>0.09</td>\n",
       "      <td>0.40</td>\n",
       "      <td>0.26</td>\n",
       "      <td>-0.11</td>\n",
       "      <td>0.03</td>\n",
       "      <td>-0.09</td>\n",
       "    </tr>\n",
       "    <tr>\n",
       "      <th>V162101</th>\n",
       "      <td>-0.31</td>\n",
       "      <td>0.56</td>\n",
       "      <td>-0.31</td>\n",
       "      <td>-0.47</td>\n",
       "      <td>-0.21</td>\n",
       "      <td>0.08</td>\n",
       "      <td>0.43</td>\n",
       "      <td>1.00</td>\n",
       "      <td>0.14</td>\n",
       "      <td>-0.26</td>\n",
       "      <td>0.33</td>\n",
       "      <td>0.39</td>\n",
       "      <td>-0.21</td>\n",
       "      <td>0.47</td>\n",
       "      <td>0.09</td>\n",
       "      <td>0.62</td>\n",
       "      <td>0.39</td>\n",
       "      <td>-0.27</td>\n",
       "      <td>-0.10</td>\n",
       "      <td>-0.36</td>\n",
       "    </tr>\n",
       "    <tr>\n",
       "      <th>V162102</th>\n",
       "      <td>0.13</td>\n",
       "      <td>0.10</td>\n",
       "      <td>0.22</td>\n",
       "      <td>0.21</td>\n",
       "      <td>0.17</td>\n",
       "      <td>0.22</td>\n",
       "      <td>0.29</td>\n",
       "      <td>0.14</td>\n",
       "      <td>1.00</td>\n",
       "      <td>0.16</td>\n",
       "      <td>0.38</td>\n",
       "      <td>0.25</td>\n",
       "      <td>0.22</td>\n",
       "      <td>0.18</td>\n",
       "      <td>0.20</td>\n",
       "      <td>0.10</td>\n",
       "      <td>0.25</td>\n",
       "      <td>0.17</td>\n",
       "      <td>0.27</td>\n",
       "      <td>0.16</td>\n",
       "    </tr>\n",
       "    <tr>\n",
       "      <th>V162103</th>\n",
       "      <td>0.34</td>\n",
       "      <td>-0.31</td>\n",
       "      <td>0.52</td>\n",
       "      <td>0.50</td>\n",
       "      <td>0.30</td>\n",
       "      <td>0.23</td>\n",
       "      <td>-0.11</td>\n",
       "      <td>-0.26</td>\n",
       "      <td>0.16</td>\n",
       "      <td>1.00</td>\n",
       "      <td>-0.09</td>\n",
       "      <td>0.05</td>\n",
       "      <td>0.56</td>\n",
       "      <td>-0.18</td>\n",
       "      <td>0.34</td>\n",
       "      <td>-0.25</td>\n",
       "      <td>-0.03</td>\n",
       "      <td>0.83</td>\n",
       "      <td>0.38</td>\n",
       "      <td>0.40</td>\n",
       "    </tr>\n",
       "    <tr>\n",
       "      <th>V162104</th>\n",
       "      <td>-0.01</td>\n",
       "      <td>0.37</td>\n",
       "      <td>-0.01</td>\n",
       "      <td>-0.02</td>\n",
       "      <td>0.09</td>\n",
       "      <td>0.12</td>\n",
       "      <td>0.41</td>\n",
       "      <td>0.33</td>\n",
       "      <td>0.38</td>\n",
       "      <td>-0.09</td>\n",
       "      <td>1.00</td>\n",
       "      <td>0.26</td>\n",
       "      <td>-0.02</td>\n",
       "      <td>0.29</td>\n",
       "      <td>0.03</td>\n",
       "      <td>0.40</td>\n",
       "      <td>0.20</td>\n",
       "      <td>-0.06</td>\n",
       "      <td>0.00</td>\n",
       "      <td>0.04</td>\n",
       "    </tr>\n",
       "    <tr>\n",
       "      <th>V162105</th>\n",
       "      <td>-0.03</td>\n",
       "      <td>0.26</td>\n",
       "      <td>0.02</td>\n",
       "      <td>-0.05</td>\n",
       "      <td>-0.02</td>\n",
       "      <td>0.19</td>\n",
       "      <td>0.46</td>\n",
       "      <td>0.39</td>\n",
       "      <td>0.25</td>\n",
       "      <td>0.05</td>\n",
       "      <td>0.26</td>\n",
       "      <td>1.00</td>\n",
       "      <td>0.08</td>\n",
       "      <td>0.31</td>\n",
       "      <td>0.29</td>\n",
       "      <td>0.28</td>\n",
       "      <td>0.32</td>\n",
       "      <td>0.04</td>\n",
       "      <td>0.16</td>\n",
       "      <td>-0.10</td>\n",
       "    </tr>\n",
       "    <tr>\n",
       "      <th>V162106</th>\n",
       "      <td>0.45</td>\n",
       "      <td>-0.16</td>\n",
       "      <td>0.46</td>\n",
       "      <td>0.50</td>\n",
       "      <td>0.29</td>\n",
       "      <td>0.33</td>\n",
       "      <td>-0.06</td>\n",
       "      <td>-0.21</td>\n",
       "      <td>0.22</td>\n",
       "      <td>0.56</td>\n",
       "      <td>-0.02</td>\n",
       "      <td>0.08</td>\n",
       "      <td>1.00</td>\n",
       "      <td>-0.03</td>\n",
       "      <td>0.41</td>\n",
       "      <td>-0.24</td>\n",
       "      <td>-0.04</td>\n",
       "      <td>0.60</td>\n",
       "      <td>0.35</td>\n",
       "      <td>0.51</td>\n",
       "    </tr>\n",
       "    <tr>\n",
       "      <th>V162107</th>\n",
       "      <td>-0.14</td>\n",
       "      <td>0.60</td>\n",
       "      <td>-0.10</td>\n",
       "      <td>-0.20</td>\n",
       "      <td>-0.00</td>\n",
       "      <td>0.30</td>\n",
       "      <td>0.31</td>\n",
       "      <td>0.47</td>\n",
       "      <td>0.18</td>\n",
       "      <td>-0.18</td>\n",
       "      <td>0.29</td>\n",
       "      <td>0.31</td>\n",
       "      <td>-0.03</td>\n",
       "      <td>1.00</td>\n",
       "      <td>0.27</td>\n",
       "      <td>0.35</td>\n",
       "      <td>0.35</td>\n",
       "      <td>-0.18</td>\n",
       "      <td>-0.02</td>\n",
       "      <td>-0.09</td>\n",
       "    </tr>\n",
       "    <tr>\n",
       "      <th>V162108</th>\n",
       "      <td>0.18</td>\n",
       "      <td>0.09</td>\n",
       "      <td>0.28</td>\n",
       "      <td>0.21</td>\n",
       "      <td>0.17</td>\n",
       "      <td>0.45</td>\n",
       "      <td>0.09</td>\n",
       "      <td>0.09</td>\n",
       "      <td>0.20</td>\n",
       "      <td>0.34</td>\n",
       "      <td>0.03</td>\n",
       "      <td>0.29</td>\n",
       "      <td>0.41</td>\n",
       "      <td>0.27</td>\n",
       "      <td>1.00</td>\n",
       "      <td>-0.02</td>\n",
       "      <td>0.24</td>\n",
       "      <td>0.34</td>\n",
       "      <td>0.31</td>\n",
       "      <td>0.17</td>\n",
       "    </tr>\n",
       "    <tr>\n",
       "      <th>V162109</th>\n",
       "      <td>-0.31</td>\n",
       "      <td>0.53</td>\n",
       "      <td>-0.31</td>\n",
       "      <td>-0.42</td>\n",
       "      <td>-0.20</td>\n",
       "      <td>0.03</td>\n",
       "      <td>0.40</td>\n",
       "      <td>0.62</td>\n",
       "      <td>0.10</td>\n",
       "      <td>-0.25</td>\n",
       "      <td>0.40</td>\n",
       "      <td>0.28</td>\n",
       "      <td>-0.24</td>\n",
       "      <td>0.35</td>\n",
       "      <td>-0.02</td>\n",
       "      <td>1.00</td>\n",
       "      <td>0.30</td>\n",
       "      <td>-0.26</td>\n",
       "      <td>-0.16</td>\n",
       "      <td>-0.34</td>\n",
       "    </tr>\n",
       "    <tr>\n",
       "      <th>V162110</th>\n",
       "      <td>-0.20</td>\n",
       "      <td>0.27</td>\n",
       "      <td>-0.08</td>\n",
       "      <td>-0.17</td>\n",
       "      <td>-0.04</td>\n",
       "      <td>0.16</td>\n",
       "      <td>0.26</td>\n",
       "      <td>0.39</td>\n",
       "      <td>0.25</td>\n",
       "      <td>-0.03</td>\n",
       "      <td>0.20</td>\n",
       "      <td>0.32</td>\n",
       "      <td>-0.04</td>\n",
       "      <td>0.35</td>\n",
       "      <td>0.24</td>\n",
       "      <td>0.30</td>\n",
       "      <td>1.00</td>\n",
       "      <td>-0.05</td>\n",
       "      <td>0.11</td>\n",
       "      <td>-0.28</td>\n",
       "    </tr>\n",
       "    <tr>\n",
       "      <th>V162111</th>\n",
       "      <td>0.39</td>\n",
       "      <td>-0.29</td>\n",
       "      <td>0.53</td>\n",
       "      <td>0.53</td>\n",
       "      <td>0.32</td>\n",
       "      <td>0.26</td>\n",
       "      <td>-0.11</td>\n",
       "      <td>-0.27</td>\n",
       "      <td>0.17</td>\n",
       "      <td>0.83</td>\n",
       "      <td>-0.06</td>\n",
       "      <td>0.04</td>\n",
       "      <td>0.60</td>\n",
       "      <td>-0.18</td>\n",
       "      <td>0.34</td>\n",
       "      <td>-0.26</td>\n",
       "      <td>-0.05</td>\n",
       "      <td>1.00</td>\n",
       "      <td>0.36</td>\n",
       "      <td>0.45</td>\n",
       "    </tr>\n",
       "    <tr>\n",
       "      <th>V162112</th>\n",
       "      <td>0.19</td>\n",
       "      <td>-0.17</td>\n",
       "      <td>0.37</td>\n",
       "      <td>0.36</td>\n",
       "      <td>0.26</td>\n",
       "      <td>0.28</td>\n",
       "      <td>0.03</td>\n",
       "      <td>-0.10</td>\n",
       "      <td>0.27</td>\n",
       "      <td>0.38</td>\n",
       "      <td>0.00</td>\n",
       "      <td>0.16</td>\n",
       "      <td>0.35</td>\n",
       "      <td>-0.02</td>\n",
       "      <td>0.31</td>\n",
       "      <td>-0.16</td>\n",
       "      <td>0.11</td>\n",
       "      <td>0.36</td>\n",
       "      <td>1.00</td>\n",
       "      <td>0.25</td>\n",
       "    </tr>\n",
       "    <tr>\n",
       "      <th>V162113</th>\n",
       "      <td>0.48</td>\n",
       "      <td>-0.16</td>\n",
       "      <td>0.57</td>\n",
       "      <td>0.60</td>\n",
       "      <td>0.41</td>\n",
       "      <td>0.29</td>\n",
       "      <td>-0.09</td>\n",
       "      <td>-0.36</td>\n",
       "      <td>0.16</td>\n",
       "      <td>0.40</td>\n",
       "      <td>0.04</td>\n",
       "      <td>-0.10</td>\n",
       "      <td>0.51</td>\n",
       "      <td>-0.09</td>\n",
       "      <td>0.17</td>\n",
       "      <td>-0.34</td>\n",
       "      <td>-0.28</td>\n",
       "      <td>0.45</td>\n",
       "      <td>0.25</td>\n",
       "      <td>1.00</td>\n",
       "    </tr>\n",
       "  </tbody>\n",
       "</table>\n",
       "</div>"
      ],
      "text/plain": [
       "         V162313  V162095  V162096  V162097  V162098  V162099  V162100  \\\n",
       "V162313     1.00    -0.18     0.39     0.45     0.27     0.21    -0.11   \n",
       "V162095    -0.18     1.00    -0.22    -0.32    -0.05     0.17     0.37   \n",
       "V162096     0.39    -0.22     1.00     0.61     0.41     0.27    -0.07   \n",
       "V162097     0.45    -0.32     0.61     1.00     0.46     0.21    -0.15   \n",
       "V162098     0.27    -0.05     0.41     0.46     1.00     0.26    -0.04   \n",
       "V162099     0.21     0.17     0.27     0.21     0.26     1.00     0.11   \n",
       "V162100    -0.11     0.37    -0.07    -0.15    -0.04     0.11     1.00   \n",
       "V162101    -0.31     0.56    -0.31    -0.47    -0.21     0.08     0.43   \n",
       "V162102     0.13     0.10     0.22     0.21     0.17     0.22     0.29   \n",
       "V162103     0.34    -0.31     0.52     0.50     0.30     0.23    -0.11   \n",
       "V162104    -0.01     0.37    -0.01    -0.02     0.09     0.12     0.41   \n",
       "V162105    -0.03     0.26     0.02    -0.05    -0.02     0.19     0.46   \n",
       "V162106     0.45    -0.16     0.46     0.50     0.29     0.33    -0.06   \n",
       "V162107    -0.14     0.60    -0.10    -0.20    -0.00     0.30     0.31   \n",
       "V162108     0.18     0.09     0.28     0.21     0.17     0.45     0.09   \n",
       "V162109    -0.31     0.53    -0.31    -0.42    -0.20     0.03     0.40   \n",
       "V162110    -0.20     0.27    -0.08    -0.17    -0.04     0.16     0.26   \n",
       "V162111     0.39    -0.29     0.53     0.53     0.32     0.26    -0.11   \n",
       "V162112     0.19    -0.17     0.37     0.36     0.26     0.28     0.03   \n",
       "V162113     0.48    -0.16     0.57     0.60     0.41     0.29    -0.09   \n",
       "\n",
       "         V162101  V162102  V162103  V162104  V162105  V162106  V162107  \\\n",
       "V162313    -0.31     0.13     0.34    -0.01    -0.03     0.45    -0.14   \n",
       "V162095     0.56     0.10    -0.31     0.37     0.26    -0.16     0.60   \n",
       "V162096    -0.31     0.22     0.52    -0.01     0.02     0.46    -0.10   \n",
       "V162097    -0.47     0.21     0.50    -0.02    -0.05     0.50    -0.20   \n",
       "V162098    -0.21     0.17     0.30     0.09    -0.02     0.29    -0.00   \n",
       "V162099     0.08     0.22     0.23     0.12     0.19     0.33     0.30   \n",
       "V162100     0.43     0.29    -0.11     0.41     0.46    -0.06     0.31   \n",
       "V162101     1.00     0.14    -0.26     0.33     0.39    -0.21     0.47   \n",
       "V162102     0.14     1.00     0.16     0.38     0.25     0.22     0.18   \n",
       "V162103    -0.26     0.16     1.00    -0.09     0.05     0.56    -0.18   \n",
       "V162104     0.33     0.38    -0.09     1.00     0.26    -0.02     0.29   \n",
       "V162105     0.39     0.25     0.05     0.26     1.00     0.08     0.31   \n",
       "V162106    -0.21     0.22     0.56    -0.02     0.08     1.00    -0.03   \n",
       "V162107     0.47     0.18    -0.18     0.29     0.31    -0.03     1.00   \n",
       "V162108     0.09     0.20     0.34     0.03     0.29     0.41     0.27   \n",
       "V162109     0.62     0.10    -0.25     0.40     0.28    -0.24     0.35   \n",
       "V162110     0.39     0.25    -0.03     0.20     0.32    -0.04     0.35   \n",
       "V162111    -0.27     0.17     0.83    -0.06     0.04     0.60    -0.18   \n",
       "V162112    -0.10     0.27     0.38     0.00     0.16     0.35    -0.02   \n",
       "V162113    -0.36     0.16     0.40     0.04    -0.10     0.51    -0.09   \n",
       "\n",
       "         V162108  V162109  V162110  V162111  V162112  V162113  \n",
       "V162313     0.18    -0.31    -0.20     0.39     0.19     0.48  \n",
       "V162095     0.09     0.53     0.27    -0.29    -0.17    -0.16  \n",
       "V162096     0.28    -0.31    -0.08     0.53     0.37     0.57  \n",
       "V162097     0.21    -0.42    -0.17     0.53     0.36     0.60  \n",
       "V162098     0.17    -0.20    -0.04     0.32     0.26     0.41  \n",
       "V162099     0.45     0.03     0.16     0.26     0.28     0.29  \n",
       "V162100     0.09     0.40     0.26    -0.11     0.03    -0.09  \n",
       "V162101     0.09     0.62     0.39    -0.27    -0.10    -0.36  \n",
       "V162102     0.20     0.10     0.25     0.17     0.27     0.16  \n",
       "V162103     0.34    -0.25    -0.03     0.83     0.38     0.40  \n",
       "V162104     0.03     0.40     0.20    -0.06     0.00     0.04  \n",
       "V162105     0.29     0.28     0.32     0.04     0.16    -0.10  \n",
       "V162106     0.41    -0.24    -0.04     0.60     0.35     0.51  \n",
       "V162107     0.27     0.35     0.35    -0.18    -0.02    -0.09  \n",
       "V162108     1.00    -0.02     0.24     0.34     0.31     0.17  \n",
       "V162109    -0.02     1.00     0.30    -0.26    -0.16    -0.34  \n",
       "V162110     0.24     0.30     1.00    -0.05     0.11    -0.28  \n",
       "V162111     0.34    -0.26    -0.05     1.00     0.36     0.45  \n",
       "V162112     0.31    -0.16     0.11     0.36     1.00     0.25  \n",
       "V162113     0.17    -0.34    -0.28     0.45     0.25     1.00  "
      ]
     },
     "execution_count": 268,
     "metadata": {},
     "output_type": "execute_result"
    }
   ],
   "source": [
    "## The first step is to generate a correlation matrix with the 20 items of interest\n",
    "cols = [col for col in anes if col.startswith('V')]\n",
    "anes_v = anes[cols].dropna() ## Drop columns containing N/A values\n",
    "anes_v.corr().round(2)"
   ]
  },
  {
   "cell_type": "code",
   "execution_count": 269,
   "metadata": {},
   "outputs": [
    {
     "data": {
      "text/plain": [
       "array([3915.19170368, 1977.07820126,  885.47668124,  575.25705067,\n",
       "        547.41741395,  488.46256707,  408.21187391,  120.24169445,\n",
       "        332.23621293,  318.6259323 ,  293.9225772 ,  190.52655365,\n",
       "        194.09312556,  201.34321572,  210.75806478,  274.85458788,\n",
       "        266.68232722,  243.50000295,  246.91876574,  222.91085924])"
      ]
     },
     "execution_count": 269,
     "metadata": {},
     "output_type": "execute_result"
    }
   ],
   "source": [
    "## Obtain the eigenvalue for each item\n",
    "evals,evecs = np.linalg.eig(anes_v.cov())\n",
    "evals"
   ]
  },
  {
   "cell_type": "code",
   "execution_count": 270,
   "metadata": {},
   "outputs": [
    {
     "name": "stdout",
     "output_type": "stream",
     "text": [
      "Proportion of Variation Explained\n",
      "\n",
      "    Eigenvalue 1 accounts for 32.86% of the variance\n",
      "    \n",
      "\n",
      "    Eigenvalue 2 accounts for 16.59% of the variance\n",
      "    \n",
      "\n",
      "    Eigenvalue 3 accounts for 7.43% of the variance\n",
      "    \n",
      "\n",
      "    Eigenvalue 4 accounts for 4.83% of the variance\n",
      "    \n",
      "\n",
      "    Eigenvalue 5 accounts for 4.59% of the variance\n",
      "    \n",
      "\n",
      "    Eigenvalue 6 accounts for 4.1% of the variance\n",
      "    \n",
      "\n",
      "    Eigenvalue 7 accounts for 3.43% of the variance\n",
      "    \n",
      "\n",
      "    Eigenvalue 8 accounts for 1.01% of the variance\n",
      "    \n",
      "\n",
      "    Eigenvalue 9 accounts for 2.79% of the variance\n",
      "    \n",
      "\n",
      "    Eigenvalue 10 accounts for 2.67% of the variance\n",
      "    \n",
      "\n",
      "    Eigenvalue 11 accounts for 2.47% of the variance\n",
      "    \n",
      "\n",
      "    Eigenvalue 12 accounts for 1.6% of the variance\n",
      "    \n",
      "\n",
      "    Eigenvalue 13 accounts for 1.63% of the variance\n",
      "    \n",
      "\n",
      "    Eigenvalue 14 accounts for 1.69% of the variance\n",
      "    \n",
      "\n",
      "    Eigenvalue 15 accounts for 1.77% of the variance\n",
      "    \n",
      "\n",
      "    Eigenvalue 16 accounts for 2.31% of the variance\n",
      "    \n",
      "\n",
      "    Eigenvalue 17 accounts for 2.24% of the variance\n",
      "    \n",
      "\n",
      "    Eigenvalue 18 accounts for 2.04% of the variance\n",
      "    \n",
      "\n",
      "    Eigenvalue 19 accounts for 2.07% of the variance\n",
      "    \n",
      "\n",
      "    Eigenvalue 20 accounts for 1.87% of the variance\n",
      "    \n"
     ]
    },
    {
     "data": {
      "image/png": "[encoded data removed]",
      "text/plain": [
       "<Figure size 864x360 with 1 Axes>"
      ]
     },
     "metadata": {
      "needs_background": "light"
     },
     "output_type": "display_data"
    }
   ],
   "source": [
    "variance_explained = evals/sum(abs(evals))\n",
    "\n",
    "# Print out variance figures\n",
    "print('Proportion of Variation Explained')\n",
    "for i,val in enumerate(variance_explained):\n",
    "    print(f'''\n",
    "    Eigenvalue {i+1} accounts for {round(val*100,2)}% of the variance\n",
    "    ''')\n",
    "    \n",
    "# Plot figure\n",
    "plt.figure(figsize=(12,5))\n",
    "plt.plot(variance_explained,marker='o')\n",
    "plt.xticks(np.arange(0,20,step = 1),np.arange(1,21))\n",
    "plt.xlabel(\"Eigenvalues\")\n",
    "plt.ylabel(\"Proportion of Explained Variation\")\n",
    "plt.show()"
   ]
  },
  {
   "cell_type": "code",
   "execution_count": 271,
   "metadata": {},
   "outputs": [],
   "source": [
    "## Based on the previous analysis, the combination of eigenvalues 1-4 accounts for about 60% of the variance.\n",
    "## So we use eigenvectors that correspond to these four eigenvalues to generate latent scales.\n",
    "\n",
    "anes['dim1'] = anes_v.dot(evecs[:,0])\n",
    "anes['dim2'] = anes_v.dot(evecs[:,1])\n",
    "anes['dim3'] = anes_v.dot(evecs[:,2])\n",
    "anes['dim4'] = anes_v.dot(evecs[:,3])"
   ]
  },
  {
   "cell_type": "code",
   "execution_count": 272,
   "metadata": {},
   "outputs": [],
   "source": [
    "## Then we standardize these new latent scales\n",
    "\n",
    "def st(x):\n",
    "    '''\n",
    "    A function that standardize the input.\n",
    "    '''\n",
    "    return (x-np.mean(x))/np.std(x)\n",
    "\n",
    "anes['dim1'] = st(anes['dim1'])\n",
    "anes['dim2'] = st(anes['dim2'])\n",
    "anes['dim3'] = st(anes['dim3'])\n",
    "anes['dim4'] = st(anes['dim4'])"
   ]
  },
  {
   "cell_type": "code",
   "execution_count": 273,
   "metadata": {},
   "outputs": [
    {
     "data": {
      "image/png": "[encoded data removed]",
      "text/plain": [
       "<Figure size 1440x1440 with 4 Axes>"
      ]
     },
     "metadata": {
      "needs_background": "light"
     },
     "output_type": "display_data"
    }
   ],
   "source": [
    "## Validation\n",
    "\n",
    "f, axes = plt.subplots(2, 2 ,figsize=(20,20))\n",
    "g = sns.boxplot(x='party_id',y='dim1',data=anes, ax = axes[0,0])\n",
    "g = sns.boxplot(x='party_id',y='dim2',data=anes,ax=axes[0,1])\n",
    "g = sns.boxplot(x='party_id',y='dim3',data=anes,ax=axes[1,0])\n",
    "g = sns.boxplot(x='party_id',y='dim4',data=anes,ax=axes[1,1])"
   ]
  },
  {
   "cell_type": "markdown",
   "metadata": {},
   "source": [
    "From the boxplots, it is obvious that the first dimension explains the most variance. "
   ]
  },
  {
   "cell_type": "code",
   "execution_count": null,
   "metadata": {},
   "outputs": [],
   "source": []
  }
 ],
 "metadata": {
  "kernelspec": {
   "display_name": "Python 3",
   "language": "python",
   "name": "python3"
  },
  "language_info": {
   "codemirror_mode": {
    "name": "ipython",
    "version": 3
   },
   "file_extension": ".py",
   "mimetype": "text/x-python",
   "name": "python",
   "nbconvert_exporter": "python",
   "pygments_lexer": "ipython3",
   "version": "3.7.3"
  },
  "toc": {
   "base_numbering": 1,
   "nav_menu": {},
   "number_sections": false,
   "sideBar": false,
   "skip_h1_title": false,
   "title_cell": "Table of Contents",
   "title_sidebar": "Contents",
   "toc_cell": false,
   "toc_position": {},
   "toc_section_display": true,
   "toc_window_display": false
  }
 },
 "nbformat": 4,
 "nbformat_minor": 2
}

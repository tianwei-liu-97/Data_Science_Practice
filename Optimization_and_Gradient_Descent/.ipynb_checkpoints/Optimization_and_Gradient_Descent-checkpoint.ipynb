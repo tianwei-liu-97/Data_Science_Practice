{
 "cells": [
  {
   "cell_type": "markdown",
   "metadata": {},
   "source": [
    "# <center> PPOL564 | DS1: Foundations <br><br> Checkpoint Assignment 4  </center>\n",
    "\n",
    "# Instructions\n",
    "\n",
    "In this assignment, you'll practice on what you have learned regarding the calculus concepts covered in this course. This assignment should be completed independently or with your randomly assigned partner (see Course Policies \"Homework Partner\" in the Syllabus). \n",
    "\n",
    "**Be careful to follow the instructions for each question.** \n",
    "\n",
    "Recall that all assignment submissions must adhere to the following guidelines: \n",
    "\n",
    "- (i) all code must run; one point will be deducted if the entire notebook doesn't run on the Professor's/TA's computer (<font color = \"darkred\">Point(s) = 1</font>)\n",
    "- (ii) solutions should be readable\n",
    "    + Code should be thoroughly commented (the Professor/TA should be able to understand the code's purpose by reading the comment),\n",
    "    + Coding solutions should be broken up into individual code chunks in Jupyter notebooks, not clumped together into one large code chunk,\n",
    "    + Each student defined function must contain a doc string explaining what the function does, each input argument, and what the function returns;\n",
    "    + All numerical output should be rounded to the second decimal place.\n",
    "- (iii) Commentary, responses, and/or written solutions should all be written in Markdown and should contain no grammatical or spelling errors;\n",
    "- (iv) All mathematical formulas should be written in LaTex;\n",
    "\n",
    "There are a total of **_22 points_** available for this assignment."
   ]
  },
  {
   "cell_type": "markdown",
   "metadata": {},
   "source": [
    "Please assign your name and netid to the following objects as strings."
   ]
  },
  {
   "cell_type": "code",
   "execution_count": 1,
   "metadata": {},
   "outputs": [],
   "source": [
    "name = 'Tianwei Liu'\n",
    "netid = 'tl743'"
   ]
  },
  {
   "cell_type": "markdown",
   "metadata": {},
   "source": [
    "# Part 1: Answer the Questions\n",
    "\n",
    "(1 points each)"
   ]
  },
  {
   "cell_type": "markdown",
   "metadata": {},
   "source": [
    "#### Question 1:  Describe what a gradient is and why it's useful"
   ]
  },
  {
   "cell_type": "markdown",
   "metadata": {},
   "source": [
    "A gradient is a vector with each element being the partial derivative with respect to each variable in a function. The gradient is useful because it tells us in which direction the function moves given a vector in the same dimensional space. Moreover, gradient points in the direction of steepest ascent, therefore, gradient of a function also helps us identify and locate local extrema. "
   ]
  },
  {
   "cell_type": "markdown",
   "metadata": {},
   "source": [
    "#### Question 2: What is the following equation (see below), how do we derive it, and what does it tell us?\n",
    "\n",
    "$$ \\frac{\\partial^2}{ \\partial x^2 }\\frac{\\partial^2}{ \\partial y^2 } - \\frac{\\partial^2 f}{\\partial_y \\partial_x} \\frac{\\partial^2 f}{\\partial_x \\partial_y}$$"
   ]
  },
  {
   "cell_type": "markdown",
   "metadata": {},
   "source": [
    "The equation is the determinant of the Hessian. The Hessian is composed of second order partial derivatives on its diagonal and cross-partial derivatives in other positions. The determinant of the Hessian $ |\\textbf{H}| $ can tell us types of stationary points. If $ |\\textbf{H}| > 0$, then extrema exist at stationary points; if $ |\\textbf{H}| < 0$, then the stationary point is a saddle point; if $ |\\textbf{H}| = 0$, we are not sure because we do not have enough information."
   ]
  },
  {
   "cell_type": "markdown",
   "metadata": {},
   "source": [
    "#### Question 3: When optimizing, when should we consider higher-order derivatives and why?"
   ]
  },
  {
   "cell_type": "markdown",
   "metadata": {},
   "source": [
    "When optimizing, we first obtain first-order derivative of the function and set it to zero. In this way, we find the critical point(s) of a given function. However, being critical points does not guarantee whether critical points are local maxima/minima or saddles points. Therefore, to figure out whether critical points are maxima/minima or saddle points, we need to consider higher-order derivatives as they give us more information about the curvature of the function. For $f''(x*) > 0$, the critical point is a local minimum; for $f''(x*) < 0$, the critical point is a local maximum. For $f''(x*) = 0$, we need to go even further - we need to rely on the third-order derivative to decide whether it is indeed a inflection point. "
   ]
  },
  {
   "cell_type": "markdown",
   "metadata": {},
   "source": [
    "#### Question 4: What does the learning rate dictate when running a gradient descent algorithm?"
   ]
  },
  {
   "cell_type": "markdown",
   "metadata": {},
   "source": [
    "The learning rate in a gradient descent algorithm dictates how fast the model prediction converges to the true value. A very small learning rate would take many steps to realize the goal; while a big learning rate would cause the model to learn quickly but might lead the model to arriving at a sub-optimal set of weights or even diverging."
   ]
  },
  {
   "cell_type": "markdown",
   "metadata": {},
   "source": [
    "# Part 2: Univariate Optimization\n",
    "\n",
    "(2 points each)"
   ]
  },
  {
   "cell_type": "markdown",
   "metadata": {},
   "source": [
    "Find all critical points in the specified domain and determine whether they are minima, maxima, or neither for the following functions. For all minima/maxima determine if they are local or global given the domain constraints. Show and describe all steps. Failure to comment will result in a deduction in points. All equations should be written in `Latex`."
   ]
  },
  {
   "cell_type": "code",
   "execution_count": 255,
   "metadata": {},
   "outputs": [],
   "source": [
    "import numpy as np\n",
    "from sympy import * \n",
    "init_printing(use_unicode=True)\n",
    "import matplotlib.pyplot as plt\n",
    "import numpy.linalg as la\n",
    "import requests"
   ]
  },
  {
   "cell_type": "code",
   "execution_count": 272,
   "metadata": {},
   "outputs": [
    {
     "data": {
      "text/html": [
       "\n",
       "    <div class=\"bk-root\">\n",
       "        <a href=\"https://bokeh.pydata.org\" target=\"_blank\" class=\"bk-logo bk-logo-small bk-logo-notebook\"></a>\n",
       "        <span id=\"1933\">Loading BokehJS ...</span>\n",
       "    </div>"
      ]
     },
     "metadata": {},
     "output_type": "display_data"
    },
    {
     "data": {
      "application/javascript": [
       "\n",
       "(function(root) {\n",
       "  function now() {\n",
       "    return new Date();\n",
       "  }\n",
       "\n",
       "  var force = true;\n",
       "\n",
       "  if (typeof root._bokeh_onload_callbacks === \"undefined\" || force === true) {\n",
       "    root._bokeh_onload_callbacks = [];\n",
       "    root._bokeh_is_loading = undefined;\n",
       "  }\n",
       "\n",
       "  var JS_MIME_TYPE = 'application/javascript';\n",
       "  var HTML_MIME_TYPE = 'text/html';\n",
       "  var EXEC_MIME_TYPE = 'application/vnd.bokehjs_exec.v0+json';\n",
       "  var CLASS_NAME = 'output_bokeh rendered_html';\n",
       "\n",
       "  /**\n",
       "   * Render data to the DOM node\n",
       "   */\n",
       "  function render(props, node) {\n",
       "    var script = document.createElement(\"script\");\n",
       "    node.appendChild(script);\n",
       "  }\n",
       "\n",
       "  /**\n",
       "   * Handle when an output is cleared or removed\n",
       "   */\n",
       "  function handleClearOutput(event, handle) {\n",
       "    var cell = handle.cell;\n",
       "\n",
       "    var id = cell.output_area._bokeh_element_id;\n",
       "    var server_id = cell.output_area._bokeh_server_id;\n",
       "    // Clean up Bokeh references\n",
       "    if (id != null && id in Bokeh.index) {\n",
       "      Bokeh.index[id].model.document.clear();\n",
       "      delete Bokeh.index[id];\n",
       "    }\n",
       "\n",
       "    if (server_id !== undefined) {\n",
       "      // Clean up Bokeh references\n",
       "      var cmd = \"from bokeh.io.state import curstate; print(curstate().uuid_to_server['\" + server_id + \"'].get_sessions()[0].document.roots[0]._id)\";\n",
       "      cell.notebook.kernel.execute(cmd, {\n",
       "        iopub: {\n",
       "          output: function(msg) {\n",
       "            var id = msg.content.text.trim();\n",
       "            if (id in Bokeh.index) {\n",
       "              Bokeh.index[id].model.document.clear();\n",
       "              delete Bokeh.index[id];\n",
       "            }\n",
       "          }\n",
       "        }\n",
       "      });\n",
       "      // Destroy server and session\n",
       "      var cmd = \"import bokeh.io.notebook as ion; ion.destroy_server('\" + server_id + \"')\";\n",
       "      cell.notebook.kernel.execute(cmd);\n",
       "    }\n",
       "  }\n",
       "\n",
       "  /**\n",
       "   * Handle when a new output is added\n",
       "   */\n",
       "  function handleAddOutput(event, handle) {\n",
       "    var output_area = handle.output_area;\n",
       "    var output = handle.output;\n",
       "\n",
       "    // limit handleAddOutput to display_data with EXEC_MIME_TYPE content only\n",
       "    if ((output.output_type != \"display_data\") || (!output.data.hasOwnProperty(EXEC_MIME_TYPE))) {\n",
       "      return\n",
       "    }\n",
       "\n",
       "    var toinsert = output_area.element.find(\".\" + CLASS_NAME.split(' ')[0]);\n",
       "\n",
       "    if (output.metadata[EXEC_MIME_TYPE][\"id\"] !== undefined) {\n",
       "      toinsert[toinsert.length - 1].firstChild.textContent = output.data[JS_MIME_TYPE];\n",
       "      // store reference to embed id on output_area\n",
       "      output_area._bokeh_element_id = output.metadata[EXEC_MIME_TYPE][\"id\"];\n",
       "    }\n",
       "    if (output.metadata[EXEC_MIME_TYPE][\"server_id\"] !== undefined) {\n",
       "      var bk_div = document.createElement(\"div\");\n",
       "      bk_div.innerHTML = output.data[HTML_MIME_TYPE];\n",
       "      var script_attrs = bk_div.children[0].attributes;\n",
       "      for (var i = 0; i < script_attrs.length; i++) {\n",
       "        toinsert[toinsert.length - 1].firstChild.setAttribute(script_attrs[i].name, script_attrs[i].value);\n",
       "      }\n",
       "      // store reference to server id on output_area\n",
       "      output_area._bokeh_server_id = output.metadata[EXEC_MIME_TYPE][\"server_id\"];\n",
       "    }\n",
       "  }\n",
       "\n",
       "  function register_renderer(events, OutputArea) {\n",
       "\n",
       "    function append_mime(data, metadata, element) {\n",
       "      // create a DOM node to render to\n",
       "      var toinsert = this.create_output_subarea(\n",
       "        metadata,\n",
       "        CLASS_NAME,\n",
       "        EXEC_MIME_TYPE\n",
       "      );\n",
       "      this.keyboard_manager.register_events(toinsert);\n",
       "      // Render to node\n",
       "      var props = {data: data, metadata: metadata[EXEC_MIME_TYPE]};\n",
       "      render(props, toinsert[toinsert.length - 1]);\n",
       "      element.append(toinsert);\n",
       "      return toinsert\n",
       "    }\n",
       "\n",
       "    /* Handle when an output is cleared or removed */\n",
       "    events.on('clear_output.CodeCell', handleClearOutput);\n",
       "    events.on('delete.Cell', handleClearOutput);\n",
       "\n",
       "    /* Handle when a new output is added */\n",
       "    events.on('output_added.OutputArea', handleAddOutput);\n",
       "\n",
       "    /**\n",
       "     * Register the mime type and append_mime function with output_area\n",
       "     */\n",
       "    OutputArea.prototype.register_mime_type(EXEC_MIME_TYPE, append_mime, {\n",
       "      /* Is output safe? */\n",
       "      safe: true,\n",
       "      /* Index of renderer in `output_area.display_order` */\n",
       "      index: 0\n",
       "    });\n",
       "  }\n",
       "\n",
       "  // register the mime type if in Jupyter Notebook environment and previously unregistered\n",
       "  if (root.Jupyter !== undefined) {\n",
       "    var events = require('base/js/events');\n",
       "    var OutputArea = require('notebook/js/outputarea').OutputArea;\n",
       "\n",
       "    if (OutputArea.prototype.mime_types().indexOf(EXEC_MIME_TYPE) == -1) {\n",
       "      register_renderer(events, OutputArea);\n",
       "    }\n",
       "  }\n",
       "\n",
       "  \n",
       "  if (typeof (root._bokeh_timeout) === \"undefined\" || force === true) {\n",
       "    root._bokeh_timeout = Date.now() + 5000;\n",
       "    root._bokeh_failed_load = false;\n",
       "  }\n",
       "\n",
       "  var NB_LOAD_WARNING = {'data': {'text/html':\n",
       "     \"<div style='background-color: #fdd'>\\n\"+\n",
       "     \"<p>\\n\"+\n",
       "     \"BokehJS does not appear to have successfully loaded. If loading BokehJS from CDN, this \\n\"+\n",
       "     \"may be due to a slow or bad network connection. Possible fixes:\\n\"+\n",
       "     \"</p>\\n\"+\n",
       "     \"<ul>\\n\"+\n",
       "     \"<li>re-rerun `output_notebook()` to attempt to load from CDN again, or</li>\\n\"+\n",
       "     \"<li>use INLINE resources instead, as so:</li>\\n\"+\n",
       "     \"</ul>\\n\"+\n",
       "     \"<code>\\n\"+\n",
       "     \"from bokeh.resources import INLINE\\n\"+\n",
       "     \"output_notebook(resources=INLINE)\\n\"+\n",
       "     \"</code>\\n\"+\n",
       "     \"</div>\"}};\n",
       "\n",
       "  function display_loaded() {\n",
       "    var el = document.getElementById(\"1933\");\n",
       "    if (el != null) {\n",
       "      el.textContent = \"BokehJS is loading...\";\n",
       "    }\n",
       "    if (root.Bokeh !== undefined) {\n",
       "      if (el != null) {\n",
       "        el.textContent = \"BokehJS \" + root.Bokeh.version + \" successfully loaded.\";\n",
       "      }\n",
       "    } else if (Date.now() < root._bokeh_timeout) {\n",
       "      setTimeout(display_loaded, 100)\n",
       "    }\n",
       "  }\n",
       "\n",
       "\n",
       "  function run_callbacks() {\n",
       "    try {\n",
       "      root._bokeh_onload_callbacks.forEach(function(callback) {\n",
       "        if (callback != null)\n",
       "          callback();\n",
       "      });\n",
       "    } finally {\n",
       "      delete root._bokeh_onload_callbacks\n",
       "    }\n",
       "    console.debug(\"Bokeh: all callbacks have finished\");\n",
       "  }\n",
       "\n",
       "  function load_libs(css_urls, js_urls, callback) {\n",
       "    if (css_urls == null) css_urls = [];\n",
       "    if (js_urls == null) js_urls = [];\n",
       "\n",
       "    root._bokeh_onload_callbacks.push(callback);\n",
       "    if (root._bokeh_is_loading > 0) {\n",
       "      console.debug(\"Bokeh: BokehJS is being loaded, scheduling callback at\", now());\n",
       "      return null;\n",
       "    }\n",
       "    if (js_urls == null || js_urls.length === 0) {\n",
       "      run_callbacks();\n",
       "      return null;\n",
       "    }\n",
       "    console.debug(\"Bokeh: BokehJS not loaded, scheduling load and callback at\", now());\n",
       "    root._bokeh_is_loading = css_urls.length + js_urls.length;\n",
       "\n",
       "    function on_load() {\n",
       "      root._bokeh_is_loading--;\n",
       "      if (root._bokeh_is_loading === 0) {\n",
       "        console.debug(\"Bokeh: all BokehJS libraries/stylesheets loaded\");\n",
       "        run_callbacks()\n",
       "      }\n",
       "    }\n",
       "\n",
       "    function on_error() {\n",
       "      console.error(\"failed to load \" + url);\n",
       "    }\n",
       "\n",
       "    for (var i = 0; i < css_urls.length; i++) {\n",
       "      var url = css_urls[i];\n",
       "      const element = document.createElement(\"link\");\n",
       "      element.onload = on_load;\n",
       "      element.onerror = on_error;\n",
       "      element.rel = \"stylesheet\";\n",
       "      element.type = \"text/css\";\n",
       "      element.href = url;\n",
       "      console.debug(\"Bokeh: injecting link tag for BokehJS stylesheet: \", url);\n",
       "      document.body.appendChild(element);\n",
       "    }\n",
       "\n",
       "    for (var i = 0; i < js_urls.length; i++) {\n",
       "      var url = js_urls[i];\n",
       "      var element = document.createElement('script');\n",
       "      element.onload = on_load;\n",
       "      element.onerror = on_error;\n",
       "      element.async = false;\n",
       "      element.src = url;\n",
       "      console.debug(\"Bokeh: injecting script tag for BokehJS library: \", url);\n",
       "      document.head.appendChild(element);\n",
       "    }\n",
       "  };var element = document.getElementById(\"1933\");\n",
       "  if (element == null) {\n",
       "    console.error(\"Bokeh: ERROR: autoload.js configured with elementid '1933' but no matching script tag was found. \")\n",
       "    return false;\n",
       "  }\n",
       "\n",
       "  function inject_raw_css(css) {\n",
       "    const element = document.createElement(\"style\");\n",
       "    element.appendChild(document.createTextNode(css));\n",
       "    document.body.appendChild(element);\n",
       "  }\n",
       "\n",
       "  var js_urls = [\"https://cdn.pydata.org/bokeh/release/bokeh-1.2.0.min.js\", \"https://cdn.pydata.org/bokeh/release/bokeh-widgets-1.2.0.min.js\", \"https://cdn.pydata.org/bokeh/release/bokeh-tables-1.2.0.min.js\", \"https://cdn.pydata.org/bokeh/release/bokeh-gl-1.2.0.min.js\"];\n",
       "  var css_urls = [\"https://cdn.pydata.org/bokeh/release/bokeh-1.2.0.min.css\", \"https://cdn.pydata.org/bokeh/release/bokeh-widgets-1.2.0.min.css\", \"https://cdn.pydata.org/bokeh/release/bokeh-tables-1.2.0.min.css\"];\n",
       "\n",
       "  var inline_js = [\n",
       "    function(Bokeh) {\n",
       "      Bokeh.set_log_level(\"info\");\n",
       "    },\n",
       "    \n",
       "    function(Bokeh) {\n",
       "      \n",
       "    },\n",
       "    function(Bokeh) {} // ensure no trailing comma for IE\n",
       "  ];\n",
       "\n",
       "  function run_inline_js() {\n",
       "    \n",
       "    if ((root.Bokeh !== undefined) || (force === true)) {\n",
       "      for (var i = 0; i < inline_js.length; i++) {\n",
       "        inline_js[i].call(root, root.Bokeh);\n",
       "      }if (force === true) {\n",
       "        display_loaded();\n",
       "      }} else if (Date.now() < root._bokeh_timeout) {\n",
       "      setTimeout(run_inline_js, 100);\n",
       "    } else if (!root._bokeh_failed_load) {\n",
       "      console.log(\"Bokeh: BokehJS failed to load within specified timeout.\");\n",
       "      root._bokeh_failed_load = true;\n",
       "    } else if (force !== true) {\n",
       "      var cell = $(document.getElementById(\"1933\")).parents('.cell').data().cell;\n",
       "      cell.output_area.append_execute_result(NB_LOAD_WARNING)\n",
       "    }\n",
       "\n",
       "  }\n",
       "\n",
       "  if (root._bokeh_is_loading === 0) {\n",
       "    console.debug(\"Bokeh: BokehJS loaded, going straight to plotting\");\n",
       "    run_inline_js();\n",
       "  } else {\n",
       "    load_libs(css_urls, js_urls, function() {\n",
       "      console.debug(\"Bokeh: BokehJS plotting callback run at\", now());\n",
       "      run_inline_js();\n",
       "    });\n",
       "  }\n",
       "}(window));"
      ],
      "application/vnd.bokehjs_load.v0+json": "\n(function(root) {\n  function now() {\n    return new Date();\n  }\n\n  var force = true;\n\n  if (typeof root._bokeh_onload_callbacks === \"undefined\" || force === true) {\n    root._bokeh_onload_callbacks = [];\n    root._bokeh_is_loading = undefined;\n  }\n\n  \n\n  \n  if (typeof (root._bokeh_timeout) === \"undefined\" || force === true) {\n    root._bokeh_timeout = Date.now() + 5000;\n    root._bokeh_failed_load = false;\n  }\n\n  var NB_LOAD_WARNING = {'data': {'text/html':\n     \"<div style='background-color: #fdd'>\\n\"+\n     \"<p>\\n\"+\n     \"BokehJS does not appear to have successfully loaded. If loading BokehJS from CDN, this \\n\"+\n     \"may be due to a slow or bad network connection. Possible fixes:\\n\"+\n     \"</p>\\n\"+\n     \"<ul>\\n\"+\n     \"<li>re-rerun `output_notebook()` to attempt to load from CDN again, or</li>\\n\"+\n     \"<li>use INLINE resources instead, as so:</li>\\n\"+\n     \"</ul>\\n\"+\n     \"<code>\\n\"+\n     \"from bokeh.resources import INLINE\\n\"+\n     \"output_notebook(resources=INLINE)\\n\"+\n     \"</code>\\n\"+\n     \"</div>\"}};\n\n  function display_loaded() {\n    var el = document.getElementById(\"1933\");\n    if (el != null) {\n      el.textContent = \"BokehJS is loading...\";\n    }\n    if (root.Bokeh !== undefined) {\n      if (el != null) {\n        el.textContent = \"BokehJS \" + root.Bokeh.version + \" successfully loaded.\";\n      }\n    } else if (Date.now() < root._bokeh_timeout) {\n      setTimeout(display_loaded, 100)\n    }\n  }\n\n\n  function run_callbacks() {\n    try {\n      root._bokeh_onload_callbacks.forEach(function(callback) {\n        if (callback != null)\n          callback();\n      });\n    } finally {\n      delete root._bokeh_onload_callbacks\n    }\n    console.debug(\"Bokeh: all callbacks have finished\");\n  }\n\n  function load_libs(css_urls, js_urls, callback) {\n    if (css_urls == null) css_urls = [];\n    if (js_urls == null) js_urls = [];\n\n    root._bokeh_onload_callbacks.push(callback);\n    if (root._bokeh_is_loading > 0) {\n      console.debug(\"Bokeh: BokehJS is being loaded, scheduling callback at\", now());\n      return null;\n    }\n    if (js_urls == null || js_urls.length === 0) {\n      run_callbacks();\n      return null;\n    }\n    console.debug(\"Bokeh: BokehJS not loaded, scheduling load and callback at\", now());\n    root._bokeh_is_loading = css_urls.length + js_urls.length;\n\n    function on_load() {\n      root._bokeh_is_loading--;\n      if (root._bokeh_is_loading === 0) {\n        console.debug(\"Bokeh: all BokehJS libraries/stylesheets loaded\");\n        run_callbacks()\n      }\n    }\n\n    function on_error() {\n      console.error(\"failed to load \" + url);\n    }\n\n    for (var i = 0; i < css_urls.length; i++) {\n      var url = css_urls[i];\n      const element = document.createElement(\"link\");\n      element.onload = on_load;\n      element.onerror = on_error;\n      element.rel = \"stylesheet\";\n      element.type = \"text/css\";\n      element.href = url;\n      console.debug(\"Bokeh: injecting link tag for BokehJS stylesheet: \", url);\n      document.body.appendChild(element);\n    }\n\n    for (var i = 0; i < js_urls.length; i++) {\n      var url = js_urls[i];\n      var element = document.createElement('script');\n      element.onload = on_load;\n      element.onerror = on_error;\n      element.async = false;\n      element.src = url;\n      console.debug(\"Bokeh: injecting script tag for BokehJS library: \", url);\n      document.head.appendChild(element);\n    }\n  };var element = document.getElementById(\"1933\");\n  if (element == null) {\n    console.error(\"Bokeh: ERROR: autoload.js configured with elementid '1933' but no matching script tag was found. \")\n    return false;\n  }\n\n  function inject_raw_css(css) {\n    const element = document.createElement(\"style\");\n    element.appendChild(document.createTextNode(css));\n    document.body.appendChild(element);\n  }\n\n  var js_urls = [\"https://cdn.pydata.org/bokeh/release/bokeh-1.2.0.min.js\", \"https://cdn.pydata.org/bokeh/release/bokeh-widgets-1.2.0.min.js\", \"https://cdn.pydata.org/bokeh/release/bokeh-tables-1.2.0.min.js\", \"https://cdn.pydata.org/bokeh/release/bokeh-gl-1.2.0.min.js\"];\n  var css_urls = [\"https://cdn.pydata.org/bokeh/release/bokeh-1.2.0.min.css\", \"https://cdn.pydata.org/bokeh/release/bokeh-widgets-1.2.0.min.css\", \"https://cdn.pydata.org/bokeh/release/bokeh-tables-1.2.0.min.css\"];\n\n  var inline_js = [\n    function(Bokeh) {\n      Bokeh.set_log_level(\"info\");\n    },\n    \n    function(Bokeh) {\n      \n    },\n    function(Bokeh) {} // ensure no trailing comma for IE\n  ];\n\n  function run_inline_js() {\n    \n    if ((root.Bokeh !== undefined) || (force === true)) {\n      for (var i = 0; i < inline_js.length; i++) {\n        inline_js[i].call(root, root.Bokeh);\n      }if (force === true) {\n        display_loaded();\n      }} else if (Date.now() < root._bokeh_timeout) {\n      setTimeout(run_inline_js, 100);\n    } else if (!root._bokeh_failed_load) {\n      console.log(\"Bokeh: BokehJS failed to load within specified timeout.\");\n      root._bokeh_failed_load = true;\n    } else if (force !== true) {\n      var cell = $(document.getElementById(\"1933\")).parents('.cell').data().cell;\n      cell.output_area.append_execute_result(NB_LOAD_WARNING)\n    }\n\n  }\n\n  if (root._bokeh_is_loading === 0) {\n    console.debug(\"Bokeh: BokehJS loaded, going straight to plotting\");\n    run_inline_js();\n  } else {\n    load_libs(css_urls, js_urls, function() {\n      console.debug(\"Bokeh: BokehJS plotting callback run at\", now());\n      run_inline_js();\n    });\n  }\n}(window));"
     },
     "metadata": {},
     "output_type": "display_data"
    }
   ],
   "source": [
    "# Import Bokeh\n",
    "from bokeh.plotting import figure, output_notebook, show\n",
    "from bokeh.layouts import row, column\n",
    "from bokeh.models import Span, PointDrawTool\n",
    "output_notebook()\n",
    "\n",
    "def plot(w=700,h=500,title='',x='X',y='f(x)'):\n",
    "    '''Wrapper function to ease starting a new plot.'''\n",
    "    p = figure(plot_width=w,plot_height=h,title=title,\n",
    "           toolbar_location=\"above\",\n",
    "           tooltips=[(\"out\", \"$y\"),(\"x\", \"$x\")],\n",
    "           tools='pan,hover,wheel_zoom,reset')\n",
    "    \n",
    "    # Define a continuous line for the x-axis\n",
    "    hline = Span(location=0, dimension='width', line_color='grey', line_width=1)\n",
    "    p.renderers.extend([hline])\n",
    "    \n",
    "    # Labels\n",
    "    p.xaxis.axis_label = x\n",
    "    p.yaxis.axis_label = y\n",
    "    return p\n",
    "\n",
    "def draw(p):\n",
    "    '''Wrapper function for generating a drawing tool on a graph'''\n",
    "    renderer = p.scatter(x=[], y=[], color='black', size=10)\n",
    "    draw_tool = PointDrawTool(renderers=[renderer], empty_value='black')\n",
    "    p.add_tools(draw_tool)\n",
    "    p.toolbar.active_tap = draw_tool\n",
    "    return p"
   ]
  },
  {
   "cell_type": "markdown",
   "metadata": {},
   "source": [
    "### Question 1\n",
    "Given $x \\in [-10,10]$\n",
    "\n",
    "$$ f(x) = 5x + 2x^2$$\n",
    "\n"
   ]
  },
  {
   "cell_type": "code",
   "execution_count": 217,
   "metadata": {},
   "outputs": [
    {
     "data": {
      "text/latex": [
       "$\\displaystyle 2 x^{2} + 5 x$"
      ],
      "text/plain": [
       "2*x**2 + 5*x"
      ]
     },
     "execution_count": 217,
     "metadata": {},
     "output_type": "execute_result"
    }
   ],
   "source": [
    "x = symbols('x')\n",
    "f = 5*x + 2*x**2\n",
    "f"
   ]
  },
  {
   "cell_type": "code",
   "execution_count": 218,
   "metadata": {},
   "outputs": [
    {
     "data": {
      "text/latex": [
       "$\\displaystyle 4 x + 5$"
      ],
      "text/plain": [
       "4*x + 5"
      ]
     },
     "execution_count": 218,
     "metadata": {},
     "output_type": "execute_result"
    }
   ],
   "source": [
    "# Take the derivative of f\n",
    "df = f.diff()\n",
    "df"
   ]
  },
  {
   "cell_type": "code",
   "execution_count": 301,
   "metadata": {},
   "outputs": [
    {
     "data": {
      "image/png": "[encoded data removed]",
      "text/latex": [
       "$\\displaystyle \\left[ - \\frac{5}{4}\\right]$"
      ],
      "text/plain": [
       "[-5/4]"
      ]
     },
     "execution_count": 301,
     "metadata": {},
     "output_type": "execute_result"
    }
   ],
   "source": [
    "# Find critical points\n",
    "critical = list(solveset(Eq(df,0),domain=Interval(-10,10)))\n",
    "critical"
   ]
  },
  {
   "cell_type": "code",
   "execution_count": 226,
   "metadata": {},
   "outputs": [
    {
     "data": {
      "text/latex": [
       "$\\displaystyle 4.0$"
      ],
      "text/plain": [
       "4.00000000000000"
      ]
     },
     "execution_count": 226,
     "metadata": {},
     "output_type": "execute_result"
    }
   ],
   "source": [
    "# Calculate the second derivative and find out the second derivative at critical points\n",
    "ddf = df.diff()\n",
    "second = ddf.evalf(subs={x: critical[0]})\n",
    "second"
   ]
  },
  {
   "cell_type": "code",
   "execution_count": 227,
   "metadata": {},
   "outputs": [
    {
     "data": {
      "text/latex": [
       "$\\displaystyle -3.125$"
      ],
      "text/plain": [
       "-3.12500000000000"
      ]
     },
     "execution_count": 227,
     "metadata": {},
     "output_type": "execute_result"
    }
   ],
   "source": [
    "# Since the second order derivative at the critical point is positive, it is a local minimum\n",
    "f.evalf(subs={x: -5/4})"
   ]
  },
  {
   "cell_type": "code",
   "execution_count": 228,
   "metadata": {},
   "outputs": [
    {
     "name": "stdout",
     "output_type": "stream",
     "text": [
      "Boundary Values:\n",
      "f(-10) = 150.0\n",
      "f(10) = 250.0\n"
     ]
    }
   ],
   "source": [
    "# Check boundary values\n",
    "boundaries = [-10,10]\n",
    "print('Boundary Values:')\n",
    "for b in boundaries:\n",
    "    ev = f.evalf(subs={x: b})\n",
    "    print(f'f({round(b,2)}) = {round(ev,2)}')"
   ]
  },
  {
   "cell_type": "code",
   "execution_count": 229,
   "metadata": {},
   "outputs": [
    {
     "data": {
      "text/html": [
       "\n",
       "\n",
       "\n",
       "\n",
       "\n",
       "\n",
       "  <div class=\"bk-root\" id=\"550a3704-7d62-4ca0-9527-a6b5b3cb602b\" data-root-id=\"1480\"></div>\n"
      ]
     },
     "metadata": {},
     "output_type": "display_data"
    },
    {
     "data": {
      "application/javascript": [
       "(function(root) {\n",
       "  function embed_document(root) {\n",
       "    \n",
       "  var docs_json = {\"78f09dfe-cf4e-48e7-8701-78ebd9b77102\":{\"roots\":{\"references\":[{\"attributes\":{\"below\":[{\"id\":\"1491\",\"type\":\"LinearAxis\"}],\"center\":[{\"id\":\"1495\",\"type\":\"Grid\"},{\"id\":\"1500\",\"type\":\"Grid\"}],\"left\":[{\"id\":\"1496\",\"type\":\"LinearAxis\"}],\"plot_height\":400,\"plot_width\":700,\"renderers\":[{\"id\":\"1510\",\"type\":\"Span\"},{\"id\":\"1514\",\"type\":\"GlyphRenderer\"}],\"title\":{\"id\":\"1481\",\"type\":\"Title\"},\"toolbar\":{\"id\":\"1505\",\"type\":\"Toolbar\"},\"toolbar_location\":\"above\",\"x_range\":{\"id\":\"1483\",\"type\":\"DataRange1d\"},\"x_scale\":{\"id\":\"1487\",\"type\":\"LinearScale\"},\"y_range\":{\"id\":\"1485\",\"type\":\"DataRange1d\"},\"y_scale\":{\"id\":\"1489\",\"type\":\"LinearScale\"}},\"id\":\"1480\",\"subtype\":\"Figure\",\"type\":\"Plot\"},{\"attributes\":{\"line_color\":{\"value\":\"grey\"},\"location\":0},\"id\":\"1510\",\"type\":\"Span\"},{\"attributes\":{},\"id\":\"1549\",\"type\":\"Selection\"},{\"attributes\":{\"dimension\":1,\"ticker\":{\"id\":\"1497\",\"type\":\"BasicTicker\"}},\"id\":\"1500\",\"type\":\"Grid\"},{\"attributes\":{},\"id\":\"1497\",\"type\":\"BasicTicker\"},{\"attributes\":{},\"id\":\"1489\",\"type\":\"LinearScale\"},{\"attributes\":{},\"id\":\"1546\",\"type\":\"BasicTickFormatter\"},{\"attributes\":{\"axis_label\":\"f(x)\",\"formatter\":{\"id\":\"1548\",\"type\":\"BasicTickFormatter\"},\"ticker\":{\"id\":\"1497\",\"type\":\"BasicTicker\"}},\"id\":\"1496\",\"type\":\"LinearAxis\"},{\"attributes\":{\"ticker\":{\"id\":\"1492\",\"type\":\"BasicTicker\"}},\"id\":\"1495\",\"type\":\"Grid\"},{\"attributes\":{\"line_alpha\":0.1,\"line_color\":\"#1f77b4\",\"line_width\":3,\"x\":{\"field\":\"x\"},\"y\":{\"field\":\"y\"}},\"id\":\"1513\",\"type\":\"Line\"},{\"attributes\":{},\"id\":\"1492\",\"type\":\"BasicTicker\"},{\"attributes\":{},\"id\":\"1548\",\"type\":\"BasicTickFormatter\"},{\"attributes\":{\"data_source\":{\"id\":\"1511\",\"type\":\"ColumnDataSource\"},\"glyph\":{\"id\":\"1512\",\"type\":\"Line\"},\"hover_glyph\":null,\"muted_glyph\":null,\"nonselection_glyph\":{\"id\":\"1513\",\"type\":\"Line\"},\"selection_glyph\":null,\"view\":{\"id\":\"1515\",\"type\":\"CDSView\"}},\"id\":\"1514\",\"type\":\"GlyphRenderer\"},{\"attributes\":{\"line_alpha\":0.5,\"line_color\":\"orange\",\"line_width\":3,\"x\":{\"field\":\"x\"},\"y\":{\"field\":\"y\"}},\"id\":\"1512\",\"type\":\"Line\"},{\"attributes\":{\"source\":{\"id\":\"1511\",\"type\":\"ColumnDataSource\"}},\"id\":\"1515\",\"type\":\"CDSView\"},{\"attributes\":{\"callback\":null,\"data\":{\"x\":{\"__ndarray__\":\"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\",\"dtype\":\"float64\",\"shape\":[2001]},\"y\":{\"__ndarray__\":\"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\",\"dtype\":\"float64\",\"shape\":[2001]}},\"selected\":{\"id\":\"1549\",\"type\":\"Selection\"},\"selection_policy\":{\"id\":\"1550\",\"type\":\"UnionRenderers\"}},\"id\":\"1511\",\"type\":\"ColumnDataSource\"},{\"attributes\":{\"active_drag\":\"auto\",\"active_inspect\":\"auto\",\"active_multi\":null,\"active_scroll\":\"auto\",\"active_tap\":\"auto\",\"tools\":[{\"id\":\"1501\",\"type\":\"PanTool\"},{\"id\":\"1502\",\"type\":\"HoverTool\"},{\"id\":\"1503\",\"type\":\"WheelZoomTool\"},{\"id\":\"1504\",\"type\":\"ResetTool\"}]},\"id\":\"1505\",\"type\":\"Toolbar\"},{\"attributes\":{\"text\":\"g(x)\"},\"id\":\"1481\",\"type\":\"Title\"},{\"attributes\":{},\"id\":\"1504\",\"type\":\"ResetTool\"},{\"attributes\":{\"callback\":null},\"id\":\"1483\",\"type\":\"DataRange1d\"},{\"attributes\":{\"callback\":null},\"id\":\"1485\",\"type\":\"DataRange1d\"},{\"attributes\":{},\"id\":\"1503\",\"type\":\"WheelZoomTool\"},{\"attributes\":{\"callback\":null,\"tooltips\":[[\"out\",\"$y\"],[\"x\",\"$x\"]]},\"id\":\"1502\",\"type\":\"HoverTool\"},{\"attributes\":{\"axis_label\":\"X\",\"formatter\":{\"id\":\"1546\",\"type\":\"BasicTickFormatter\"},\"ticker\":{\"id\":\"1492\",\"type\":\"BasicTicker\"}},\"id\":\"1491\",\"type\":\"LinearAxis\"},{\"attributes\":{},\"id\":\"1550\",\"type\":\"UnionRenderers\"},{\"attributes\":{},\"id\":\"1487\",\"type\":\"LinearScale\"},{\"attributes\":{},\"id\":\"1501\",\"type\":\"PanTool\"}],\"root_ids\":[\"1480\"]},\"title\":\"Bokeh Application\",\"version\":\"1.2.0\"}};\n",
       "  var render_items = [{\"docid\":\"78f09dfe-cf4e-48e7-8701-78ebd9b77102\",\"roots\":{\"1480\":\"550a3704-7d62-4ca0-9527-a6b5b3cb602b\"}}];\n",
       "  root.Bokeh.embed.embed_items_notebook(docs_json, render_items);\n",
       "\n",
       "  }\n",
       "  if (root.Bokeh !== undefined) {\n",
       "    embed_document(root);\n",
       "  } else {\n",
       "    var attempts = 0;\n",
       "    var timer = setInterval(function(root) {\n",
       "      if (root.Bokeh !== undefined) {\n",
       "        embed_document(root);\n",
       "        clearInterval(timer);\n",
       "      }\n",
       "      attempts++;\n",
       "      if (attempts > 100) {\n",
       "        console.log(\"Bokeh: ERROR: Unable to run BokehJS code because BokehJS library is missing\");\n",
       "        clearInterval(timer);\n",
       "      }\n",
       "    }, 10, root)\n",
       "  }\n",
       "})(window);"
      ],
      "application/vnd.bokehjs_exec.v0+json": ""
     },
     "metadata": {
      "application/vnd.bokehjs_exec.v0+json": {
       "id": "1480"
      }
     },
     "output_type": "display_data"
    }
   ],
   "source": [
    "## Plot the function on [-10, 10]\n",
    "x = np.arange(-10,10.01,0.01)\n",
    "def f(x):\n",
    "    return 5*x + 2*x**2\n",
    "p = plot(w=700,h=400,title=\"g(x)\")\n",
    "p.line(x,f(x),line_width=3,alpha=.5,color=\"orange\")\n",
    "show(p)"
   ]
  },
  {
   "cell_type": "markdown",
   "metadata": {},
   "source": [
    "The stationary point at $ x = - \\frac {5}{4} $ is both local and global minimum ($f( - \\frac {5}{4}) = -3.125 $), and global maxima is at the boundary $ x = 10 $, which has a value of 250."
   ]
  },
  {
   "cell_type": "markdown",
   "metadata": {},
   "source": [
    "### Question 2\n",
    "Given $x \\in [-3,3]$\n",
    "\n",
    "$$ g(x) = 3\\sin{x} + \\cos{x}$$"
   ]
  },
  {
   "cell_type": "code",
   "execution_count": 241,
   "metadata": {},
   "outputs": [
    {
     "data": {
      "text/latex": [
       "$\\displaystyle 3 \\sin{\\left(x \\right)} + \\cos{\\left(x \\right)}$"
      ],
      "text/plain": [
       "3*sin(x) + cos(x)"
      ]
     },
     "execution_count": 241,
     "metadata": {},
     "output_type": "execute_result"
    }
   ],
   "source": [
    "## Input the function using Sympy\n",
    "x = symbols('x')\n",
    "g = 3* sin(x) + cos(x)\n",
    "g"
   ]
  },
  {
   "cell_type": "code",
   "execution_count": 231,
   "metadata": {},
   "outputs": [
    {
     "data": {
      "text/latex": [
       "$\\displaystyle - \\sin{\\left(x \\right)} + 3 \\cos{\\left(x \\right)}$"
      ],
      "text/plain": [
       "-sin(x) + 3*cos(x)"
      ]
     },
     "execution_count": 231,
     "metadata": {},
     "output_type": "execute_result"
    }
   ],
   "source": [
    "# Derivative\n",
    "dg = g.diff()\n",
    "dg"
   ]
  },
  {
   "cell_type": "code",
   "execution_count": 300,
   "metadata": {},
   "outputs": [
    {
     "data": {
      "image/png": "[encoded data removed]",
      "text/latex": [
       "$\\displaystyle \\left[ \\operatorname{atan}{\\left(3 \\right)}, \\  - \\pi + \\operatorname{atan}{\\left(3 \\right)}\\right]$"
      ],
      "text/plain": [
       "[atan(3), -π + atan(3)]"
      ]
     },
     "execution_count": 300,
     "metadata": {},
     "output_type": "execute_result"
    }
   ],
   "source": [
    "# Find critical points\n",
    "critical = list(solveset(Eq(dg,0),domain=Interval(-3,3)))\n",
    "critical"
   ]
  },
  {
   "cell_type": "code",
   "execution_count": 233,
   "metadata": {},
   "outputs": [
    {
     "data": {
      "text/latex": [
       "$\\displaystyle - 3 \\sin{\\left(x \\right)} - \\cos{\\left(x \\right)}$"
      ],
      "text/plain": [
       "-3*sin(x) - cos(x)"
      ]
     },
     "execution_count": 233,
     "metadata": {},
     "output_type": "execute_result"
    }
   ],
   "source": [
    "# Find the second derivative\n",
    "ddg = dg.diff()\n",
    "ddg"
   ]
  },
  {
   "cell_type": "code",
   "execution_count": 234,
   "metadata": {},
   "outputs": [
    {
     "data": {
      "text/latex": [
       "$\\displaystyle -3.16$"
      ],
      "text/plain": [
       "-3.16"
      ]
     },
     "execution_count": 234,
     "metadata": {},
     "output_type": "execute_result"
    }
   ],
   "source": [
    "## Evaluate the second order derivative at critical points\n",
    "ddg.evalf(subs={x: atan(3)}).round(2)"
   ]
  },
  {
   "cell_type": "code",
   "execution_count": 235,
   "metadata": {},
   "outputs": [
    {
     "data": {
      "text/latex": [
       "$\\displaystyle 3.16$"
      ],
      "text/plain": [
       "3.16"
      ]
     },
     "execution_count": 235,
     "metadata": {},
     "output_type": "execute_result"
    }
   ],
   "source": [
    "ddg.evalf(subs={x:-pi + atan(3)}).round(2)"
   ]
  },
  {
   "cell_type": "markdown",
   "metadata": {},
   "source": [
    "The second order derivative for critical point $ x = atan(3)$ is $-3.16$; for critical point $x = -pi + atan(3)$ is $3.16$. Therefore, $ x = atan(3)$ is a local maximum and $x = -pi + atan(3)$ is a local minimum."
   ]
  },
  {
   "cell_type": "code",
   "execution_count": 236,
   "metadata": {},
   "outputs": [
    {
     "data": {
      "text/latex": [
       "$\\displaystyle 3.16$"
      ],
      "text/plain": [
       "3.16"
      ]
     },
     "execution_count": 236,
     "metadata": {},
     "output_type": "execute_result"
    }
   ],
   "source": [
    "## Calculate functional values\n",
    "g.evalf(subs={x: atan(3)}).round(2)"
   ]
  },
  {
   "cell_type": "code",
   "execution_count": 237,
   "metadata": {},
   "outputs": [
    {
     "data": {
      "text/latex": [
       "$\\displaystyle -3.16$"
      ],
      "text/plain": [
       "-3.16"
      ]
     },
     "execution_count": 237,
     "metadata": {},
     "output_type": "execute_result"
    }
   ],
   "source": [
    "g.evalf(subs = {x:-pi + atan(3)}).round(2)"
   ]
  },
  {
   "cell_type": "code",
   "execution_count": 238,
   "metadata": {},
   "outputs": [
    {
     "name": "stdout",
     "output_type": "stream",
     "text": [
      "Boundary Values:\n",
      "g(-3) = -1.41\n",
      "g(3) = -0.57\n"
     ]
    }
   ],
   "source": [
    "## Check for boundary conditions\n",
    "boundaries = [-3,3]\n",
    "print('Boundary Values:')\n",
    "for b in boundaries:\n",
    "    ev = g.evalf(subs={x: b})\n",
    "    print(f'g({round(b,2)}) = {round(ev,2)}')"
   ]
  },
  {
   "cell_type": "code",
   "execution_count": 243,
   "metadata": {},
   "outputs": [
    {
     "data": {
      "text/html": [
       "\n",
       "\n",
       "\n",
       "\n",
       "\n",
       "\n",
       "  <div class=\"bk-root\" id=\"815d723a-f4c4-4811-8c0e-dfb2a407baf2\" data-root-id=\"1686\"></div>\n"
      ]
     },
     "metadata": {},
     "output_type": "display_data"
    },
    {
     "data": {
      "application/javascript": [
       "(function(root) {\n",
       "  function embed_document(root) {\n",
       "    \n",
       "  var docs_json = {\"76175866-29cc-4cfc-b13f-662c63c9d670\":{\"roots\":{\"references\":[{\"attributes\":{\"below\":[{\"id\":\"1697\",\"type\":\"LinearAxis\"}],\"center\":[{\"id\":\"1701\",\"type\":\"Grid\"},{\"id\":\"1706\",\"type\":\"Grid\"}],\"left\":[{\"id\":\"1702\",\"type\":\"LinearAxis\"}],\"plot_height\":400,\"plot_width\":700,\"renderers\":[{\"id\":\"1716\",\"type\":\"Span\"},{\"id\":\"1720\",\"type\":\"GlyphRenderer\"}],\"title\":{\"id\":\"1687\",\"type\":\"Title\"},\"toolbar\":{\"id\":\"1711\",\"type\":\"Toolbar\"},\"toolbar_location\":\"above\",\"x_range\":{\"id\":\"1689\",\"type\":\"DataRange1d\"},\"x_scale\":{\"id\":\"1693\",\"type\":\"LinearScale\"},\"y_range\":{\"id\":\"1691\",\"type\":\"DataRange1d\"},\"y_scale\":{\"id\":\"1695\",\"type\":\"LinearScale\"}},\"id\":\"1686\",\"subtype\":\"Figure\",\"type\":\"Plot\"},{\"attributes\":{\"callback\":null,\"tooltips\":[[\"out\",\"$y\"],[\"x\",\"$x\"]]},\"id\":\"1708\",\"type\":\"HoverTool\"},{\"attributes\":{},\"id\":\"1693\",\"type\":\"LinearScale\"},{\"attributes\":{},\"id\":\"1709\",\"type\":\"WheelZoomTool\"},{\"attributes\":{},\"id\":\"1710\",\"type\":\"ResetTool\"},{\"attributes\":{\"axis_label\":\"f(x)\",\"formatter\":{\"id\":\"1761\",\"type\":\"BasicTickFormatter\"},\"ticker\":{\"id\":\"1703\",\"type\":\"BasicTicker\"}},\"id\":\"1702\",\"type\":\"LinearAxis\"},{\"attributes\":{\"active_drag\":\"auto\",\"active_inspect\":\"auto\",\"active_multi\":null,\"active_scroll\":\"auto\",\"active_tap\":\"auto\",\"tools\":[{\"id\":\"1707\",\"type\":\"PanTool\"},{\"id\":\"1708\",\"type\":\"HoverTool\"},{\"id\":\"1709\",\"type\":\"WheelZoomTool\"},{\"id\":\"1710\",\"type\":\"ResetTool\"}]},\"id\":\"1711\",\"type\":\"Toolbar\"},{\"attributes\":{\"line_alpha\":0.1,\"line_color\":\"#1f77b4\",\"line_width\":3,\"x\":{\"field\":\"x\"},\"y\":{\"field\":\"y\"}},\"id\":\"1719\",\"type\":\"Line\"},{\"attributes\":{\"callback\":null},\"id\":\"1691\",\"type\":\"DataRange1d\"},{\"attributes\":{\"data_source\":{\"id\":\"1717\",\"type\":\"ColumnDataSource\"},\"glyph\":{\"id\":\"1718\",\"type\":\"Line\"},\"hover_glyph\":null,\"muted_glyph\":null,\"nonselection_glyph\":{\"id\":\"1719\",\"type\":\"Line\"},\"selection_glyph\":null,\"view\":{\"id\":\"1721\",\"type\":\"CDSView\"}},\"id\":\"1720\",\"type\":\"GlyphRenderer\"},{\"attributes\":{},\"id\":\"1698\",\"type\":\"BasicTicker\"},{\"attributes\":{\"callback\":null},\"id\":\"1689\",\"type\":\"DataRange1d\"},{\"attributes\":{\"source\":{\"id\":\"1717\",\"type\":\"ColumnDataSource\"}},\"id\":\"1721\",\"type\":\"CDSView\"},{\"attributes\":{\"text\":\"g(x)\"},\"id\":\"1687\",\"type\":\"Title\"},{\"attributes\":{\"line_alpha\":0.5,\"line_color\":\"orange\",\"line_width\":3,\"x\":{\"field\":\"x\"},\"y\":{\"field\":\"y\"}},\"id\":\"1718\",\"type\":\"Line\"},{\"attributes\":{},\"id\":\"1695\",\"type\":\"LinearScale\"},{\"attributes\":{},\"id\":\"1759\",\"type\":\"BasicTickFormatter\"},{\"attributes\":{\"ticker\":{\"id\":\"1698\",\"type\":\"BasicTicker\"}},\"id\":\"1701\",\"type\":\"Grid\"},{\"attributes\":{},\"id\":\"1761\",\"type\":\"BasicTickFormatter\"},{\"attributes\":{\"callback\":null,\"data\":{\"x\":{\"__ndarray__\":\"AAAAAAAACMAzMzMzMzMHwGZmZmZmZgbAmZmZmZmZBcDMzMzMzMwEwP///////wPAMjMzMzMzA8BlZmZmZmYCwJiZmZmZmQHAy8zMzMzMAMD8////////v2JmZmZmZv6/yMzMzMzM/L8uMzMzMzP7v5SZmZmZmfm/+v//////979gZmZmZmb2v8bMzMzMzPS/LDMzMzMz87+SmZmZmZnxv/D//////++/vMzMzMzM7L+ImZmZmZnpv1RmZmZmZua/IDMzMzMz47/Y///////fv3CZmZmZmdm/CDMzMzMz079AmZmZmZnJv+CYmZmZmbm/AAAAAAAA6DxgmpmZmZm5PwCamZmZmck/aDMzMzMz0z/QmZmZmZnZPxwAAAAAAOA/UDMzMzMz4z+EZmZmZmbmP7iZmZmZmek/7MzMzMzM7D8QAAAAAADwP6iZmZmZmfE/RDMzMzMz8z/gzMzMzMz0P3hmZmZmZvY/EAAAAAAA+D+smZmZmZn5P0gzMzMzM/s/4MzMzMzM/D94ZmZmZmb+PwoAAAAAAABA2MzMzMzMAECkmZmZmZkBQHBmZmZmZgJAPjMzMzMzA0AMAAAAAAAEQNjMzMzMzARApJmZmZmZBUByZmZmZmYGQEAzMzMzMwdADAAAAAAACEA=\",\"dtype\":\"float64\",\"shape\":[61]},\"y\":{\"__ndarray__\":\"64JniBed9r+6siy+8AT7v3okMlatJ/+/kD9nmlx9AcBqoVgKJjoDwOY6PUbBxQTAlhF3ZTocBsBUL85nJToHwKRMIvamHAjA8L0WsXvBCMB2tQf7/SYJwPgyei4qTAnAWyFANqEwCcBQ2a2AqdQIwD3wcksuOQjAWCLjSb1fB8BMc7KrgkoGwCaNTo5D/ATAEVEM51Z4A8A+Hkn4nMIBwAwQs87qvv+/OwtDGWin+7/nMec0KUn3v7BXmXRar/K/vGinCoHL679bCxWoNPHhv5jfldcNpM+/kJW3nEubsT9mCRJ2apTYP9irU22RQeY/JAAAAAAA8D8cQv5CSrb0P2bg8veZN/k/ppBjGml4/T+WL2dR67YAQJ0BMy3hhgJA1gfOYHMnBEC7epxjeJQFQD5lrIlKygZAwPbqV9HFB0BbCzRviYQIQI/2+vmKBAlAkC8bjI5ECUBDIFlo8EMJQC7eNCOyAglA74HfnnqBCEDec11glMEHQLKLGULqxAZAfX9bjAKOBUB7IS2A+B8EQN7YMmV0fgJAcG7KLqKtAECi67ugTWT9P5EubLgoIvk/ZlFdFrqf9D8E1Ok5FdHvPzqcYDxUEeY/2uyhBUIy2D9QPqvt3Q+wP4Y52nWYNNC/Y8Y8bNoh4r8=\",\"dtype\":\"float64\",\"shape\":[61]}},\"selected\":{\"id\":\"1762\",\"type\":\"Selection\"},\"selection_policy\":{\"id\":\"1763\",\"type\":\"UnionRenderers\"}},\"id\":\"1717\",\"type\":\"ColumnDataSource\"},{\"attributes\":{},\"id\":\"1762\",\"type\":\"Selection\"},{\"attributes\":{\"axis_label\":\"X\",\"formatter\":{\"id\":\"1759\",\"type\":\"BasicTickFormatter\"},\"ticker\":{\"id\":\"1698\",\"type\":\"BasicTicker\"}},\"id\":\"1697\",\"type\":\"LinearAxis\"},{\"attributes\":{},\"id\":\"1763\",\"type\":\"UnionRenderers\"},{\"attributes\":{},\"id\":\"1703\",\"type\":\"BasicTicker\"},{\"attributes\":{\"dimension\":1,\"ticker\":{\"id\":\"1703\",\"type\":\"BasicTicker\"}},\"id\":\"1706\",\"type\":\"Grid\"},{\"attributes\":{\"line_color\":{\"value\":\"grey\"},\"location\":0},\"id\":\"1716\",\"type\":\"Span\"},{\"attributes\":{},\"id\":\"1707\",\"type\":\"PanTool\"}],\"root_ids\":[\"1686\"]},\"title\":\"Bokeh Application\",\"version\":\"1.2.0\"}};\n",
       "  var render_items = [{\"docid\":\"76175866-29cc-4cfc-b13f-662c63c9d670\",\"roots\":{\"1686\":\"815d723a-f4c4-4811-8c0e-dfb2a407baf2\"}}];\n",
       "  root.Bokeh.embed.embed_items_notebook(docs_json, render_items);\n",
       "\n",
       "  }\n",
       "  if (root.Bokeh !== undefined) {\n",
       "    embed_document(root);\n",
       "  } else {\n",
       "    var attempts = 0;\n",
       "    var timer = setInterval(function(root) {\n",
       "      if (root.Bokeh !== undefined) {\n",
       "        embed_document(root);\n",
       "        clearInterval(timer);\n",
       "      }\n",
       "      attempts++;\n",
       "      if (attempts > 100) {\n",
       "        console.log(\"Bokeh: ERROR: Unable to run BokehJS code because BokehJS library is missing\");\n",
       "        clearInterval(timer);\n",
       "      }\n",
       "    }, 10, root)\n",
       "  }\n",
       "})(window);"
      ],
      "application/vnd.bokehjs_exec.v0+json": ""
     },
     "metadata": {
      "application/vnd.bokehjs_exec.v0+json": {
       "id": "1686"
      }
     },
     "output_type": "display_data"
    }
   ],
   "source": [
    "## Graph\n",
    "x = np.arange(-3,3.1,.1)\n",
    "def g(x):\n",
    "    return 3* np.sin(x) + np.cos(x)\n",
    "\n",
    "p = plot(w=700,h=400,title=\"g(x)\")\n",
    "p.line(x,g(x),line_width=3,alpha=.5,color=\"orange\")\n",
    "show(p)"
   ]
  },
  {
   "cell_type": "markdown",
   "metadata": {},
   "source": [
    "Given our analysis above, on $ [-3,3] $, $atan(3)$ is both a local and global maximum ($g(atan(3) = 3.16)$); $-pi + atan(3)$ is both local and global minima ($g(-pi + atan(3)) = -3.16$)."
   ]
  },
  {
   "cell_type": "markdown",
   "metadata": {},
   "source": [
    "### Question 3\n",
    "\n",
    "Given $x \\in [-1,10]$\n",
    "\n",
    "$$ k(x) = \\frac{x^3}{e^x} $$"
   ]
  },
  {
   "cell_type": "code",
   "execution_count": 304,
   "metadata": {},
   "outputs": [
    {
     "data": {
      "image/png": "[encoded data removed]",
      "text/latex": [
       "$\\displaystyle x^{3} e^{- x}$"
      ],
      "text/plain": [
       " 3  -x\n",
       "x ⋅ℯ  "
      ]
     },
     "execution_count": 304,
     "metadata": {},
     "output_type": "execute_result"
    }
   ],
   "source": [
    "x = symbols('x')\n",
    "k = x**3 / E**x\n",
    "k"
   ]
  },
  {
   "cell_type": "code",
   "execution_count": 305,
   "metadata": {},
   "outputs": [
    {
     "data": {
      "image/png": "[encoded data removed]",
      "text/latex": [
       "$\\displaystyle - x^{3} e^{- x} + 3 x^{2} e^{- x}$"
      ],
      "text/plain": [
       "   3  -x      2  -x\n",
       "- x ⋅ℯ   + 3⋅x ⋅ℯ  "
      ]
     },
     "execution_count": 305,
     "metadata": {},
     "output_type": "execute_result"
    }
   ],
   "source": [
    "## Take the derivative\n",
    "dk = k.diff()\n",
    "dk"
   ]
  },
  {
   "cell_type": "code",
   "execution_count": 306,
   "metadata": {},
   "outputs": [
    {
     "data": {
      "image/png": "[encoded data removed]",
      "text/latex": [
       "$\\displaystyle \\left[ 0, \\  3\\right]$"
      ],
      "text/plain": [
       "[0, 3]"
      ]
     },
     "execution_count": 306,
     "metadata": {},
     "output_type": "execute_result"
    }
   ],
   "source": [
    "## Find critical points\n",
    "critical = list(solveset(Eq(dk,0), domain = Interval(-1,10)))\n",
    "critical"
   ]
  },
  {
   "cell_type": "code",
   "execution_count": 307,
   "metadata": {},
   "outputs": [
    {
     "data": {
      "image/png": "[encoded data removed]",
      "text/latex": [
       "$\\displaystyle x^{3} e^{- x} - 6 x^{2} e^{- x} + 6 x e^{- x}$"
      ],
      "text/plain": [
       " 3  -x      2  -x        -x\n",
       "x ⋅ℯ   - 6⋅x ⋅ℯ   + 6⋅x⋅ℯ  "
      ]
     },
     "execution_count": 307,
     "metadata": {},
     "output_type": "execute_result"
    }
   ],
   "source": [
    "## Take second order derivative\n",
    "ddk = dk.diff()\n",
    "ddk"
   ]
  },
  {
   "cell_type": "code",
   "execution_count": 308,
   "metadata": {},
   "outputs": [
    {
     "data": {
      "image/png": "[encoded data removed]",
      "text/latex": [
       "$\\displaystyle 0$"
      ],
      "text/plain": [
       "0"
      ]
     },
     "execution_count": 308,
     "metadata": {},
     "output_type": "execute_result"
    }
   ],
   "source": [
    "## Second order derivative at critical points\n",
    "ddk.evalf(subs = {x:0})"
   ]
  },
  {
   "cell_type": "code",
   "execution_count": 309,
   "metadata": {},
   "outputs": [
    {
     "data": {
      "image/png": "[encoded data removed]",
      "text/latex": [
       "$\\displaystyle -0.448083615310776$"
      ],
      "text/plain": [
       "-0.448083615310776"
      ]
     },
     "execution_count": 309,
     "metadata": {},
     "output_type": "execute_result"
    }
   ],
   "source": [
    "ddk.evalf(subs = {x:3})"
   ]
  },
  {
   "cell_type": "markdown",
   "metadata": {},
   "source": [
    "At $ x = 3$, the second derivative is negative, so it is a local maximum. However, the second derivative at $ x = 0 $ is 0, we do not have enough information to judge so we need to take the third order derivative. "
   ]
  },
  {
   "cell_type": "code",
   "execution_count": 310,
   "metadata": {},
   "outputs": [
    {
     "data": {
      "image/png": "[encoded data removed]",
      "text/latex": [
       "$\\displaystyle 6.0$"
      ],
      "text/plain": [
       "6.00000000000000"
      ]
     },
     "execution_count": 310,
     "metadata": {},
     "output_type": "execute_result"
    }
   ],
   "source": [
    "## Third order derivative\n",
    "dddk = ddk.diff()\n",
    "dddk.evalf(subs = {x:0})"
   ]
  },
  {
   "cell_type": "markdown",
   "metadata": {},
   "source": [
    "Since the third order derivative is not zero. Then the point $ x = 0 $ is an inflection point."
   ]
  },
  {
   "cell_type": "code",
   "execution_count": 311,
   "metadata": {},
   "outputs": [
    {
     "name": "stdout",
     "output_type": "stream",
     "text": [
      "Boundary Values:\n",
      "k(-1) = -2.72\n",
      "k(10) = 0.05\n"
     ]
    }
   ],
   "source": [
    "## Check for boundary conditions\n",
    "boundaries = [-1,10]\n",
    "print('Boundary Values:')\n",
    "for b in boundaries:\n",
    "    ev = k.evalf(subs={x: b})\n",
    "    print(f'k({round(b,2)}) = {round(ev,2)}')"
   ]
  },
  {
   "cell_type": "code",
   "execution_count": 312,
   "metadata": {},
   "outputs": [
    {
     "data": {
      "text/html": [
       "\n",
       "\n",
       "\n",
       "\n",
       "\n",
       "\n",
       "  <div class=\"bk-root\" id=\"422dc5f8-7da4-4aa1-bafe-5423de2c6dc9\" data-root-id=\"1934\"></div>\n"
      ]
     },
     "metadata": {},
     "output_type": "display_data"
    },
    {
     "data": {
      "application/javascript": [
       "(function(root) {\n",
       "  function embed_document(root) {\n",
       "    \n",
       "  var docs_json = {\"0f73ffd9-67c5-47cc-9b13-c5410a03b516\":{\"roots\":{\"references\":[{\"attributes\":{\"below\":[{\"id\":\"1945\",\"type\":\"LinearAxis\"}],\"center\":[{\"id\":\"1949\",\"type\":\"Grid\"},{\"id\":\"1954\",\"type\":\"Grid\"}],\"left\":[{\"id\":\"1950\",\"type\":\"LinearAxis\"}],\"plot_height\":400,\"plot_width\":700,\"renderers\":[{\"id\":\"1964\",\"type\":\"Span\"},{\"id\":\"1968\",\"type\":\"GlyphRenderer\"}],\"title\":{\"id\":\"1935\",\"type\":\"Title\"},\"toolbar\":{\"id\":\"1959\",\"type\":\"Toolbar\"},\"toolbar_location\":\"above\",\"x_range\":{\"id\":\"1937\",\"type\":\"DataRange1d\"},\"x_scale\":{\"id\":\"1941\",\"type\":\"LinearScale\"},\"y_range\":{\"id\":\"1939\",\"type\":\"DataRange1d\"},\"y_scale\":{\"id\":\"1943\",\"type\":\"LinearScale\"}},\"id\":\"1934\",\"subtype\":\"Figure\",\"type\":\"Plot\"},{\"attributes\":{\"ticker\":{\"id\":\"1946\",\"type\":\"BasicTicker\"}},\"id\":\"1949\",\"type\":\"Grid\"},{\"attributes\":{},\"id\":\"1958\",\"type\":\"ResetTool\"},{\"attributes\":{\"axis_label\":\"f(x)\",\"formatter\":{\"id\":\"2023\",\"type\":\"BasicTickFormatter\"},\"ticker\":{\"id\":\"1951\",\"type\":\"BasicTicker\"}},\"id\":\"1950\",\"type\":\"LinearAxis\"},{\"attributes\":{},\"id\":\"2025\",\"type\":\"UnionRenderers\"},{\"attributes\":{\"active_drag\":\"auto\",\"active_inspect\":\"auto\",\"active_multi\":null,\"active_scroll\":\"auto\",\"active_tap\":\"auto\",\"tools\":[{\"id\":\"1955\",\"type\":\"PanTool\"},{\"id\":\"1956\",\"type\":\"HoverTool\"},{\"id\":\"1957\",\"type\":\"WheelZoomTool\"},{\"id\":\"1958\",\"type\":\"ResetTool\"}]},\"id\":\"1959\",\"type\":\"Toolbar\"},{\"attributes\":{\"axis_label\":\"X\",\"formatter\":{\"id\":\"2021\",\"type\":\"BasicTickFormatter\"},\"ticker\":{\"id\":\"1946\",\"type\":\"BasicTicker\"}},\"id\":\"1945\",\"type\":\"LinearAxis\"},{\"attributes\":{},\"id\":\"2023\",\"type\":\"BasicTickFormatter\"},{\"attributes\":{},\"id\":\"1941\",\"type\":\"LinearScale\"},{\"attributes\":{\"text\":\"g(x)\"},\"id\":\"1935\",\"type\":\"Title\"},{\"attributes\":{\"data_source\":{\"id\":\"1965\",\"type\":\"ColumnDataSource\"},\"glyph\":{\"id\":\"1966\",\"type\":\"Line\"},\"hover_glyph\":null,\"muted_glyph\":null,\"nonselection_glyph\":{\"id\":\"1967\",\"type\":\"Line\"},\"selection_glyph\":null,\"view\":{\"id\":\"1969\",\"type\":\"CDSView\"}},\"id\":\"1968\",\"type\":\"GlyphRenderer\"},{\"attributes\":{\"callback\":null},\"id\":\"1939\",\"type\":\"DataRange1d\"},{\"attributes\":{},\"id\":\"1951\",\"type\":\"BasicTicker\"},{\"attributes\":{},\"id\":\"2024\",\"type\":\"Selection\"},{\"attributes\":{},\"id\":\"1957\",\"type\":\"WheelZoomTool\"},{\"attributes\":{},\"id\":\"1946\",\"type\":\"BasicTicker\"},{\"attributes\":{\"callback\":null},\"id\":\"1937\",\"type\":\"DataRange1d\"},{\"attributes\":{\"callback\":null,\"tooltips\":[[\"out\",\"$y\"],[\"x\",\"$x\"]]},\"id\":\"1956\",\"type\":\"HoverTool\"},{\"attributes\":{},\"id\":\"1955\",\"type\":\"PanTool\"},{\"attributes\":{},\"id\":\"2021\",\"type\":\"BasicTickFormatter\"},{\"attributes\":{\"line_color\":{\"value\":\"grey\"},\"location\":0},\"id\":\"1964\",\"type\":\"Span\"},{\"attributes\":{\"dimension\":1,\"ticker\":{\"id\":\"1951\",\"type\":\"BasicTicker\"}},\"id\":\"1954\",\"type\":\"Grid\"},{\"attributes\":{\"callback\":null,\"data\":{\"x\":{\"__ndarray__\":\"AAAAAAAA8L/NzMzMzMzsv5qZmZmZmem/Z2ZmZmZm5r80MzMzMzPjvwEAAAAAAOC/nJmZmZmZ2b82MzMzMzPTv6CZmZmZmcm/qJmZmZmZub8AAAAAAACwvICZmZmZmbk/kJmZmZmZyT8wMzMzMzPTP5SZmZmZmdk/+P//////3z8wMzMzMzPjP2RmZmZmZuY/lpmZmZmZ6T/IzMzMzMzsP/z//////+8/mJmZmZmZ8T8wMzMzMzPzP8rMzMzMzPQ/ZGZmZmZm9j/+///////3P5iZmZmZmfk/MDMzMzMz+z/KzMzMzMz8P2RmZmZmZv4//P///////z/LzMzMzMwAQJiZmZmZmQFAZWZmZmZmAkAyMzMzMzMDQP7//////wNAy8zMzMzMBECYmZmZmZkFQGRmZmZmZgZAMTMzMzMzB0D+//////8HQMrMzMzMzAhAmJmZmZmZCUBkZmZmZmYKQDAzMzMzMwtA/v//////C0DKzMzMzMwMQJiZmZmZmQ1AZGZmZmZmDkAwMzMzMzMPQP7//////w9AZWZmZmZmEEDMzMzMzMwQQDIzMzMzMxFAmJmZmZmZEUD///////8RQGVmZmZmZhJAy8zMzMzMEkAyMzMzMzMTQJiZmZmZmRNA/v//////E0BlZmZmZmYUQMvMzMzMzBRAMjMzMzMzFUCYmZmZmZkVQP7//////xVAZWZmZmZmFkDLzMzMzMwWQDIzMzMzMxdAmJmZmZmZF0D+//////8XQGVmZmZmZhhAy8zMzMzMGEAxMzMzMzMZQJiZmZmZmRlA/v//////GUBkZmZmZmYaQMvMzMzMzBpAMTMzMzMzG0CYmZmZmZkbQP7//////xtAZGZmZmZmHEDKzMzMzMwcQDIzMzMzMx1AmJmZmZmZHUD+//////8dQGRmZmZmZh5AyszMzMzMHkAwMzMzMzMfQJiZmZmZmR9A/v//////H0AyMzMzMzMgQGVmZmZmZiBAmJmZmZmZIEDMzMzMzMwgQP///////yBAMjMzMzMzIUBlZmZmZmYhQJiZmZmZmSFAzMzMzMzMIUD///////8hQDIzMzMzMyJAZWZmZmZmIkCYmZmZmZkiQMzMzMzMzCJA////////IkAyMzMzMzMjQGVmZmZmZiNAmJmZmZmZI0DLzMzMzMwjQP///////yNA\",\"dtype\":\"float64\",\"shape\":[111]},\"y\":{\"__ndarray__\":\"aVcUiwq/BcBCZLTlVbD8v/AAHzBMO/K/NH2k6Voa5r87zntbYDDZv6EGHo4pYcq/WD1qkipxuL8FbV4hE6miv8/dsjnvAoS/6KjGPGwbUr8BAAAAAAAwtrNMMI9Tpk0/AnaD5wLUej9Pc0CrbXuUP5VIeVYN96U//pVv/LJosz85VjLG2li+P0THKjFVzcU/aVG+NH1yzT8oTDfACvjSPzPvLDZWi9c/J6+tT/Ra3D84uJ5Go6fgPxsb1K/6KOM/ETkhNjen5T+2lW9IGhnoPy4ESeKFduo/fGXskoS47D9zvYgBR9nuP12dI9kMavA/yoG/o6pS8T9KEFWEJSXyP52cCo2X4PI/1QHxwICE8z+pJCdruxD0P2x2EZ5whfQ/Pi9xGA3j9D/22Zm8Nir1P6y35LfCW/U/6P0+bax49T8UZc4sDYL1P6YRvrsUefU/meL7qQJf9T8MuLhvIDX1P3dCnkm8/PQ/G2mtyCS39D9O/mwJpWX0P+dLVIWBCfQ/FkMRcfWj8z+WVVWaMDbzP/c8IbhVwfI/wAoGIXlG8j+3znLbn8bxP/Ki3vy+QvE/VvFlTbu78D/cHkAmaTLwPwCthQQZT+8/QDjrcLI37j+JtP+y5h/tP4y99VLfCOw/igPNYKjz6j/+xVK4MeHpP2E1SF9Q0ug/10Pi9b/H5z8DIuMyJMLmP2iqgmUKwuU/2BU5+OrH5D/Ld0fwKtTjP4bbjGYd5+I/o63W9gQB4j+au2gjFSLhP6XX9apzSuA/l+Nen3P03j9/FeMc62LdP1AixYpV4Ns/9WxKk6hs2j/ufuzXyQfZPyS4hdiQsdc/lF/cuMhp1j+8rz7lMTDVP5+PGpeDBNQ/AiSoOm3m0j/Tu+C2l9XRP8gfFZmm0dA/G2sQS3K0zz9Livyc1t3NPzL7bSatHsw/zeCSkCV2yj+Y0KyVbePIP3Lb/j+yZcc/ticQBCH8xT+rpvi46KXEP6Z1VHE6YsM/QPxeN0owwj8eipmuTw/BPyRchToN/b8/DH6Iv176vT/fCz2QHhW8P4n9btbhS7o/cRusu0iduD8kE+XF/ge3Pyef0Bm7irU/i8LupUAktD9g3NI4XtOyP8l2JoXulrE/mE+kFdhtsD9rgzZmGq6uP/X1tnwXo6w/65KL/7m4qj+FhhncKu2oP7ohJNuoPqc/\",\"dtype\":\"float64\",\"shape\":[111]}},\"selected\":{\"id\":\"2024\",\"type\":\"Selection\"},\"selection_policy\":{\"id\":\"2025\",\"type\":\"UnionRenderers\"}},\"id\":\"1965\",\"type\":\"ColumnDataSource\"},{\"attributes\":{},\"id\":\"1943\",\"type\":\"LinearScale\"},{\"attributes\":{\"line_alpha\":0.1,\"line_color\":\"#1f77b4\",\"line_width\":3,\"x\":{\"field\":\"x\"},\"y\":{\"field\":\"y\"}},\"id\":\"1967\",\"type\":\"Line\"},{\"attributes\":{\"line_alpha\":0.5,\"line_color\":\"blue\",\"line_width\":3,\"x\":{\"field\":\"x\"},\"y\":{\"field\":\"y\"}},\"id\":\"1966\",\"type\":\"Line\"},{\"attributes\":{\"source\":{\"id\":\"1965\",\"type\":\"ColumnDataSource\"}},\"id\":\"1969\",\"type\":\"CDSView\"}],\"root_ids\":[\"1934\"]},\"title\":\"Bokeh Application\",\"version\":\"1.2.0\"}};\n",
       "  var render_items = [{\"docid\":\"0f73ffd9-67c5-47cc-9b13-c5410a03b516\",\"roots\":{\"1934\":\"422dc5f8-7da4-4aa1-bafe-5423de2c6dc9\"}}];\n",
       "  root.Bokeh.embed.embed_items_notebook(docs_json, render_items);\n",
       "\n",
       "  }\n",
       "  if (root.Bokeh !== undefined) {\n",
       "    embed_document(root);\n",
       "  } else {\n",
       "    var attempts = 0;\n",
       "    var timer = setInterval(function(root) {\n",
       "      if (root.Bokeh !== undefined) {\n",
       "        embed_document(root);\n",
       "        clearInterval(timer);\n",
       "      }\n",
       "      attempts++;\n",
       "      if (attempts > 100) {\n",
       "        console.log(\"Bokeh: ERROR: Unable to run BokehJS code because BokehJS library is missing\");\n",
       "        clearInterval(timer);\n",
       "      }\n",
       "    }, 10, root)\n",
       "  }\n",
       "})(window);"
      ],
      "application/vnd.bokehjs_exec.v0+json": ""
     },
     "metadata": {
      "application/vnd.bokehjs_exec.v0+json": {
       "id": "1934"
      }
     },
     "output_type": "display_data"
    }
   ],
   "source": [
    "## graph\n",
    "x = np.arange(-1, 10.1, .1)\n",
    "def k(x):\n",
    "    return x**3 / np.e**x\n",
    "p = plot(w=700,h=400,title=\"g(x)\")\n",
    "p.line(x,k(x),line_width=3,alpha=.5,color=\"blue\")\n",
    "show(p)"
   ]
  },
  {
   "cell_type": "markdown",
   "metadata": {},
   "source": [
    "Therefore, the critical point at $x = 0 $ is an inflection (saddle) point. $x = 3$ is both a local and global maximum. The global minimum occurs at the boundary when $x = -1$. "
   ]
  },
  {
   "cell_type": "markdown",
   "metadata": {},
   "source": [
    "# Part 3: Multivariate Optimization\n",
    "\n",
    "(2 points each)\n",
    "\n",
    "Find all critical points and determine whether they are minima, maxima, or neither for the following functions. For all minima/maxima determine if they are local or global given the domain constraints. Show and describe all steps. Failure to comment will result in a deduction in points. All equations should be written in `Latex`."
   ]
  },
  {
   "cell_type": "markdown",
   "metadata": {},
   "source": [
    "### Question 1: \n",
    "\n",
    "$$ g(x,y,z) = x^2+ z^2 + z(-yx) + y^2 $$"
   ]
  },
  {
   "cell_type": "code",
   "execution_count": 313,
   "metadata": {},
   "outputs": [
    {
     "data": {
      "image/png": "[encoded data removed]",
      "text/latex": [
       "$\\displaystyle x^{2} - x y z + y^{2} + z^{2}$"
      ],
      "text/plain": [
       " 2            2    2\n",
       "x  - x⋅y⋅z + y  + z "
      ]
     },
     "execution_count": 313,
     "metadata": {},
     "output_type": "execute_result"
    }
   ],
   "source": [
    "x, y, z = symbols ('x y z')\n",
    "g = x**2 + z**2 + z*(-y * x) + y**2\n",
    "g"
   ]
  },
  {
   "cell_type": "code",
   "execution_count": 314,
   "metadata": {},
   "outputs": [
    {
     "data": {
      "image/png": "[encoded data removed]",
      "text/latex": [
       "$\\displaystyle \\left[ 2 x - y z, \\  - x z + 2 y, \\  - x y + 2 z\\right]$"
      ],
      "text/plain": [
       "[2⋅x - y⋅z, -x⋅z + 2⋅y, -x⋅y + 2⋅z]"
      ]
     },
     "execution_count": 314,
     "metadata": {},
     "output_type": "execute_result"
    }
   ],
   "source": [
    "## Firstly, we calculate the gradient\n",
    "g_x = g.diff(x)\n",
    "g_y = g.diff(y)\n",
    "g_z = g.diff(z)\n",
    "gradient = [g_x, g_y, g_z]\n",
    "gradient"
   ]
  },
  {
   "cell_type": "code",
   "execution_count": 315,
   "metadata": {},
   "outputs": [
    {
     "data": {
      "image/png": "[encoded data removed]",
      "text/latex": [
       "$\\displaystyle \\left[ \\left( -2, \\  -2, \\  2\\right), \\  \\left( -2, \\  2, \\  -2\\right), \\  \\left( 0, \\  0, \\  0\\right), \\  \\left( 2, \\  -2, \\  -2\\right), \\  \\left( 2, \\  2, \\  2\\right)\\right]$"
      ],
      "text/plain": [
       "[(-2, -2, 2), (-2, 2, -2), (0, 0, 0), (2, -2, -2), (2, 2, 2)]"
      ]
     },
     "execution_count": 315,
     "metadata": {},
     "output_type": "execute_result"
    }
   ],
   "source": [
    "## Find critical points\n",
    "critical = solve(gradient,[x,y,z])\n",
    "critical"
   ]
  },
  {
   "cell_type": "code",
   "execution_count": 316,
   "metadata": {},
   "outputs": [
    {
     "data": {
      "text/plain": [
       "matrix([[2, -z, -y],\n",
       "        [-z, 2, -x],\n",
       "        [-y, -x, 2]], dtype=object)"
      ]
     },
     "execution_count": 316,
     "metadata": {},
     "output_type": "execute_result"
    }
   ],
   "source": [
    "## Calculate the Hessian\n",
    "H = [g.diff(term).diff(term2) for term in [x,y,z] for term2 in [x,y,z]]\n",
    "H = np.matrix(H).reshape(3,3)\n",
    "H"
   ]
  },
  {
   "cell_type": "code",
   "execution_count": 317,
   "metadata": {},
   "outputs": [
    {
     "data": {
      "image/png": "[encoded data removed]",
      "text/latex": [
       "$\\displaystyle \\left[ -31.999999999999986, \\  -31.999999999999986, \\  7.999999999999998, \\  -31.999999999999986, \\  -31.999999999999986\\right]$"
      ],
      "text/plain": [
       "[-31.999999999999986, -31.999999999999986, 7.999999999999998, -31.999999999999\n",
       "986, -31.999999999999986]"
      ]
     },
     "execution_count": 317,
     "metadata": {},
     "output_type": "execute_result"
    }
   ],
   "source": [
    "## Since we have 5 critical points, we create a function to calcualte the det of the Hessian for each critical value.\n",
    "def detH(crit_points):\n",
    "\n",
    "    '''\n",
    "    This function calculates the determinant of the Hessian for critical points.\n",
    "    '''\n",
    "    x = crit_points[0]\n",
    "    y = crit_points[1]\n",
    "    z = crit_points[2]\n",
    "    \n",
    "    H = np.matrix([[2,-z,-y],[-z,2,-x],[-y,-x,2]],dtype='float')\n",
    "    return(la.det(H))\n",
    "\n",
    "[detH(points) for points in critical]"
   ]
  },
  {
   "cell_type": "markdown",
   "metadata": {},
   "source": [
    "The determinant for the Hessian is negative for critical points (-2, -2, 2), (-2, 2, -2),(2, -2, -2), (2, 2, 2). Therefore, these four stationary points are saddle points. \n",
    "For (0,0,0), the determinant of the Hessian is positive, so a minimum or maximum point exists. We take a closer look into this point."
   ]
  },
  {
   "cell_type": "code",
   "execution_count": 318,
   "metadata": {},
   "outputs": [],
   "source": [
    "H0 = np.matrix([[2,0,0],[0,2,0],[0,0,2]])\n",
    "## This matrix is already a diagonal matrix, so all eigenvalues are equal to 2."
   ]
  },
  {
   "cell_type": "markdown",
   "metadata": {},
   "source": [
    "Since all $\\lambda s$ are greater than zero, then the stationary point (0,0,0) is a local minimum. "
   ]
  },
  {
   "cell_type": "code",
   "execution_count": 319,
   "metadata": {},
   "outputs": [
    {
     "data": {
      "image/png": "[encoded data removed]",
      "text/latex": [
       "$\\displaystyle 0$"
      ],
      "text/plain": [
       "0"
      ]
     },
     "execution_count": 319,
     "metadata": {},
     "output_type": "execute_result"
    }
   ],
   "source": [
    "## Plug the value back into g\n",
    "g.evalf(subs = {x:0, y:0, z:0})"
   ]
  },
  {
   "cell_type": "markdown",
   "metadata": {},
   "source": [
    "### Question 2: \n",
    "\n",
    "$$ f(x,y) = 5+ -3y^2+ y^{cos{\\frac{\\pi}{2}}} - 4x^2 + xy^{\\frac{3}{20}}$$"
   ]
  },
  {
   "cell_type": "code",
   "execution_count": 320,
   "metadata": {},
   "outputs": [
    {
     "data": {
      "image/png": "[encoded data removed]",
      "text/latex": [
       "$\\displaystyle - 4 x^{2} + x y^{0.15} - 3 y^{2} + 6$"
      ],
      "text/plain": [
       "     2      0.15      2    \n",
       "- 4⋅x  + x⋅y     - 3⋅y  + 6"
      ]
     },
     "execution_count": 320,
     "metadata": {},
     "output_type": "execute_result"
    }
   ],
   "source": [
    "x, y = symbols('x y')\n",
    "f = 5 + (-3*y**2) + y**cos(pi/2) - 4*x**2 + x*y**(3/20) ## cos(pi/2) == 0\n",
    "f"
   ]
  },
  {
   "cell_type": "code",
   "execution_count": 321,
   "metadata": {},
   "outputs": [
    {
     "data": {
      "image/png": "[encoded data removed]",
      "text/latex": [
       "$\\displaystyle \\left[ - 8 x + y^{0.15}, \\  \\frac{0.15 x}{y^{0.85}} - 6 y\\right]$"
      ],
      "text/plain": [
       "⎡        0.15          -0.85      ⎤\n",
       "⎣-8⋅x + y    , 0.15⋅x⋅y      - 6⋅y⎦"
      ]
     },
     "execution_count": 321,
     "metadata": {},
     "output_type": "execute_result"
    }
   ],
   "source": [
    "## Calculate the gradient\n",
    "f_x = f.diff(x)\n",
    "f_y = f.diff(y)\n",
    "gradient = [f_x, f_y]\n",
    "gradient"
   ]
  },
  {
   "cell_type": "code",
   "execution_count": 322,
   "metadata": {},
   "outputs": [
    {
     "data": {
      "image/png": "[encoded data removed]",
      "text/latex": [
       "$\\displaystyle \\left[ \\left( 0.0751393385851361, \\  0.0336033337721474\\right)\\right]$"
      ],
      "text/plain": [
       "[(0.0751393385851361, 0.0336033337721474)]"
      ]
     },
     "execution_count": 322,
     "metadata": {},
     "output_type": "execute_result"
    }
   ],
   "source": [
    "## Calculate critical points\n",
    "critical = solve(gradient, [x,y])\n",
    "critical"
   ]
  },
  {
   "cell_type": "code",
   "execution_count": 323,
   "metadata": {},
   "outputs": [
    {
     "data": {
      "text/plain": [
       "matrix([[-8, 0.15*y**(-0.85)],\n",
       "        [0.15*y**(-0.85), -0.1275*x*y**(-1.85) - 6]], dtype=object)"
      ]
     },
     "execution_count": 323,
     "metadata": {},
     "output_type": "execute_result"
    }
   ],
   "source": [
    "## Calculate the Hessian\n",
    "f_xx = f_x.diff(x)\n",
    "f_xy = f_x.diff(y)\n",
    "f_yy = f_y.diff(y)\n",
    "f_yx = f_y.diff(x)\n",
    "H = np.matrix([[f_xx,f_xy],[f_yx,f_yy]])\n",
    "H"
   ]
  },
  {
   "cell_type": "code",
   "execution_count": 324,
   "metadata": {},
   "outputs": [
    {
     "data": {
      "image/png": "[encoded data removed]",
      "text/latex": [
       "$\\displaystyle 81.59999999999997$"
      ],
      "text/plain": [
       "81.59999999999997"
      ]
     },
     "execution_count": 324,
     "metadata": {},
     "output_type": "execute_result"
    }
   ],
   "source": [
    "## Since we have 5 critical points, we create a function to calcualte the det of the Hessian for each critical value.\n",
    "\n",
    "x = critical[0][0]\n",
    "y = critical[0][1]\n",
    "    \n",
    "H1 = np.matrix([[-8, 0.15*y**(-0.85)],[0.15*y**(-0.85), -0.1275*x*y**(-1.85) - 6]],dtype='float')\n",
    "la.det(H1)"
   ]
  },
  {
   "cell_type": "markdown",
   "metadata": {},
   "source": [
    "Since the determinant of the Hessian for the critical value is positive, there exists a local minimum/maximum. "
   ]
  },
  {
   "cell_type": "code",
   "execution_count": 325,
   "metadata": {},
   "outputs": [
    {
     "data": {
      "text/plain": [
       "array([ -6.45120991, -12.64879009])"
      ]
     },
     "execution_count": 325,
     "metadata": {},
     "output_type": "execute_result"
    }
   ],
   "source": [
    "## Look at the eigenvalues of the Hessia\n",
    "la.eigvals(H1)"
   ]
  },
  {
   "cell_type": "markdown",
   "metadata": {},
   "source": [
    "Since eigenvalues are negative, we can conclude that $x* = (0.0751393385851361, 0.0336033337721474)$ is a local maximum."
   ]
  },
  {
   "cell_type": "markdown",
   "metadata": {},
   "source": [
    "### Question 3: \n",
    "\n",
    "$$ h(x,y,z) = (xy)^2 - zy + xz $$"
   ]
  },
  {
   "cell_type": "code",
   "execution_count": 326,
   "metadata": {},
   "outputs": [
    {
     "data": {
      "image/png": "[encoded data removed]",
      "text/latex": [
       "$\\displaystyle x^{2} y^{2} + x z - y z$"
      ],
      "text/plain": [
       " 2  2            \n",
       "x ⋅y  + x⋅z - y⋅z"
      ]
     },
     "execution_count": 326,
     "metadata": {},
     "output_type": "execute_result"
    }
   ],
   "source": [
    "x,y,z = symbols('x y z')\n",
    "h = (x*y)**2 - z*y + x*z\n",
    "h"
   ]
  },
  {
   "cell_type": "code",
   "execution_count": 327,
   "metadata": {},
   "outputs": [
    {
     "data": {
      "image/png": "[encoded data removed]",
      "text/latex": [
       "$\\displaystyle \\left[ 2 x y^{2} + z, \\  2 x^{2} y - z, \\  x - y\\right]$"
      ],
      "text/plain": [
       "⎡     2         2             ⎤\n",
       "⎣2⋅x⋅y  + z, 2⋅x ⋅y - z, x - y⎦"
      ]
     },
     "execution_count": 327,
     "metadata": {},
     "output_type": "execute_result"
    }
   ],
   "source": [
    "## Calculate the gradient\n",
    "h_x = h.diff(x)\n",
    "h_y = h.diff(y)\n",
    "h_z = h.diff(z)\n",
    "gradient = [h_x, h_y, h_z]\n",
    "gradient"
   ]
  },
  {
   "cell_type": "code",
   "execution_count": 328,
   "metadata": {},
   "outputs": [
    {
     "data": {
      "image/png": "[encoded data removed]",
      "text/latex": [
       "$\\displaystyle \\left[ \\left( 0, \\  0, \\  0\\right)\\right]$"
      ],
      "text/plain": [
       "[(0, 0, 0)]"
      ]
     },
     "execution_count": 328,
     "metadata": {},
     "output_type": "execute_result"
    }
   ],
   "source": [
    "## Find critical points\n",
    "critical = solve(gradient,[x,y,z])\n",
    "critical"
   ]
  },
  {
   "cell_type": "code",
   "execution_count": 329,
   "metadata": {},
   "outputs": [
    {
     "data": {
      "text/plain": [
       "matrix([[2*y**2, 4*x*y, 1],\n",
       "        [4*x*y, 2*x**2, -1],\n",
       "        [1, -1, 0]], dtype=object)"
      ]
     },
     "execution_count": 329,
     "metadata": {},
     "output_type": "execute_result"
    }
   ],
   "source": [
    "## The Hessian\n",
    "H = [h.diff(term).diff(term2) for term in [x,y,z] for term2 in [x,y,z]]\n",
    "H = np.matrix(H).reshape(3,3)\n",
    "H"
   ]
  },
  {
   "cell_type": "code",
   "execution_count": 330,
   "metadata": {},
   "outputs": [
    {
     "data": {
      "image/png": "[encoded data removed]",
      "text/latex": [
       "$\\displaystyle 0.0$"
      ],
      "text/plain": [
       "0.0"
      ]
     },
     "execution_count": 330,
     "metadata": {},
     "output_type": "execute_result"
    }
   ],
   "source": [
    "## Find out the determinant of the Hessian at the critical point\n",
    "x = 0\n",
    "y = 0\n",
    "z = 0\n",
    "\n",
    "H2 = np.matrix([[2*y**2, 4*x*y, 1],\n",
    "        [4*x*y, 2*x**2, -1],\n",
    "        [1, -1, 0]])\n",
    "la.det(H2)"
   ]
  },
  {
   "cell_type": "markdown",
   "metadata": {},
   "source": [
    "Since the determinant of the Hessian is equal to 0, the stationary point is indeterminant by the second derivative test. "
   ]
  },
  {
   "cell_type": "markdown",
   "metadata": {},
   "source": [
    "# Part 4: Gradient Descent\n",
    "\n",
    "(5 points)"
   ]
  },
  {
   "cell_type": "markdown",
   "metadata": {},
   "source": [
    "**Can we predict whether someone will vote or not?**\n",
    "\n",
    "The `turnout.csv` data is drawn from the 2012 National Election Survey. The data records the age, eduction level (of total years in school), income, race (caucasian or not), and whether or not the respondent voted in the 2012 Presidential election. The sample composes 2000 individual respondents in total. I have broken the data up into a training (1600 entries, 80%) and test dataset (400 entries, 20%) (see below). \n",
    "\n",
    "Use what we know of gradient descent to build a model that tries to predict whether a respondent will vote in a presidential election. To model a probability, we'll use the logistic link function (as we did in lecture):\n",
    "\n",
    "$$ \\nu(z) = \\frac{1}{1+e^{-z}}  $$\n",
    "\n",
    "Likewise, we'll define our cost function (i.e. our metric for how right our guesses are with each adjustment of the weights) as we did in class, using cross-entropy:\n",
    "\n",
    "$$ C = - \\frac{1}{N} \\sum_{i=1}^N  y_i log(\\nu(X_i\\beta)) + (1-y_i) log((1-\\nu(X_i\\beta)))$$\n",
    "\n",
    "Feel free to manipulate the data however you see fit; however, note that I've standardized the larger values (stark differences in the ranges can result in convergence problems).\n",
    "\n",
    "Run your algorithm. Report the weights ('coefficients') for each indicator used in your model. Once you've tuned your weights using the training data (i.e. once you've minimized the cost function), use those weights to try and predict if a respondent will vote in the test data. \n",
    "\n",
    "Report how accurate you were on predicting someone's propensity to vote in the test data. Answer the following:\n",
    "\n",
    "- Did you do better or worse than chance (50%)? \n",
    "- Did you do better or worse than just guessing all ones or all zeros?\n",
    "\n",
    "When completing this answer, be sure to: \n",
    "\n",
    "- comment on all your code\n",
    "- provide a narrative for what you're doing\n",
    "- summarize your results and findings"
   ]
  },
  {
   "cell_type": "code",
   "execution_count": 331,
   "metadata": {},
   "outputs": [
    {
     "data": {
      "text/html": [
       "<div>\n",
       "<style scoped>\n",
       "    .dataframe tbody tr th:only-of-type {\n",
       "        vertical-align: middle;\n",
       "    }\n",
       "\n",
       "    .dataframe tbody tr th {\n",
       "        vertical-align: top;\n",
       "    }\n",
       "\n",
       "    .dataframe thead th {\n",
       "        text-align: right;\n",
       "    }\n",
       "</style>\n",
       "<table border=\"1\" class=\"dataframe\">\n",
       "  <thead>\n",
       "    <tr style=\"text-align: right;\">\n",
       "      <th></th>\n",
       "      <th>id</th>\n",
       "      <th>age</th>\n",
       "      <th>educate</th>\n",
       "      <th>income</th>\n",
       "      <th>vote</th>\n",
       "      <th>white</th>\n",
       "    </tr>\n",
       "  </thead>\n",
       "  <tbody>\n",
       "    <tr>\n",
       "      <th>1352</th>\n",
       "      <td>1353</td>\n",
       "      <td>0.040199</td>\n",
       "      <td>-0.910295</td>\n",
       "      <td>-0.723155</td>\n",
       "      <td>0</td>\n",
       "      <td>0</td>\n",
       "    </tr>\n",
       "    <tr>\n",
       "      <th>121</th>\n",
       "      <td>122</td>\n",
       "      <td>-1.158908</td>\n",
       "      <td>0.870668</td>\n",
       "      <td>-0.009214</td>\n",
       "      <td>1</td>\n",
       "      <td>1</td>\n",
       "    </tr>\n",
       "    <tr>\n",
       "      <th>1529</th>\n",
       "      <td>1530</td>\n",
       "      <td>1.353506</td>\n",
       "      <td>1.464322</td>\n",
       "      <td>3.332264</td>\n",
       "      <td>1</td>\n",
       "      <td>1</td>\n",
       "    </tr>\n",
       "    <tr>\n",
       "      <th>161</th>\n",
       "      <td>162</td>\n",
       "      <td>0.439901</td>\n",
       "      <td>-0.613467</td>\n",
       "      <td>-0.108501</td>\n",
       "      <td>1</td>\n",
       "      <td>1</td>\n",
       "    </tr>\n",
       "    <tr>\n",
       "      <th>1806</th>\n",
       "      <td>1807</td>\n",
       "      <td>-0.645005</td>\n",
       "      <td>1.167495</td>\n",
       "      <td>0.560714</td>\n",
       "      <td>1</td>\n",
       "      <td>0</td>\n",
       "    </tr>\n",
       "    <tr>\n",
       "      <th>122</th>\n",
       "      <td>123</td>\n",
       "      <td>-0.587905</td>\n",
       "      <td>-0.019813</td>\n",
       "      <td>-0.471363</td>\n",
       "      <td>1</td>\n",
       "      <td>1</td>\n",
       "    </tr>\n",
       "    <tr>\n",
       "      <th>1818</th>\n",
       "      <td>1819</td>\n",
       "      <td>1.696108</td>\n",
       "      <td>-0.019813</td>\n",
       "      <td>-0.254424</td>\n",
       "      <td>1</td>\n",
       "      <td>1</td>\n",
       "    </tr>\n",
       "    <tr>\n",
       "      <th>1015</th>\n",
       "      <td>1016</td>\n",
       "      <td>-0.302403</td>\n",
       "      <td>0.573841</td>\n",
       "      <td>-0.418783</td>\n",
       "      <td>1</td>\n",
       "      <td>0</td>\n",
       "    </tr>\n",
       "    <tr>\n",
       "      <th>536</th>\n",
       "      <td>537</td>\n",
       "      <td>-0.530805</td>\n",
       "      <td>-0.613467</td>\n",
       "      <td>-0.568916</td>\n",
       "      <td>1</td>\n",
       "      <td>1</td>\n",
       "    </tr>\n",
       "    <tr>\n",
       "      <th>1865</th>\n",
       "      <td>1866</td>\n",
       "      <td>-0.987607</td>\n",
       "      <td>1.464322</td>\n",
       "      <td>0.716333</td>\n",
       "      <td>1</td>\n",
       "      <td>1</td>\n",
       "    </tr>\n",
       "    <tr>\n",
       "      <th>1813</th>\n",
       "      <td>1814</td>\n",
       "      <td>0.382801</td>\n",
       "      <td>0.277014</td>\n",
       "      <td>-0.482863</td>\n",
       "      <td>1</td>\n",
       "      <td>1</td>\n",
       "    </tr>\n",
       "    <tr>\n",
       "      <th>752</th>\n",
       "      <td>753</td>\n",
       "      <td>-0.473704</td>\n",
       "      <td>1.464322</td>\n",
       "      <td>-0.723155</td>\n",
       "      <td>1</td>\n",
       "      <td>1</td>\n",
       "    </tr>\n",
       "    <tr>\n",
       "      <th>1570</th>\n",
       "      <td>1571</td>\n",
       "      <td>-0.416604</td>\n",
       "      <td>-0.019813</td>\n",
       "      <td>-0.165717</td>\n",
       "      <td>1</td>\n",
       "      <td>1</td>\n",
       "    </tr>\n",
       "    <tr>\n",
       "      <th>1967</th>\n",
       "      <td>1968</td>\n",
       "      <td>-0.987607</td>\n",
       "      <td>-0.316640</td>\n",
       "      <td>-0.621249</td>\n",
       "      <td>0</td>\n",
       "      <td>1</td>\n",
       "    </tr>\n",
       "    <tr>\n",
       "      <th>831</th>\n",
       "      <td>832</td>\n",
       "      <td>0.896704</td>\n",
       "      <td>-2.691257</td>\n",
       "      <td>-0.954424</td>\n",
       "      <td>0</td>\n",
       "      <td>0</td>\n",
       "    </tr>\n",
       "    <tr>\n",
       "      <th>88</th>\n",
       "      <td>89</td>\n",
       "      <td>1.753208</td>\n",
       "      <td>-1.800776</td>\n",
       "      <td>-1.169558</td>\n",
       "      <td>0</td>\n",
       "      <td>1</td>\n",
       "    </tr>\n",
       "    <tr>\n",
       "      <th>1227</th>\n",
       "      <td>1228</td>\n",
       "      <td>-1.101808</td>\n",
       "      <td>-0.019813</td>\n",
       "      <td>0.266851</td>\n",
       "      <td>1</td>\n",
       "      <td>1</td>\n",
       "    </tr>\n",
       "    <tr>\n",
       "      <th>861</th>\n",
       "      <td>862</td>\n",
       "      <td>0.497001</td>\n",
       "      <td>-2.691257</td>\n",
       "      <td>-0.343096</td>\n",
       "      <td>1</td>\n",
       "      <td>1</td>\n",
       "    </tr>\n",
       "    <tr>\n",
       "      <th>1868</th>\n",
       "      <td>1869</td>\n",
       "      <td>-0.016902</td>\n",
       "      <td>2.057977</td>\n",
       "      <td>0.628262</td>\n",
       "      <td>1</td>\n",
       "      <td>1</td>\n",
       "    </tr>\n",
       "    <tr>\n",
       "      <th>1604</th>\n",
       "      <td>1605</td>\n",
       "      <td>-0.987607</td>\n",
       "      <td>-0.019813</td>\n",
       "      <td>1.722439</td>\n",
       "      <td>0</td>\n",
       "      <td>1</td>\n",
       "    </tr>\n",
       "  </tbody>\n",
       "</table>\n",
       "</div>"
      ],
      "text/plain": [
       "        id       age   educate    income  vote  white\n",
       "1352  1353  0.040199 -0.910295 -0.723155     0      0\n",
       "121    122 -1.158908  0.870668 -0.009214     1      1\n",
       "1529  1530  1.353506  1.464322  3.332264     1      1\n",
       "161    162  0.439901 -0.613467 -0.108501     1      1\n",
       "1806  1807 -0.645005  1.167495  0.560714     1      0\n",
       "122    123 -0.587905 -0.019813 -0.471363     1      1\n",
       "1818  1819  1.696108 -0.019813 -0.254424     1      1\n",
       "1015  1016 -0.302403  0.573841 -0.418783     1      0\n",
       "536    537 -0.530805 -0.613467 -0.568916     1      1\n",
       "1865  1866 -0.987607  1.464322  0.716333     1      1\n",
       "1813  1814  0.382801  0.277014 -0.482863     1      1\n",
       "752    753 -0.473704  1.464322 -0.723155     1      1\n",
       "1570  1571 -0.416604 -0.019813 -0.165717     1      1\n",
       "1967  1968 -0.987607 -0.316640 -0.621249     0      1\n",
       "831    832  0.896704 -2.691257 -0.954424     0      0\n",
       "88      89  1.753208 -1.800776 -1.169558     0      1\n",
       "1227  1228 -1.101808 -0.019813  0.266851     1      1\n",
       "861    862  0.497001 -2.691257 -0.343096     1      1\n",
       "1868  1869 -0.016902  2.057977  0.628262     1      1\n",
       "1604  1605 -0.987607 -0.019813  1.722439     0      1"
      ]
     },
     "execution_count": 331,
     "metadata": {},
     "output_type": "execute_result"
    }
   ],
   "source": [
    "import pandas as pd\n",
    "import numpy as np\n",
    "import sympy as sp\n",
    "dat = pd.read_csv('turnout.csv')\n",
    "\n",
    "# Standardize the (more) continous metrics\n",
    "def standardize(x):\n",
    "    '''Center the mean and set the variance to 1'''\n",
    "    return (x-np.mean(x))/np.std(x)\n",
    "dat['age'] = standardize(dat['age'])\n",
    "dat['income'] = standardize(dat['income'])\n",
    "dat['educate'] = standardize(dat['educate'])\n",
    "\n",
    "# Break data up into training and test data\n",
    "train=dat.sample(frac=0.8,random_state=323)\n",
    "test=dat.drop(train.index)\n",
    "\n",
    "# Preview the training data \n",
    "train.head(20)"
   ]
  },
  {
   "cell_type": "code",
   "execution_count": 332,
   "metadata": {},
   "outputs": [
    {
     "data": {
      "text/plain": [
       "array([[ 1.        ,  0.04019863, -0.91029464, -0.72315482,  0.        ],\n",
       "       [ 1.        , -1.15890823,  0.87066821, -0.00921395,  1.        ],\n",
       "       [ 1.        ,  1.35350614,  1.4643225 ,  3.33226427,  1.        ],\n",
       "       ...,\n",
       "       [ 1.        ,  0.55410157, -0.31664035, -0.8657873 ,  1.        ],\n",
       "       [ 1.        ,  0.95380386, -0.01981321,  0.99519332,  1.        ],\n",
       "       [ 1.        , -0.0169017 , -0.01981321,  0.17294235,  1.        ]])"
      ]
     },
     "execution_count": 332,
     "metadata": {},
     "output_type": "execute_result"
    }
   ],
   "source": [
    "## vote\n",
    "y = train.vote\n",
    "\n",
    "## Matrix for constant and independent variables\n",
    "X = np.column_stack([np.ones(train.shape[0]),train.age, train.educate, train.income, train.white])\n",
    "X"
   ]
  },
  {
   "cell_type": "code",
   "execution_count": 333,
   "metadata": {},
   "outputs": [
    {
     "data": {
      "image/png": "[encoded data removed]",
      "text/latex": [
       "$\\displaystyle - y \\log{\\left(\\frac{1}{e^{- b_{0} - b_{1} x_{1} - b_{2} x_{2} - b_{3} x_{3} - b_{4} x_{4}} + 1} \\right)} - \\left(1 - y\\right) \\log{\\left(1 - \\frac{1}{e^{- b_{0} - b_{1} x_{1} - b_{2} x_{2} - b_{3} x_{3} - b_{4} x_{4}} + 1} \\right)}$"
      ],
      "text/plain": [
       "       ⎛                   1                    ⎞              ⎛              \n",
       "- y⋅log⎜────────────────────────────────────────⎟ - (1 - y)⋅log⎜1 - ──────────\n",
       "       ⎜ -b₀ - b₁⋅x₁ - b₂⋅x₂ - b₃⋅x₃ - b₄⋅x₄    ⎟              ⎜     -b₀ - b₁⋅\n",
       "       ⎝ℯ                                    + 1⎠              ⎝    ℯ         \n",
       "\n",
       "         1                    ⎞\n",
       "──────────────────────────────⎟\n",
       "x₁ - b₂⋅x₂ - b₃⋅x₃ - b₄⋅x₄    ⎟\n",
       "                           + 1⎠"
      ]
     },
     "execution_count": 333,
     "metadata": {},
     "output_type": "execute_result"
    }
   ],
   "source": [
    "## Cost function\n",
    "b0,b1,b2,b3,b4,x1,x2,x3,x4 ,y_sym = sp.symbols('b0 b1 b2 b3 b4 x1 x2 x3 x4 y')\n",
    "z_sym = b0 + b1*x1 + b2*x2 + b3*x3 + b4*x4\n",
    "s_sym = 1/(1+sp.exp(-z_sym))\n",
    "c = -y_sym*sp.log(s_sym)-(1-y_sym)*sp.log(1-s_sym)\n",
    "c"
   ]
  },
  {
   "cell_type": "code",
   "execution_count": 334,
   "metadata": {},
   "outputs": [],
   "source": [
    "# Defining the logistic link function\n",
    "def s(z):\n",
    "    '''sigmoid function'''\n",
    "    return 1/(1+np.exp(-z))\n",
    "\n",
    "def ds(z):\n",
    "    '''first-order derivative of the function'''\n",
    "    return np.exp(-x)/(1 + np.exp(-x))**2\n",
    "\n",
    "## Define cost function\n",
    "def cost(y,X,B):\n",
    "    '''\n",
    "    Cross-Entropy Cost\n",
    "    '''\n",
    "    z = X.dot(B)\n",
    "    n = len(y)\n",
    "    return -sum(y*np.log(s(z))+(1-y)*np.log(1-s(z)))/n\n",
    "\n",
    "## Calculate the gradient\n",
    "\n",
    "def calc_gradient(y,X,B):\n",
    "    '''\n",
    "    Calculate and average the gradient for every entry in the data.\n",
    "    '''\n",
    "    z = X.dot(B)\n",
    "    n = len(y)\n",
    "    grad = [sum(s(z)-y)/n ]\n",
    "    for i in range(1,X.shape[1]):\n",
    "        grad.append(sum(X[:,i]*(s(z)-y))/n)\n",
    "    return np.array(grad)"
   ]
  },
  {
   "cell_type": "code",
   "execution_count": 335,
   "metadata": {},
   "outputs": [
    {
     "name": "stdout",
     "output_type": "stream",
     "text": [
      "[1.01152834 0.48637894 0.62033015 0.49024787 0.2772886 ]\n"
     ]
    }
   ],
   "source": [
    "np.random.seed(123)\n",
    "B = np.random.uniform(-1,1,5) # starting values\n",
    "learning = 1\n",
    "n_iter = 1000\n",
    "stats = []\n",
    "for i in range(n_iter):\n",
    "    grad = calc_gradient(y,X,B)\n",
    "    B = B - learning*grad\n",
    "    \n",
    "    # Store output values...\n",
    "    stats.append(np.hstack([cost(y,X,B),B]))\n",
    "    \n",
    "stats = np.array(stats)\n",
    "\n",
    "# Let's print out the resulting coefficients (\"weights\")\n",
    "print(B)"
   ]
  },
  {
   "cell_type": "code",
   "execution_count": 336,
   "metadata": {},
   "outputs": [
    {
     "name": "stdout",
     "output_type": "stream",
     "text": [
      "Optimization terminated successfully.\n",
      "         Current function value: 0.507889\n",
      "         Iterations 6\n"
     ]
    },
    {
     "data": {
      "text/html": [
       "<table class=\"simpletable\">\n",
       "<caption>Logit Regression Results</caption>\n",
       "<tr>\n",
       "  <th>Dep. Variable:</th>         <td>vote</td>       <th>  No. Observations:  </th>  <td>  1600</td>  \n",
       "</tr>\n",
       "<tr>\n",
       "  <th>Model:</th>                 <td>Logit</td>      <th>  Df Residuals:      </th>  <td>  1595</td>  \n",
       "</tr>\n",
       "<tr>\n",
       "  <th>Method:</th>                 <td>MLE</td>       <th>  Df Model:          </th>  <td>     4</td>  \n",
       "</tr>\n",
       "<tr>\n",
       "  <th>Date:</th>            <td>Wed, 27 Nov 2019</td> <th>  Pseudo R-squ.:     </th>  <td>0.1107</td>  \n",
       "</tr>\n",
       "<tr>\n",
       "  <th>Time:</th>                <td>11:01:22</td>     <th>  Log-Likelihood:    </th> <td> -812.62</td> \n",
       "</tr>\n",
       "<tr>\n",
       "  <th>converged:</th>             <td>True</td>       <th>  LL-Null:           </th> <td> -913.74</td> \n",
       "</tr>\n",
       "<tr>\n",
       "  <th>Covariance Type:</th>     <td>nonrobust</td>    <th>  LLR p-value:       </th> <td>1.244e-42</td>\n",
       "</tr>\n",
       "</table>\n",
       "<table class=\"simpletable\">\n",
       "<tr>\n",
       "    <td></td>       <th>coef</th>     <th>std err</th>      <th>z</th>      <th>P>|z|</th>  <th>[0.025</th>    <th>0.975]</th>  \n",
       "</tr>\n",
       "<tr>\n",
       "  <th>const</th> <td>    1.0115</td> <td>    0.154</td> <td>    6.559</td> <td> 0.000</td> <td>    0.709</td> <td>    1.314</td>\n",
       "</tr>\n",
       "<tr>\n",
       "  <th>x1</th>    <td>    0.4864</td> <td>    0.067</td> <td>    7.247</td> <td> 0.000</td> <td>    0.355</td> <td>    0.618</td>\n",
       "</tr>\n",
       "<tr>\n",
       "  <th>x2</th>    <td>    0.6203</td> <td>    0.077</td> <td>    8.085</td> <td> 0.000</td> <td>    0.470</td> <td>    0.771</td>\n",
       "</tr>\n",
       "<tr>\n",
       "  <th>x3</th>    <td>    0.4902</td> <td>    0.085</td> <td>    5.749</td> <td> 0.000</td> <td>    0.323</td> <td>    0.657</td>\n",
       "</tr>\n",
       "<tr>\n",
       "  <th>x4</th>    <td>    0.2773</td> <td>    0.162</td> <td>    1.708</td> <td> 0.088</td> <td>   -0.041</td> <td>    0.595</td>\n",
       "</tr>\n",
       "</table>"
      ],
      "text/plain": [
       "<class 'statsmodels.iolib.summary.Summary'>\n",
       "\"\"\"\n",
       "                           Logit Regression Results                           \n",
       "==============================================================================\n",
       "Dep. Variable:                   vote   No. Observations:                 1600\n",
       "Model:                          Logit   Df Residuals:                     1595\n",
       "Method:                           MLE   Df Model:                            4\n",
       "Date:                Wed, 27 Nov 2019   Pseudo R-squ.:                  0.1107\n",
       "Time:                        11:01:22   Log-Likelihood:                -812.62\n",
       "converged:                       True   LL-Null:                       -913.74\n",
       "Covariance Type:            nonrobust   LLR p-value:                 1.244e-42\n",
       "==============================================================================\n",
       "                 coef    std err          z      P>|z|      [0.025      0.975]\n",
       "------------------------------------------------------------------------------\n",
       "const          1.0115      0.154      6.559      0.000       0.709       1.314\n",
       "x1             0.4864      0.067      7.247      0.000       0.355       0.618\n",
       "x2             0.6203      0.077      8.085      0.000       0.470       0.771\n",
       "x3             0.4902      0.085      5.749      0.000       0.323       0.657\n",
       "x4             0.2773      0.162      1.708      0.088      -0.041       0.595\n",
       "==============================================================================\n",
       "\"\"\""
      ]
     },
     "execution_count": 336,
     "metadata": {},
     "output_type": "execute_result"
    }
   ],
   "source": [
    "## Let's see how well we did\n",
    "\n",
    "import statsmodels.discrete.discrete_model as sm\n",
    "sm.Logit(y,X).fit().summary()"
   ]
  },
  {
   "cell_type": "code",
   "execution_count": 337,
   "metadata": {},
   "outputs": [
    {
     "data": {
      "text/html": [
       "<div>\n",
       "<style scoped>\n",
       "    .dataframe tbody tr th:only-of-type {\n",
       "        vertical-align: middle;\n",
       "    }\n",
       "\n",
       "    .dataframe tbody tr th {\n",
       "        vertical-align: top;\n",
       "    }\n",
       "\n",
       "    .dataframe thead th {\n",
       "        text-align: right;\n",
       "    }\n",
       "</style>\n",
       "<table border=\"1\" class=\"dataframe\">\n",
       "  <thead>\n",
       "    <tr style=\"text-align: right;\">\n",
       "      <th></th>\n",
       "      <th>id</th>\n",
       "      <th>age</th>\n",
       "      <th>educate</th>\n",
       "      <th>income</th>\n",
       "      <th>vote</th>\n",
       "      <th>white</th>\n",
       "    </tr>\n",
       "  </thead>\n",
       "  <tbody>\n",
       "    <tr>\n",
       "      <th>0</th>\n",
       "      <td>1</td>\n",
       "      <td>0.839603</td>\n",
       "      <td>0.573841</td>\n",
       "      <td>-0.191370</td>\n",
       "      <td>1</td>\n",
       "      <td>1</td>\n",
       "    </tr>\n",
       "    <tr>\n",
       "      <th>2</th>\n",
       "      <td>3</td>\n",
       "      <td>-1.216009</td>\n",
       "      <td>-0.019813</td>\n",
       "      <td>-1.152185</td>\n",
       "      <td>0</td>\n",
       "      <td>1</td>\n",
       "    </tr>\n",
       "    <tr>\n",
       "      <th>3</th>\n",
       "      <td>4</td>\n",
       "      <td>-0.416604</td>\n",
       "      <td>-1.207122</td>\n",
       "      <td>-0.165717</td>\n",
       "      <td>1</td>\n",
       "      <td>1</td>\n",
       "    </tr>\n",
       "    <tr>\n",
       "      <th>7</th>\n",
       "      <td>8</td>\n",
       "      <td>0.611202</td>\n",
       "      <td>-0.613467</td>\n",
       "      <td>1.922711</td>\n",
       "      <td>1</td>\n",
       "      <td>1</td>\n",
       "    </tr>\n",
       "    <tr>\n",
       "      <th>11</th>\n",
       "      <td>12</td>\n",
       "      <td>0.382801</td>\n",
       "      <td>-0.019813</td>\n",
       "      <td>1.692398</td>\n",
       "      <td>1</td>\n",
       "      <td>1</td>\n",
       "    </tr>\n",
       "  </tbody>\n",
       "</table>\n",
       "</div>"
      ],
      "text/plain": [
       "    id       age   educate    income  vote  white\n",
       "0    1  0.839603  0.573841 -0.191370     1      1\n",
       "2    3 -1.216009 -0.019813 -1.152185     0      1\n",
       "3    4 -0.416604 -1.207122 -0.165717     1      1\n",
       "7    8  0.611202 -0.613467  1.922711     1      1\n",
       "11  12  0.382801 -0.019813  1.692398     1      1"
      ]
     },
     "execution_count": 337,
     "metadata": {},
     "output_type": "execute_result"
    }
   ],
   "source": [
    "## View test dataset\n",
    "test.head()"
   ]
  },
  {
   "cell_type": "code",
   "execution_count": 338,
   "metadata": {},
   "outputs": [
    {
     "data": {
      "text/plain": [
       "array([[ 1.        ,  0.8396032 ,  0.57384107, -0.19137025,  1.        ],\n",
       "       [ 1.        , -1.21600855, -0.01981321, -1.15218456,  1.        ],\n",
       "       [ 1.        , -0.41660398, -1.20712178, -0.16571692,  1.        ],\n",
       "       ...,\n",
       "       [ 1.        , -1.04470757,  0.57384107,  0.77974078,  1.        ],\n",
       "       [ 1.        , -0.75920594, -0.01981321, -0.48371199,  1.        ],\n",
       "       [ 1.        , -1.1018079 ,  0.27701393,  0.35693861,  1.        ]])"
      ]
     },
     "execution_count": 338,
     "metadata": {},
     "output_type": "execute_result"
    }
   ],
   "source": [
    "## Outcome y\n",
    "y_test = test.vote\n",
    "\n",
    "## Matrix for constant and independent variables\n",
    "X_t = np.column_stack([np.ones(test.shape[0]),test.age, test.educate, test.income, test.white])\n",
    "X_t"
   ]
  },
  {
   "cell_type": "code",
   "execution_count": 339,
   "metadata": {},
   "outputs": [
    {
     "data": {
      "text/plain": [
       "array([0.87646089, 0.53002115, 0.56368549, 0.89549535, 0.90824621])"
      ]
     },
     "execution_count": 339,
     "metadata": {},
     "output_type": "execute_result"
    }
   ],
   "source": [
    "## We use the coefficients generated from our train model to predict the voting likelihood of people in the test dataset\n",
    "\n",
    "prob = s(X_t.dot(B))\n",
    "prob[:5]"
   ]
  },
  {
   "cell_type": "markdown",
   "metadata": {},
   "source": [
    "Predict whether a person will vote by comparing its predicted likelihood with 0.5 threshold."
   ]
  },
  {
   "cell_type": "code",
   "execution_count": 340,
   "metadata": {},
   "outputs": [
    {
     "data": {
      "text/plain": [
       "array([1, 1, 1, 1, 1, 1, 1, 1, 1, 1])"
      ]
     },
     "execution_count": 340,
     "metadata": {},
     "output_type": "execute_result"
    }
   ],
   "source": [
    "prediction = prob >= .5\n",
    "prediction = prediction.astype(\"int\")\n",
    "prediction[:10]"
   ]
  },
  {
   "cell_type": "code",
   "execution_count": 341,
   "metadata": {},
   "outputs": [
    {
     "data": {
      "image/png": "[encoded data removed]",
      "text/latex": [
       "$\\displaystyle 0.755$"
      ],
      "text/plain": [
       "0.755"
      ]
     },
     "execution_count": 341,
     "metadata": {},
     "output_type": "execute_result"
    }
   ],
   "source": [
    "## Check for accuracy\n",
    "sum(prediction == y_test)/len(y_test)"
   ]
  },
  {
   "cell_type": "markdown",
   "metadata": {},
   "source": [
    "Let's compare our results with 1) 50/50% chance; 2) guessing all ones or all zeros."
   ]
  },
  {
   "cell_type": "code",
   "execution_count": 342,
   "metadata": {},
   "outputs": [],
   "source": [
    "## (1)\n",
    "import random\n",
    "ls = []\n",
    "for i in range(len(prob)):\n",
    "    if random.random() < 0.5:\n",
    "        ls.append(0)\n",
    "    else:\n",
    "        ls.append(1)\n",
    "        \n",
    "ls = np.array(ls)"
   ]
  },
  {
   "cell_type": "code",
   "execution_count": 343,
   "metadata": {},
   "outputs": [
    {
     "data": {
      "image/png": "[encoded data removed]",
      "text/latex": [
       "$\\displaystyle 0.515$"
      ],
      "text/plain": [
       "0.515"
      ]
     },
     "execution_count": 343,
     "metadata": {},
     "output_type": "execute_result"
    }
   ],
   "source": [
    "## Accuracy for 50/50 prediction\n",
    "sum(ls == y_test)/len(y_test)"
   ]
  },
  {
   "cell_type": "markdown",
   "metadata": {},
   "source": [
    "Therefore, our model did better than fair chance prediction."
   ]
  },
  {
   "cell_type": "code",
   "execution_count": 344,
   "metadata": {},
   "outputs": [
    {
     "data": {
      "image/png": "[encoded data removed]",
      "text/latex": [
       "$\\displaystyle 0.7625$"
      ],
      "text/plain": [
       "0.7625"
      ]
     },
     "execution_count": 344,
     "metadata": {},
     "output_type": "execute_result"
    }
   ],
   "source": [
    "## (2) let's now compare our results with predicting all ones or all zeros\n",
    "sum(np.ones(len(prob)) == y_test)/len(y_test)"
   ]
  },
  {
   "cell_type": "code",
   "execution_count": 345,
   "metadata": {},
   "outputs": [
    {
     "data": {
      "image/png": "[encoded data removed]",
      "text/latex": [
       "$\\displaystyle 0.2375$"
      ],
      "text/plain": [
       "0.2375"
      ]
     },
     "execution_count": 345,
     "metadata": {},
     "output_type": "execute_result"
    }
   ],
   "source": [
    "sum(np.zeros(len(prob)) == y_test)/len(y_test)"
   ]
  },
  {
   "cell_type": "markdown",
   "metadata": {},
   "source": [
    "So our model achieved very similar accuracy compared with the model predicting all ones; but our model did much better than predicting all zeros."
   ]
  },
  {
   "cell_type": "markdown",
   "metadata": {},
   "source": [
    "### How to improve?\n",
    "I noticed in the regression model we ran using `statsmodel` the coefficient for `x4` is not statistically significant (p-value greater than 0.05 level of significance). Therefore, I consider dropping `x4` (coef for variable `white`) and modeling the prediction again."
   ]
  },
  {
   "cell_type": "code",
   "execution_count": 346,
   "metadata": {},
   "outputs": [
    {
     "data": {
      "text/plain": [
       "array([[ 1.        ,  0.04019863, -0.91029464, -0.72315482],\n",
       "       [ 1.        , -1.15890823,  0.87066821, -0.00921395],\n",
       "       [ 1.        ,  1.35350614,  1.4643225 ,  3.33226427],\n",
       "       ...,\n",
       "       [ 1.        ,  0.55410157, -0.31664035, -0.8657873 ],\n",
       "       [ 1.        ,  0.95380386, -0.01981321,  0.99519332],\n",
       "       [ 1.        , -0.0169017 , -0.01981321,  0.17294235]])"
      ]
     },
     "execution_count": 346,
     "metadata": {},
     "output_type": "execute_result"
    }
   ],
   "source": [
    "## vote\n",
    "y = train.vote\n",
    "\n",
    "## Matrix for constant and independent variables\n",
    "X = np.column_stack([np.ones(train.shape[0]),train.age, train.educate, train.income])\n",
    "X"
   ]
  },
  {
   "cell_type": "code",
   "execution_count": 347,
   "metadata": {},
   "outputs": [
    {
     "data": {
      "image/png": "[encoded data removed]",
      "text/latex": [
       "$\\displaystyle - y \\log{\\left(\\frac{1}{e^{- b_{0} - b_{1} x_{1} - b_{2} x_{2} - b_{3} x_{3}} + 1} \\right)} - \\left(1 - y\\right) \\log{\\left(1 - \\frac{1}{e^{- b_{0} - b_{1} x_{1} - b_{2} x_{2} - b_{3} x_{3}} + 1} \\right)}$"
      ],
      "text/plain": [
       "       ⎛               1                ⎞              ⎛                   1  \n",
       "- y⋅log⎜────────────────────────────────⎟ - (1 - y)⋅log⎜1 - ──────────────────\n",
       "       ⎜ -b₀ - b₁⋅x₁ - b₂⋅x₂ - b₃⋅x₃    ⎟              ⎜     -b₀ - b₁⋅x₁ - b₂⋅\n",
       "       ⎝ℯ                            + 1⎠              ⎝    ℯ                 \n",
       "\n",
       "              ⎞\n",
       "──────────────⎟\n",
       "x₂ - b₃⋅x₃    ⎟\n",
       "           + 1⎠"
      ]
     },
     "execution_count": 347,
     "metadata": {},
     "output_type": "execute_result"
    }
   ],
   "source": [
    "## Cost function\n",
    "b0,b1,b2,b3,x1,x2,x3 ,y_sym = sp.symbols('b0 b1 b2 b3 x1 x2 x3 y')\n",
    "z_sym = b0 + b1*x1 + b2*x2 + b3*x3\n",
    "s_sym = 1/(1+sp.exp(-z_sym))\n",
    "c = -y_sym*sp.log(s_sym)-(1-y_sym)*sp.log(1-s_sym)\n",
    "c"
   ]
  },
  {
   "cell_type": "code",
   "execution_count": 348,
   "metadata": {},
   "outputs": [
    {
     "name": "stdout",
     "output_type": "stream",
     "text": [
      "[1.25056959 0.49982328 0.6355503  0.50799138]\n"
     ]
    }
   ],
   "source": [
    "np.random.seed(123)\n",
    "B = np.random.uniform(-1,1,4) # starting values\n",
    "learning = 1\n",
    "n_iter = 1000\n",
    "stats = []\n",
    "for i in range(n_iter):\n",
    "    grad = calc_gradient(y,X,B)\n",
    "    B = B - learning*grad\n",
    "    \n",
    "    # Store output values...\n",
    "    stats.append(np.hstack([cost(y,X,B),B]))\n",
    "    \n",
    "stats = np.array(stats)\n",
    "\n",
    "# Let's print out the resulting coefficients (\"weights\")\n",
    "print(B)"
   ]
  },
  {
   "cell_type": "code",
   "execution_count": 349,
   "metadata": {},
   "outputs": [
    {
     "data": {
      "image/png": "[encoded data removed]",
      "text/latex": [
       "$\\displaystyle 0.7525$"
      ],
      "text/plain": [
       "0.7525"
      ]
     },
     "execution_count": 349,
     "metadata": {},
     "output_type": "execute_result"
    }
   ],
   "source": [
    "## We use the coefficients generated from our new train model to predict the voting likelihood of people in the test dataset\n",
    "X_t = np.column_stack([np.ones(test.shape[0]),test.age, test.educate, test.income])\n",
    "prob = s(X_t.dot(B))\n",
    "prediction = prob >= .5\n",
    "prediction = prediction.astype(\"int\")\n",
    "sum(prediction == y_test)/len(y_test)"
   ]
  },
  {
   "cell_type": "code",
   "execution_count": 350,
   "metadata": {},
   "outputs": [
    {
     "name": "stdout",
     "output_type": "stream",
     "text": [
      "Optimization terminated successfully.\n",
      "         Current function value: 0.508787\n",
      "         Iterations 6\n"
     ]
    },
    {
     "data": {
      "text/html": [
       "<table class=\"simpletable\">\n",
       "<caption>Logit Regression Results</caption>\n",
       "<tr>\n",
       "  <th>Dep. Variable:</th>         <td>vote</td>       <th>  No. Observations:  </th>  <td>  1600</td>  \n",
       "</tr>\n",
       "<tr>\n",
       "  <th>Model:</th>                 <td>Logit</td>      <th>  Df Residuals:      </th>  <td>  1596</td>  \n",
       "</tr>\n",
       "<tr>\n",
       "  <th>Method:</th>                 <td>MLE</td>       <th>  Df Model:          </th>  <td>     3</td>  \n",
       "</tr>\n",
       "<tr>\n",
       "  <th>Date:</th>            <td>Wed, 27 Nov 2019</td> <th>  Pseudo R-squ.:     </th>  <td>0.1091</td>  \n",
       "</tr>\n",
       "<tr>\n",
       "  <th>Time:</th>                <td>11:01:41</td>     <th>  Log-Likelihood:    </th> <td> -814.06</td> \n",
       "</tr>\n",
       "<tr>\n",
       "  <th>converged:</th>             <td>True</td>       <th>  LL-Null:           </th> <td> -913.74</td> \n",
       "</tr>\n",
       "<tr>\n",
       "  <th>Covariance Type:</th>     <td>nonrobust</td>    <th>  LLR p-value:       </th> <td>5.803e-43</td>\n",
       "</tr>\n",
       "</table>\n",
       "<table class=\"simpletable\">\n",
       "<tr>\n",
       "    <td></td>       <th>coef</th>     <th>std err</th>      <th>z</th>      <th>P>|z|</th>  <th>[0.025</th>    <th>0.975]</th>  \n",
       "</tr>\n",
       "<tr>\n",
       "  <th>const</th> <td>    1.2506</td> <td>    0.067</td> <td>   18.579</td> <td> 0.000</td> <td>    1.119</td> <td>    1.382</td>\n",
       "</tr>\n",
       "<tr>\n",
       "  <th>x1</th>    <td>    0.4998</td> <td>    0.067</td> <td>    7.501</td> <td> 0.000</td> <td>    0.369</td> <td>    0.630</td>\n",
       "</tr>\n",
       "<tr>\n",
       "  <th>x2</th>    <td>    0.6356</td> <td>    0.076</td> <td>    8.334</td> <td> 0.000</td> <td>    0.486</td> <td>    0.785</td>\n",
       "</tr>\n",
       "<tr>\n",
       "  <th>x3</th>    <td>    0.5080</td> <td>    0.085</td> <td>    5.979</td> <td> 0.000</td> <td>    0.341</td> <td>    0.675</td>\n",
       "</tr>\n",
       "</table>"
      ],
      "text/plain": [
       "<class 'statsmodels.iolib.summary.Summary'>\n",
       "\"\"\"\n",
       "                           Logit Regression Results                           \n",
       "==============================================================================\n",
       "Dep. Variable:                   vote   No. Observations:                 1600\n",
       "Model:                          Logit   Df Residuals:                     1596\n",
       "Method:                           MLE   Df Model:                            3\n",
       "Date:                Wed, 27 Nov 2019   Pseudo R-squ.:                  0.1091\n",
       "Time:                        11:01:41   Log-Likelihood:                -814.06\n",
       "converged:                       True   LL-Null:                       -913.74\n",
       "Covariance Type:            nonrobust   LLR p-value:                 5.803e-43\n",
       "==============================================================================\n",
       "                 coef    std err          z      P>|z|      [0.025      0.975]\n",
       "------------------------------------------------------------------------------\n",
       "const          1.2506      0.067     18.579      0.000       1.119       1.382\n",
       "x1             0.4998      0.067      7.501      0.000       0.369       0.630\n",
       "x2             0.6356      0.076      8.334      0.000       0.486       0.785\n",
       "x3             0.5080      0.085      5.979      0.000       0.341       0.675\n",
       "==============================================================================\n",
       "\"\"\""
      ]
     },
     "execution_count": 350,
     "metadata": {},
     "output_type": "execute_result"
    }
   ],
   "source": [
    "import statsmodels.discrete.discrete_model as sm\n",
    "sm.Logit(y,X).fit().summary()"
   ]
  },
  {
   "cell_type": "markdown",
   "metadata": {},
   "source": [
    "Interestingly, we hardly did better!"
   ]
  },
  {
   "cell_type": "code",
   "execution_count": null,
   "metadata": {},
   "outputs": [],
   "source": []
  }
 ],
 "metadata": {
  "kernelspec": {
   "display_name": "Python 3",
   "language": "python",
   "name": "python3"
  },
  "language_info": {
   "codemirror_mode": {
    "name": "ipython",
    "version": 3
   },
   "file_extension": ".py",
   "mimetype": "text/x-python",
   "name": "python",
   "nbconvert_exporter": "python",
   "pygments_lexer": "ipython3",
   "version": "3.7.3"
  },
  "toc": {
   "base_numbering": 1,
   "nav_menu": {},
   "number_sections": false,
   "sideBar": false,
   "skip_h1_title": false,
   "title_cell": "Table of Contents",
   "title_sidebar": "Contents",
   "toc_cell": false,
   "toc_position": {},
   "toc_section_display": true,
   "toc_window_display": false
  }
 },
 "nbformat": 4,
 "nbformat_minor": 2
}
